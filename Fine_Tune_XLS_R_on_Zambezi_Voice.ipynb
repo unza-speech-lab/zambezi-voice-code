{
  "nbformat": 4,
  "nbformat_minor": 0,
  "metadata": {
    "accelerator": "GPU",
    "colab": {
      "provenance": [],
      "machine_shape": "hm"
    },
    "kernelspec": {
      "display_name": "Python 3",
      "name": "python3"
    },
    "widgets": {
      "application/vnd.jupyter.widget-state+json": {
        "af65c115ffcc4a49a4de5e5043d6c8ae": {
          "model_module": "@jupyter-widgets/controls",
          "model_name": "VBoxModel",
          "model_module_version": "1.5.0",
          "state": {
            "_dom_classes": [],
            "_model_module": "@jupyter-widgets/controls",
            "_model_module_version": "1.5.0",
            "_model_name": "VBoxModel",
            "_view_count": null,
            "_view_module": "@jupyter-widgets/controls",
            "_view_module_version": "1.5.0",
            "_view_name": "VBoxView",
            "box_style": "",
            "children": [
              "IPY_MODEL_fa7634152b8340f0b67a8fe9312ce02c",
              "IPY_MODEL_f7f6cc9e944842c38317bb30bbebd128",
              "IPY_MODEL_ac22a259cc46408db50163f2abb38dfa",
              "IPY_MODEL_bbffec7fb34d4eff8830d08dce29de89",
              "IPY_MODEL_dc8f1a7ec9fa4032b3a7561cd44f24ff"
            ],
            "layout": "IPY_MODEL_618b9400491e48d9898d9b5ca224717a"
          }
        },
        "fa7634152b8340f0b67a8fe9312ce02c": {
          "model_module": "@jupyter-widgets/controls",
          "model_name": "HTMLModel",
          "model_module_version": "1.5.0",
          "state": {
            "_dom_classes": [],
            "_model_module": "@jupyter-widgets/controls",
            "_model_module_version": "1.5.0",
            "_model_name": "HTMLModel",
            "_view_count": null,
            "_view_module": "@jupyter-widgets/controls",
            "_view_module_version": "1.5.0",
            "_view_name": "HTMLView",
            "description": "",
            "description_tooltip": null,
            "layout": "IPY_MODEL_ee22c19f464b461c93e130cf187b0a17",
            "placeholder": "​",
            "style": "IPY_MODEL_3165afac95da4c84ad55ad37fcdabf5e",
            "value": "<center> <img\nsrc=https://huggingface.co/front/assets/huggingface_logo-noborder.svg\nalt='Hugging Face'> <br> Copy a token from <a\nhref=\"https://huggingface.co/settings/tokens\" target=\"_blank\">your Hugging Face\ntokens page</a> and paste it below. <br> Immediately click login after copying\nyour token or it might be stored in plain text in this notebook file. </center>"
          }
        },
        "f7f6cc9e944842c38317bb30bbebd128": {
          "model_module": "@jupyter-widgets/controls",
          "model_name": "PasswordModel",
          "model_module_version": "1.5.0",
          "state": {
            "_dom_classes": [],
            "_model_module": "@jupyter-widgets/controls",
            "_model_module_version": "1.5.0",
            "_model_name": "PasswordModel",
            "_view_count": null,
            "_view_module": "@jupyter-widgets/controls",
            "_view_module_version": "1.5.0",
            "_view_name": "PasswordView",
            "continuous_update": true,
            "description": "Token:",
            "description_tooltip": null,
            "disabled": false,
            "layout": "IPY_MODEL_c62f6e75231a4b459f52ad5f884d15b4",
            "placeholder": "​",
            "style": "IPY_MODEL_d9f6dcd76c4746979db1e005a45aecf7",
            "value": ""
          }
        },
        "ac22a259cc46408db50163f2abb38dfa": {
          "model_module": "@jupyter-widgets/controls",
          "model_name": "CheckboxModel",
          "model_module_version": "1.5.0",
          "state": {
            "_dom_classes": [],
            "_model_module": "@jupyter-widgets/controls",
            "_model_module_version": "1.5.0",
            "_model_name": "CheckboxModel",
            "_view_count": null,
            "_view_module": "@jupyter-widgets/controls",
            "_view_module_version": "1.5.0",
            "_view_name": "CheckboxView",
            "description": "Add token as git credential?",
            "description_tooltip": null,
            "disabled": false,
            "indent": true,
            "layout": "IPY_MODEL_9be959df53364184a63de53bf0b6d4f8",
            "style": "IPY_MODEL_94bf115f165c4966b42f0f91674e178b",
            "value": true
          }
        },
        "bbffec7fb34d4eff8830d08dce29de89": {
          "model_module": "@jupyter-widgets/controls",
          "model_name": "ButtonModel",
          "model_module_version": "1.5.0",
          "state": {
            "_dom_classes": [],
            "_model_module": "@jupyter-widgets/controls",
            "_model_module_version": "1.5.0",
            "_model_name": "ButtonModel",
            "_view_count": null,
            "_view_module": "@jupyter-widgets/controls",
            "_view_module_version": "1.5.0",
            "_view_name": "ButtonView",
            "button_style": "",
            "description": "Login",
            "disabled": false,
            "icon": "",
            "layout": "IPY_MODEL_59b040a51ada4503a7691fc47804f364",
            "style": "IPY_MODEL_7b758eeefd654de0a2d1812171c40fd7",
            "tooltip": ""
          }
        },
        "dc8f1a7ec9fa4032b3a7561cd44f24ff": {
          "model_module": "@jupyter-widgets/controls",
          "model_name": "HTMLModel",
          "model_module_version": "1.5.0",
          "state": {
            "_dom_classes": [],
            "_model_module": "@jupyter-widgets/controls",
            "_model_module_version": "1.5.0",
            "_model_name": "HTMLModel",
            "_view_count": null,
            "_view_module": "@jupyter-widgets/controls",
            "_view_module_version": "1.5.0",
            "_view_name": "HTMLView",
            "description": "",
            "description_tooltip": null,
            "layout": "IPY_MODEL_8aea7eda0ba24394ac706ff002a506b6",
            "placeholder": "​",
            "style": "IPY_MODEL_41ad91af60f04c869108ecdff21c5271",
            "value": "\n<b>Pro Tip:</b> If you don't already have one, you can create a dedicated\n'notebooks' token with 'write' access, that you can then easily reuse for all\nnotebooks. </center>"
          }
        },
        "618b9400491e48d9898d9b5ca224717a": {
          "model_module": "@jupyter-widgets/base",
          "model_name": "LayoutModel",
          "model_module_version": "1.2.0",
          "state": {
            "_model_module": "@jupyter-widgets/base",
            "_model_module_version": "1.2.0",
            "_model_name": "LayoutModel",
            "_view_count": null,
            "_view_module": "@jupyter-widgets/base",
            "_view_module_version": "1.2.0",
            "_view_name": "LayoutView",
            "align_content": null,
            "align_items": "center",
            "align_self": null,
            "border": null,
            "bottom": null,
            "display": "flex",
            "flex": null,
            "flex_flow": "column",
            "grid_area": null,
            "grid_auto_columns": null,
            "grid_auto_flow": null,
            "grid_auto_rows": null,
            "grid_column": null,
            "grid_gap": null,
            "grid_row": null,
            "grid_template_areas": null,
            "grid_template_columns": null,
            "grid_template_rows": null,
            "height": null,
            "justify_content": null,
            "justify_items": null,
            "left": null,
            "margin": null,
            "max_height": null,
            "max_width": null,
            "min_height": null,
            "min_width": null,
            "object_fit": null,
            "object_position": null,
            "order": null,
            "overflow": null,
            "overflow_x": null,
            "overflow_y": null,
            "padding": null,
            "right": null,
            "top": null,
            "visibility": null,
            "width": "50%"
          }
        },
        "ee22c19f464b461c93e130cf187b0a17": {
          "model_module": "@jupyter-widgets/base",
          "model_name": "LayoutModel",
          "model_module_version": "1.2.0",
          "state": {
            "_model_module": "@jupyter-widgets/base",
            "_model_module_version": "1.2.0",
            "_model_name": "LayoutModel",
            "_view_count": null,
            "_view_module": "@jupyter-widgets/base",
            "_view_module_version": "1.2.0",
            "_view_name": "LayoutView",
            "align_content": null,
            "align_items": null,
            "align_self": null,
            "border": null,
            "bottom": null,
            "display": null,
            "flex": null,
            "flex_flow": null,
            "grid_area": null,
            "grid_auto_columns": null,
            "grid_auto_flow": null,
            "grid_auto_rows": null,
            "grid_column": null,
            "grid_gap": null,
            "grid_row": null,
            "grid_template_areas": null,
            "grid_template_columns": null,
            "grid_template_rows": null,
            "height": null,
            "justify_content": null,
            "justify_items": null,
            "left": null,
            "margin": null,
            "max_height": null,
            "max_width": null,
            "min_height": null,
            "min_width": null,
            "object_fit": null,
            "object_position": null,
            "order": null,
            "overflow": null,
            "overflow_x": null,
            "overflow_y": null,
            "padding": null,
            "right": null,
            "top": null,
            "visibility": null,
            "width": null
          }
        },
        "3165afac95da4c84ad55ad37fcdabf5e": {
          "model_module": "@jupyter-widgets/controls",
          "model_name": "DescriptionStyleModel",
          "model_module_version": "1.5.0",
          "state": {
            "_model_module": "@jupyter-widgets/controls",
            "_model_module_version": "1.5.0",
            "_model_name": "DescriptionStyleModel",
            "_view_count": null,
            "_view_module": "@jupyter-widgets/base",
            "_view_module_version": "1.2.0",
            "_view_name": "StyleView",
            "description_width": ""
          }
        },
        "c62f6e75231a4b459f52ad5f884d15b4": {
          "model_module": "@jupyter-widgets/base",
          "model_name": "LayoutModel",
          "model_module_version": "1.2.0",
          "state": {
            "_model_module": "@jupyter-widgets/base",
            "_model_module_version": "1.2.0",
            "_model_name": "LayoutModel",
            "_view_count": null,
            "_view_module": "@jupyter-widgets/base",
            "_view_module_version": "1.2.0",
            "_view_name": "LayoutView",
            "align_content": null,
            "align_items": null,
            "align_self": null,
            "border": null,
            "bottom": null,
            "display": null,
            "flex": null,
            "flex_flow": null,
            "grid_area": null,
            "grid_auto_columns": null,
            "grid_auto_flow": null,
            "grid_auto_rows": null,
            "grid_column": null,
            "grid_gap": null,
            "grid_row": null,
            "grid_template_areas": null,
            "grid_template_columns": null,
            "grid_template_rows": null,
            "height": null,
            "justify_content": null,
            "justify_items": null,
            "left": null,
            "margin": null,
            "max_height": null,
            "max_width": null,
            "min_height": null,
            "min_width": null,
            "object_fit": null,
            "object_position": null,
            "order": null,
            "overflow": null,
            "overflow_x": null,
            "overflow_y": null,
            "padding": null,
            "right": null,
            "top": null,
            "visibility": null,
            "width": null
          }
        },
        "d9f6dcd76c4746979db1e005a45aecf7": {
          "model_module": "@jupyter-widgets/controls",
          "model_name": "DescriptionStyleModel",
          "model_module_version": "1.5.0",
          "state": {
            "_model_module": "@jupyter-widgets/controls",
            "_model_module_version": "1.5.0",
            "_model_name": "DescriptionStyleModel",
            "_view_count": null,
            "_view_module": "@jupyter-widgets/base",
            "_view_module_version": "1.2.0",
            "_view_name": "StyleView",
            "description_width": ""
          }
        },
        "9be959df53364184a63de53bf0b6d4f8": {
          "model_module": "@jupyter-widgets/base",
          "model_name": "LayoutModel",
          "model_module_version": "1.2.0",
          "state": {
            "_model_module": "@jupyter-widgets/base",
            "_model_module_version": "1.2.0",
            "_model_name": "LayoutModel",
            "_view_count": null,
            "_view_module": "@jupyter-widgets/base",
            "_view_module_version": "1.2.0",
            "_view_name": "LayoutView",
            "align_content": null,
            "align_items": null,
            "align_self": null,
            "border": null,
            "bottom": null,
            "display": null,
            "flex": null,
            "flex_flow": null,
            "grid_area": null,
            "grid_auto_columns": null,
            "grid_auto_flow": null,
            "grid_auto_rows": null,
            "grid_column": null,
            "grid_gap": null,
            "grid_row": null,
            "grid_template_areas": null,
            "grid_template_columns": null,
            "grid_template_rows": null,
            "height": null,
            "justify_content": null,
            "justify_items": null,
            "left": null,
            "margin": null,
            "max_height": null,
            "max_width": null,
            "min_height": null,
            "min_width": null,
            "object_fit": null,
            "object_position": null,
            "order": null,
            "overflow": null,
            "overflow_x": null,
            "overflow_y": null,
            "padding": null,
            "right": null,
            "top": null,
            "visibility": null,
            "width": null
          }
        },
        "94bf115f165c4966b42f0f91674e178b": {
          "model_module": "@jupyter-widgets/controls",
          "model_name": "DescriptionStyleModel",
          "model_module_version": "1.5.0",
          "state": {
            "_model_module": "@jupyter-widgets/controls",
            "_model_module_version": "1.5.0",
            "_model_name": "DescriptionStyleModel",
            "_view_count": null,
            "_view_module": "@jupyter-widgets/base",
            "_view_module_version": "1.2.0",
            "_view_name": "StyleView",
            "description_width": ""
          }
        },
        "59b040a51ada4503a7691fc47804f364": {
          "model_module": "@jupyter-widgets/base",
          "model_name": "LayoutModel",
          "model_module_version": "1.2.0",
          "state": {
            "_model_module": "@jupyter-widgets/base",
            "_model_module_version": "1.2.0",
            "_model_name": "LayoutModel",
            "_view_count": null,
            "_view_module": "@jupyter-widgets/base",
            "_view_module_version": "1.2.0",
            "_view_name": "LayoutView",
            "align_content": null,
            "align_items": null,
            "align_self": null,
            "border": null,
            "bottom": null,
            "display": null,
            "flex": null,
            "flex_flow": null,
            "grid_area": null,
            "grid_auto_columns": null,
            "grid_auto_flow": null,
            "grid_auto_rows": null,
            "grid_column": null,
            "grid_gap": null,
            "grid_row": null,
            "grid_template_areas": null,
            "grid_template_columns": null,
            "grid_template_rows": null,
            "height": null,
            "justify_content": null,
            "justify_items": null,
            "left": null,
            "margin": null,
            "max_height": null,
            "max_width": null,
            "min_height": null,
            "min_width": null,
            "object_fit": null,
            "object_position": null,
            "order": null,
            "overflow": null,
            "overflow_x": null,
            "overflow_y": null,
            "padding": null,
            "right": null,
            "top": null,
            "visibility": null,
            "width": null
          }
        },
        "7b758eeefd654de0a2d1812171c40fd7": {
          "model_module": "@jupyter-widgets/controls",
          "model_name": "ButtonStyleModel",
          "model_module_version": "1.5.0",
          "state": {
            "_model_module": "@jupyter-widgets/controls",
            "_model_module_version": "1.5.0",
            "_model_name": "ButtonStyleModel",
            "_view_count": null,
            "_view_module": "@jupyter-widgets/base",
            "_view_module_version": "1.2.0",
            "_view_name": "StyleView",
            "button_color": null,
            "font_weight": ""
          }
        },
        "8aea7eda0ba24394ac706ff002a506b6": {
          "model_module": "@jupyter-widgets/base",
          "model_name": "LayoutModel",
          "model_module_version": "1.2.0",
          "state": {
            "_model_module": "@jupyter-widgets/base",
            "_model_module_version": "1.2.0",
            "_model_name": "LayoutModel",
            "_view_count": null,
            "_view_module": "@jupyter-widgets/base",
            "_view_module_version": "1.2.0",
            "_view_name": "LayoutView",
            "align_content": null,
            "align_items": null,
            "align_self": null,
            "border": null,
            "bottom": null,
            "display": null,
            "flex": null,
            "flex_flow": null,
            "grid_area": null,
            "grid_auto_columns": null,
            "grid_auto_flow": null,
            "grid_auto_rows": null,
            "grid_column": null,
            "grid_gap": null,
            "grid_row": null,
            "grid_template_areas": null,
            "grid_template_columns": null,
            "grid_template_rows": null,
            "height": null,
            "justify_content": null,
            "justify_items": null,
            "left": null,
            "margin": null,
            "max_height": null,
            "max_width": null,
            "min_height": null,
            "min_width": null,
            "object_fit": null,
            "object_position": null,
            "order": null,
            "overflow": null,
            "overflow_x": null,
            "overflow_y": null,
            "padding": null,
            "right": null,
            "top": null,
            "visibility": null,
            "width": null
          }
        },
        "41ad91af60f04c869108ecdff21c5271": {
          "model_module": "@jupyter-widgets/controls",
          "model_name": "DescriptionStyleModel",
          "model_module_version": "1.5.0",
          "state": {
            "_model_module": "@jupyter-widgets/controls",
            "_model_module_version": "1.5.0",
            "_model_name": "DescriptionStyleModel",
            "_view_count": null,
            "_view_module": "@jupyter-widgets/base",
            "_view_module_version": "1.2.0",
            "_view_name": "StyleView",
            "description_width": ""
          }
        },
        "f7b841b15a094a04b2b829ec25929365": {
          "model_module": "@jupyter-widgets/controls",
          "model_name": "HBoxModel",
          "model_module_version": "1.5.0",
          "state": {
            "_dom_classes": [],
            "_model_module": "@jupyter-widgets/controls",
            "_model_module_version": "1.5.0",
            "_model_name": "HBoxModel",
            "_view_count": null,
            "_view_module": "@jupyter-widgets/controls",
            "_view_module_version": "1.5.0",
            "_view_name": "HBoxView",
            "box_style": "",
            "children": [
              "IPY_MODEL_1f5fef7ec5ff4072860c4130443667e9",
              "IPY_MODEL_fb812a08d04341509344bb997eeafe77",
              "IPY_MODEL_fabd7c83041b4b82bf746ff1cb1759ef"
            ],
            "layout": "IPY_MODEL_25dfc50bba1a48ad99dc07580ef1cee1"
          }
        },
        "1f5fef7ec5ff4072860c4130443667e9": {
          "model_module": "@jupyter-widgets/controls",
          "model_name": "HTMLModel",
          "model_module_version": "1.5.0",
          "state": {
            "_dom_classes": [],
            "_model_module": "@jupyter-widgets/controls",
            "_model_module_version": "1.5.0",
            "_model_name": "HTMLModel",
            "_view_count": null,
            "_view_module": "@jupyter-widgets/controls",
            "_view_module_version": "1.5.0",
            "_view_name": "HTMLView",
            "description": "",
            "description_tooltip": null,
            "layout": "IPY_MODEL_adbb633267944fddbb21c27f177d047d",
            "placeholder": "​",
            "style": "IPY_MODEL_c22c6ba22e5f4c07aacce501c377e609",
            "value": "Downloading data files: 100%"
          }
        },
        "fb812a08d04341509344bb997eeafe77": {
          "model_module": "@jupyter-widgets/controls",
          "model_name": "FloatProgressModel",
          "model_module_version": "1.5.0",
          "state": {
            "_dom_classes": [],
            "_model_module": "@jupyter-widgets/controls",
            "_model_module_version": "1.5.0",
            "_model_name": "FloatProgressModel",
            "_view_count": null,
            "_view_module": "@jupyter-widgets/controls",
            "_view_module_version": "1.5.0",
            "_view_name": "ProgressView",
            "bar_style": "success",
            "description": "",
            "description_tooltip": null,
            "layout": "IPY_MODEL_a97a92ddf396454099fc531295582456",
            "max": 1,
            "min": 0,
            "orientation": "horizontal",
            "style": "IPY_MODEL_b158ac382c30408b838703707c882043",
            "value": 1
          }
        },
        "fabd7c83041b4b82bf746ff1cb1759ef": {
          "model_module": "@jupyter-widgets/controls",
          "model_name": "HTMLModel",
          "model_module_version": "1.5.0",
          "state": {
            "_dom_classes": [],
            "_model_module": "@jupyter-widgets/controls",
            "_model_module_version": "1.5.0",
            "_model_name": "HTMLModel",
            "_view_count": null,
            "_view_module": "@jupyter-widgets/controls",
            "_view_module_version": "1.5.0",
            "_view_name": "HTMLView",
            "description": "",
            "description_tooltip": null,
            "layout": "IPY_MODEL_60872a6556c747fa8a3e342a35d88e20",
            "placeholder": "​",
            "style": "IPY_MODEL_a548481319ea401f91ffa703d61934e2",
            "value": " 1/1 [00:00&lt;00:00, 33.33it/s]"
          }
        },
        "25dfc50bba1a48ad99dc07580ef1cee1": {
          "model_module": "@jupyter-widgets/base",
          "model_name": "LayoutModel",
          "model_module_version": "1.2.0",
          "state": {
            "_model_module": "@jupyter-widgets/base",
            "_model_module_version": "1.2.0",
            "_model_name": "LayoutModel",
            "_view_count": null,
            "_view_module": "@jupyter-widgets/base",
            "_view_module_version": "1.2.0",
            "_view_name": "LayoutView",
            "align_content": null,
            "align_items": null,
            "align_self": null,
            "border": null,
            "bottom": null,
            "display": null,
            "flex": null,
            "flex_flow": null,
            "grid_area": null,
            "grid_auto_columns": null,
            "grid_auto_flow": null,
            "grid_auto_rows": null,
            "grid_column": null,
            "grid_gap": null,
            "grid_row": null,
            "grid_template_areas": null,
            "grid_template_columns": null,
            "grid_template_rows": null,
            "height": null,
            "justify_content": null,
            "justify_items": null,
            "left": null,
            "margin": null,
            "max_height": null,
            "max_width": null,
            "min_height": null,
            "min_width": null,
            "object_fit": null,
            "object_position": null,
            "order": null,
            "overflow": null,
            "overflow_x": null,
            "overflow_y": null,
            "padding": null,
            "right": null,
            "top": null,
            "visibility": null,
            "width": null
          }
        },
        "adbb633267944fddbb21c27f177d047d": {
          "model_module": "@jupyter-widgets/base",
          "model_name": "LayoutModel",
          "model_module_version": "1.2.0",
          "state": {
            "_model_module": "@jupyter-widgets/base",
            "_model_module_version": "1.2.0",
            "_model_name": "LayoutModel",
            "_view_count": null,
            "_view_module": "@jupyter-widgets/base",
            "_view_module_version": "1.2.0",
            "_view_name": "LayoutView",
            "align_content": null,
            "align_items": null,
            "align_self": null,
            "border": null,
            "bottom": null,
            "display": null,
            "flex": null,
            "flex_flow": null,
            "grid_area": null,
            "grid_auto_columns": null,
            "grid_auto_flow": null,
            "grid_auto_rows": null,
            "grid_column": null,
            "grid_gap": null,
            "grid_row": null,
            "grid_template_areas": null,
            "grid_template_columns": null,
            "grid_template_rows": null,
            "height": null,
            "justify_content": null,
            "justify_items": null,
            "left": null,
            "margin": null,
            "max_height": null,
            "max_width": null,
            "min_height": null,
            "min_width": null,
            "object_fit": null,
            "object_position": null,
            "order": null,
            "overflow": null,
            "overflow_x": null,
            "overflow_y": null,
            "padding": null,
            "right": null,
            "top": null,
            "visibility": null,
            "width": null
          }
        },
        "c22c6ba22e5f4c07aacce501c377e609": {
          "model_module": "@jupyter-widgets/controls",
          "model_name": "DescriptionStyleModel",
          "model_module_version": "1.5.0",
          "state": {
            "_model_module": "@jupyter-widgets/controls",
            "_model_module_version": "1.5.0",
            "_model_name": "DescriptionStyleModel",
            "_view_count": null,
            "_view_module": "@jupyter-widgets/base",
            "_view_module_version": "1.2.0",
            "_view_name": "StyleView",
            "description_width": ""
          }
        },
        "a97a92ddf396454099fc531295582456": {
          "model_module": "@jupyter-widgets/base",
          "model_name": "LayoutModel",
          "model_module_version": "1.2.0",
          "state": {
            "_model_module": "@jupyter-widgets/base",
            "_model_module_version": "1.2.0",
            "_model_name": "LayoutModel",
            "_view_count": null,
            "_view_module": "@jupyter-widgets/base",
            "_view_module_version": "1.2.0",
            "_view_name": "LayoutView",
            "align_content": null,
            "align_items": null,
            "align_self": null,
            "border": null,
            "bottom": null,
            "display": null,
            "flex": null,
            "flex_flow": null,
            "grid_area": null,
            "grid_auto_columns": null,
            "grid_auto_flow": null,
            "grid_auto_rows": null,
            "grid_column": null,
            "grid_gap": null,
            "grid_row": null,
            "grid_template_areas": null,
            "grid_template_columns": null,
            "grid_template_rows": null,
            "height": null,
            "justify_content": null,
            "justify_items": null,
            "left": null,
            "margin": null,
            "max_height": null,
            "max_width": null,
            "min_height": null,
            "min_width": null,
            "object_fit": null,
            "object_position": null,
            "order": null,
            "overflow": null,
            "overflow_x": null,
            "overflow_y": null,
            "padding": null,
            "right": null,
            "top": null,
            "visibility": null,
            "width": null
          }
        },
        "b158ac382c30408b838703707c882043": {
          "model_module": "@jupyter-widgets/controls",
          "model_name": "ProgressStyleModel",
          "model_module_version": "1.5.0",
          "state": {
            "_model_module": "@jupyter-widgets/controls",
            "_model_module_version": "1.5.0",
            "_model_name": "ProgressStyleModel",
            "_view_count": null,
            "_view_module": "@jupyter-widgets/base",
            "_view_module_version": "1.2.0",
            "_view_name": "StyleView",
            "bar_color": null,
            "description_width": ""
          }
        },
        "60872a6556c747fa8a3e342a35d88e20": {
          "model_module": "@jupyter-widgets/base",
          "model_name": "LayoutModel",
          "model_module_version": "1.2.0",
          "state": {
            "_model_module": "@jupyter-widgets/base",
            "_model_module_version": "1.2.0",
            "_model_name": "LayoutModel",
            "_view_count": null,
            "_view_module": "@jupyter-widgets/base",
            "_view_module_version": "1.2.0",
            "_view_name": "LayoutView",
            "align_content": null,
            "align_items": null,
            "align_self": null,
            "border": null,
            "bottom": null,
            "display": null,
            "flex": null,
            "flex_flow": null,
            "grid_area": null,
            "grid_auto_columns": null,
            "grid_auto_flow": null,
            "grid_auto_rows": null,
            "grid_column": null,
            "grid_gap": null,
            "grid_row": null,
            "grid_template_areas": null,
            "grid_template_columns": null,
            "grid_template_rows": null,
            "height": null,
            "justify_content": null,
            "justify_items": null,
            "left": null,
            "margin": null,
            "max_height": null,
            "max_width": null,
            "min_height": null,
            "min_width": null,
            "object_fit": null,
            "object_position": null,
            "order": null,
            "overflow": null,
            "overflow_x": null,
            "overflow_y": null,
            "padding": null,
            "right": null,
            "top": null,
            "visibility": null,
            "width": null
          }
        },
        "a548481319ea401f91ffa703d61934e2": {
          "model_module": "@jupyter-widgets/controls",
          "model_name": "DescriptionStyleModel",
          "model_module_version": "1.5.0",
          "state": {
            "_model_module": "@jupyter-widgets/controls",
            "_model_module_version": "1.5.0",
            "_model_name": "DescriptionStyleModel",
            "_view_count": null,
            "_view_module": "@jupyter-widgets/base",
            "_view_module_version": "1.2.0",
            "_view_name": "StyleView",
            "description_width": ""
          }
        },
        "0d8c950b50f4461bbf702c2f3a3672a7": {
          "model_module": "@jupyter-widgets/controls",
          "model_name": "HBoxModel",
          "model_module_version": "1.5.0",
          "state": {
            "_dom_classes": [],
            "_model_module": "@jupyter-widgets/controls",
            "_model_module_version": "1.5.0",
            "_model_name": "HBoxModel",
            "_view_count": null,
            "_view_module": "@jupyter-widgets/controls",
            "_view_module_version": "1.5.0",
            "_view_name": "HBoxView",
            "box_style": "",
            "children": [
              "IPY_MODEL_799f4f77d8a34ceea56d4f58333310f8",
              "IPY_MODEL_50090ca94fea41a7a95a4af1bc1ffc7e",
              "IPY_MODEL_6a62e63f1af94c5e9d80ddb5fa918225"
            ],
            "layout": "IPY_MODEL_0c375ce21b734bf98e03bc97458710b8"
          }
        },
        "799f4f77d8a34ceea56d4f58333310f8": {
          "model_module": "@jupyter-widgets/controls",
          "model_name": "HTMLModel",
          "model_module_version": "1.5.0",
          "state": {
            "_dom_classes": [],
            "_model_module": "@jupyter-widgets/controls",
            "_model_module_version": "1.5.0",
            "_model_name": "HTMLModel",
            "_view_count": null,
            "_view_module": "@jupyter-widgets/controls",
            "_view_module_version": "1.5.0",
            "_view_name": "HTMLView",
            "description": "",
            "description_tooltip": null,
            "layout": "IPY_MODEL_a6e258268d364076aa876ea62b2d62f7",
            "placeholder": "​",
            "style": "IPY_MODEL_387d276bcbac455190441169efd982a9",
            "value": "Extracting data files: 100%"
          }
        },
        "50090ca94fea41a7a95a4af1bc1ffc7e": {
          "model_module": "@jupyter-widgets/controls",
          "model_name": "FloatProgressModel",
          "model_module_version": "1.5.0",
          "state": {
            "_dom_classes": [],
            "_model_module": "@jupyter-widgets/controls",
            "_model_module_version": "1.5.0",
            "_model_name": "FloatProgressModel",
            "_view_count": null,
            "_view_module": "@jupyter-widgets/controls",
            "_view_module_version": "1.5.0",
            "_view_name": "ProgressView",
            "bar_style": "success",
            "description": "",
            "description_tooltip": null,
            "layout": "IPY_MODEL_dd5f1aa3d4dd4b56b955aa522f76f8cc",
            "max": 1,
            "min": 0,
            "orientation": "horizontal",
            "style": "IPY_MODEL_c1a7dabf558e4e68a250b300b813a416",
            "value": 1
          }
        },
        "6a62e63f1af94c5e9d80ddb5fa918225": {
          "model_module": "@jupyter-widgets/controls",
          "model_name": "HTMLModel",
          "model_module_version": "1.5.0",
          "state": {
            "_dom_classes": [],
            "_model_module": "@jupyter-widgets/controls",
            "_model_module_version": "1.5.0",
            "_model_name": "HTMLModel",
            "_view_count": null,
            "_view_module": "@jupyter-widgets/controls",
            "_view_module_version": "1.5.0",
            "_view_name": "HTMLView",
            "description": "",
            "description_tooltip": null,
            "layout": "IPY_MODEL_fe4dc2f78c4c460da2fb23d25342de53",
            "placeholder": "​",
            "style": "IPY_MODEL_39e264ec4804400c902b36c7ca6ca519",
            "value": " 1/1 [00:00&lt;00:00, 28.93it/s]"
          }
        },
        "0c375ce21b734bf98e03bc97458710b8": {
          "model_module": "@jupyter-widgets/base",
          "model_name": "LayoutModel",
          "model_module_version": "1.2.0",
          "state": {
            "_model_module": "@jupyter-widgets/base",
            "_model_module_version": "1.2.0",
            "_model_name": "LayoutModel",
            "_view_count": null,
            "_view_module": "@jupyter-widgets/base",
            "_view_module_version": "1.2.0",
            "_view_name": "LayoutView",
            "align_content": null,
            "align_items": null,
            "align_self": null,
            "border": null,
            "bottom": null,
            "display": null,
            "flex": null,
            "flex_flow": null,
            "grid_area": null,
            "grid_auto_columns": null,
            "grid_auto_flow": null,
            "grid_auto_rows": null,
            "grid_column": null,
            "grid_gap": null,
            "grid_row": null,
            "grid_template_areas": null,
            "grid_template_columns": null,
            "grid_template_rows": null,
            "height": null,
            "justify_content": null,
            "justify_items": null,
            "left": null,
            "margin": null,
            "max_height": null,
            "max_width": null,
            "min_height": null,
            "min_width": null,
            "object_fit": null,
            "object_position": null,
            "order": null,
            "overflow": null,
            "overflow_x": null,
            "overflow_y": null,
            "padding": null,
            "right": null,
            "top": null,
            "visibility": null,
            "width": null
          }
        },
        "a6e258268d364076aa876ea62b2d62f7": {
          "model_module": "@jupyter-widgets/base",
          "model_name": "LayoutModel",
          "model_module_version": "1.2.0",
          "state": {
            "_model_module": "@jupyter-widgets/base",
            "_model_module_version": "1.2.0",
            "_model_name": "LayoutModel",
            "_view_count": null,
            "_view_module": "@jupyter-widgets/base",
            "_view_module_version": "1.2.0",
            "_view_name": "LayoutView",
            "align_content": null,
            "align_items": null,
            "align_self": null,
            "border": null,
            "bottom": null,
            "display": null,
            "flex": null,
            "flex_flow": null,
            "grid_area": null,
            "grid_auto_columns": null,
            "grid_auto_flow": null,
            "grid_auto_rows": null,
            "grid_column": null,
            "grid_gap": null,
            "grid_row": null,
            "grid_template_areas": null,
            "grid_template_columns": null,
            "grid_template_rows": null,
            "height": null,
            "justify_content": null,
            "justify_items": null,
            "left": null,
            "margin": null,
            "max_height": null,
            "max_width": null,
            "min_height": null,
            "min_width": null,
            "object_fit": null,
            "object_position": null,
            "order": null,
            "overflow": null,
            "overflow_x": null,
            "overflow_y": null,
            "padding": null,
            "right": null,
            "top": null,
            "visibility": null,
            "width": null
          }
        },
        "387d276bcbac455190441169efd982a9": {
          "model_module": "@jupyter-widgets/controls",
          "model_name": "DescriptionStyleModel",
          "model_module_version": "1.5.0",
          "state": {
            "_model_module": "@jupyter-widgets/controls",
            "_model_module_version": "1.5.0",
            "_model_name": "DescriptionStyleModel",
            "_view_count": null,
            "_view_module": "@jupyter-widgets/base",
            "_view_module_version": "1.2.0",
            "_view_name": "StyleView",
            "description_width": ""
          }
        },
        "dd5f1aa3d4dd4b56b955aa522f76f8cc": {
          "model_module": "@jupyter-widgets/base",
          "model_name": "LayoutModel",
          "model_module_version": "1.2.0",
          "state": {
            "_model_module": "@jupyter-widgets/base",
            "_model_module_version": "1.2.0",
            "_model_name": "LayoutModel",
            "_view_count": null,
            "_view_module": "@jupyter-widgets/base",
            "_view_module_version": "1.2.0",
            "_view_name": "LayoutView",
            "align_content": null,
            "align_items": null,
            "align_self": null,
            "border": null,
            "bottom": null,
            "display": null,
            "flex": null,
            "flex_flow": null,
            "grid_area": null,
            "grid_auto_columns": null,
            "grid_auto_flow": null,
            "grid_auto_rows": null,
            "grid_column": null,
            "grid_gap": null,
            "grid_row": null,
            "grid_template_areas": null,
            "grid_template_columns": null,
            "grid_template_rows": null,
            "height": null,
            "justify_content": null,
            "justify_items": null,
            "left": null,
            "margin": null,
            "max_height": null,
            "max_width": null,
            "min_height": null,
            "min_width": null,
            "object_fit": null,
            "object_position": null,
            "order": null,
            "overflow": null,
            "overflow_x": null,
            "overflow_y": null,
            "padding": null,
            "right": null,
            "top": null,
            "visibility": null,
            "width": null
          }
        },
        "c1a7dabf558e4e68a250b300b813a416": {
          "model_module": "@jupyter-widgets/controls",
          "model_name": "ProgressStyleModel",
          "model_module_version": "1.5.0",
          "state": {
            "_model_module": "@jupyter-widgets/controls",
            "_model_module_version": "1.5.0",
            "_model_name": "ProgressStyleModel",
            "_view_count": null,
            "_view_module": "@jupyter-widgets/base",
            "_view_module_version": "1.2.0",
            "_view_name": "StyleView",
            "bar_color": null,
            "description_width": ""
          }
        },
        "fe4dc2f78c4c460da2fb23d25342de53": {
          "model_module": "@jupyter-widgets/base",
          "model_name": "LayoutModel",
          "model_module_version": "1.2.0",
          "state": {
            "_model_module": "@jupyter-widgets/base",
            "_model_module_version": "1.2.0",
            "_model_name": "LayoutModel",
            "_view_count": null,
            "_view_module": "@jupyter-widgets/base",
            "_view_module_version": "1.2.0",
            "_view_name": "LayoutView",
            "align_content": null,
            "align_items": null,
            "align_self": null,
            "border": null,
            "bottom": null,
            "display": null,
            "flex": null,
            "flex_flow": null,
            "grid_area": null,
            "grid_auto_columns": null,
            "grid_auto_flow": null,
            "grid_auto_rows": null,
            "grid_column": null,
            "grid_gap": null,
            "grid_row": null,
            "grid_template_areas": null,
            "grid_template_columns": null,
            "grid_template_rows": null,
            "height": null,
            "justify_content": null,
            "justify_items": null,
            "left": null,
            "margin": null,
            "max_height": null,
            "max_width": null,
            "min_height": null,
            "min_width": null,
            "object_fit": null,
            "object_position": null,
            "order": null,
            "overflow": null,
            "overflow_x": null,
            "overflow_y": null,
            "padding": null,
            "right": null,
            "top": null,
            "visibility": null,
            "width": null
          }
        },
        "39e264ec4804400c902b36c7ca6ca519": {
          "model_module": "@jupyter-widgets/controls",
          "model_name": "DescriptionStyleModel",
          "model_module_version": "1.5.0",
          "state": {
            "_model_module": "@jupyter-widgets/controls",
            "_model_module_version": "1.5.0",
            "_model_name": "DescriptionStyleModel",
            "_view_count": null,
            "_view_module": "@jupyter-widgets/base",
            "_view_module_version": "1.2.0",
            "_view_name": "StyleView",
            "description_width": ""
          }
        },
        "f7f7d230d10f4b7388492f1e24a5838d": {
          "model_module": "@jupyter-widgets/controls",
          "model_name": "HBoxModel",
          "model_module_version": "1.5.0",
          "state": {
            "_dom_classes": [],
            "_model_module": "@jupyter-widgets/controls",
            "_model_module_version": "1.5.0",
            "_model_name": "HBoxModel",
            "_view_count": null,
            "_view_module": "@jupyter-widgets/controls",
            "_view_module_version": "1.5.0",
            "_view_name": "HBoxView",
            "box_style": "",
            "children": [
              "IPY_MODEL_35659b05e38e4aefb534be9db4e6ac75",
              "IPY_MODEL_0f10e7ca76c24f52a22a5c3b0a9df64c",
              "IPY_MODEL_87515881839f421d9d53320eed13ba89"
            ],
            "layout": "IPY_MODEL_842bc60e72ee4ff39d0ce3dc004694dc"
          }
        },
        "35659b05e38e4aefb534be9db4e6ac75": {
          "model_module": "@jupyter-widgets/controls",
          "model_name": "HTMLModel",
          "model_module_version": "1.5.0",
          "state": {
            "_dom_classes": [],
            "_model_module": "@jupyter-widgets/controls",
            "_model_module_version": "1.5.0",
            "_model_name": "HTMLModel",
            "_view_count": null,
            "_view_module": "@jupyter-widgets/controls",
            "_view_module_version": "1.5.0",
            "_view_name": "HTMLView",
            "description": "",
            "description_tooltip": null,
            "layout": "IPY_MODEL_8624f8eaf3854369a784dbecb50407ca",
            "placeholder": "​",
            "style": "IPY_MODEL_f192e9b030624ef080ed469f804f4569",
            "value": "Generating train split: "
          }
        },
        "0f10e7ca76c24f52a22a5c3b0a9df64c": {
          "model_module": "@jupyter-widgets/controls",
          "model_name": "FloatProgressModel",
          "model_module_version": "1.5.0",
          "state": {
            "_dom_classes": [],
            "_model_module": "@jupyter-widgets/controls",
            "_model_module_version": "1.5.0",
            "_model_name": "FloatProgressModel",
            "_view_count": null,
            "_view_module": "@jupyter-widgets/controls",
            "_view_module_version": "1.5.0",
            "_view_name": "ProgressView",
            "bar_style": "info",
            "description": "",
            "description_tooltip": null,
            "layout": "IPY_MODEL_7f99cd0769664753b46c33a4789a582d",
            "max": 1,
            "min": 0,
            "orientation": "horizontal",
            "style": "IPY_MODEL_7a61c3b44e06471fb8601472c8ecf5ab",
            "value": 1
          }
        },
        "87515881839f421d9d53320eed13ba89": {
          "model_module": "@jupyter-widgets/controls",
          "model_name": "HTMLModel",
          "model_module_version": "1.5.0",
          "state": {
            "_dom_classes": [],
            "_model_module": "@jupyter-widgets/controls",
            "_model_module_version": "1.5.0",
            "_model_name": "HTMLModel",
            "_view_count": null,
            "_view_module": "@jupyter-widgets/controls",
            "_view_module_version": "1.5.0",
            "_view_name": "HTMLView",
            "description": "",
            "description_tooltip": null,
            "layout": "IPY_MODEL_7ceb1eaf7ce848099f4495c156ede6cf",
            "placeholder": "​",
            "style": "IPY_MODEL_4fdd65f225cf42499175fd7c49e07edb",
            "value": " 0/0 [00:00&lt;?, ? examples/s]"
          }
        },
        "842bc60e72ee4ff39d0ce3dc004694dc": {
          "model_module": "@jupyter-widgets/base",
          "model_name": "LayoutModel",
          "model_module_version": "1.2.0",
          "state": {
            "_model_module": "@jupyter-widgets/base",
            "_model_module_version": "1.2.0",
            "_model_name": "LayoutModel",
            "_view_count": null,
            "_view_module": "@jupyter-widgets/base",
            "_view_module_version": "1.2.0",
            "_view_name": "LayoutView",
            "align_content": null,
            "align_items": null,
            "align_self": null,
            "border": null,
            "bottom": null,
            "display": null,
            "flex": null,
            "flex_flow": null,
            "grid_area": null,
            "grid_auto_columns": null,
            "grid_auto_flow": null,
            "grid_auto_rows": null,
            "grid_column": null,
            "grid_gap": null,
            "grid_row": null,
            "grid_template_areas": null,
            "grid_template_columns": null,
            "grid_template_rows": null,
            "height": null,
            "justify_content": null,
            "justify_items": null,
            "left": null,
            "margin": null,
            "max_height": null,
            "max_width": null,
            "min_height": null,
            "min_width": null,
            "object_fit": null,
            "object_position": null,
            "order": null,
            "overflow": null,
            "overflow_x": null,
            "overflow_y": null,
            "padding": null,
            "right": null,
            "top": null,
            "visibility": "hidden",
            "width": null
          }
        },
        "8624f8eaf3854369a784dbecb50407ca": {
          "model_module": "@jupyter-widgets/base",
          "model_name": "LayoutModel",
          "model_module_version": "1.2.0",
          "state": {
            "_model_module": "@jupyter-widgets/base",
            "_model_module_version": "1.2.0",
            "_model_name": "LayoutModel",
            "_view_count": null,
            "_view_module": "@jupyter-widgets/base",
            "_view_module_version": "1.2.0",
            "_view_name": "LayoutView",
            "align_content": null,
            "align_items": null,
            "align_self": null,
            "border": null,
            "bottom": null,
            "display": null,
            "flex": null,
            "flex_flow": null,
            "grid_area": null,
            "grid_auto_columns": null,
            "grid_auto_flow": null,
            "grid_auto_rows": null,
            "grid_column": null,
            "grid_gap": null,
            "grid_row": null,
            "grid_template_areas": null,
            "grid_template_columns": null,
            "grid_template_rows": null,
            "height": null,
            "justify_content": null,
            "justify_items": null,
            "left": null,
            "margin": null,
            "max_height": null,
            "max_width": null,
            "min_height": null,
            "min_width": null,
            "object_fit": null,
            "object_position": null,
            "order": null,
            "overflow": null,
            "overflow_x": null,
            "overflow_y": null,
            "padding": null,
            "right": null,
            "top": null,
            "visibility": null,
            "width": null
          }
        },
        "f192e9b030624ef080ed469f804f4569": {
          "model_module": "@jupyter-widgets/controls",
          "model_name": "DescriptionStyleModel",
          "model_module_version": "1.5.0",
          "state": {
            "_model_module": "@jupyter-widgets/controls",
            "_model_module_version": "1.5.0",
            "_model_name": "DescriptionStyleModel",
            "_view_count": null,
            "_view_module": "@jupyter-widgets/base",
            "_view_module_version": "1.2.0",
            "_view_name": "StyleView",
            "description_width": ""
          }
        },
        "7f99cd0769664753b46c33a4789a582d": {
          "model_module": "@jupyter-widgets/base",
          "model_name": "LayoutModel",
          "model_module_version": "1.2.0",
          "state": {
            "_model_module": "@jupyter-widgets/base",
            "_model_module_version": "1.2.0",
            "_model_name": "LayoutModel",
            "_view_count": null,
            "_view_module": "@jupyter-widgets/base",
            "_view_module_version": "1.2.0",
            "_view_name": "LayoutView",
            "align_content": null,
            "align_items": null,
            "align_self": null,
            "border": null,
            "bottom": null,
            "display": null,
            "flex": null,
            "flex_flow": null,
            "grid_area": null,
            "grid_auto_columns": null,
            "grid_auto_flow": null,
            "grid_auto_rows": null,
            "grid_column": null,
            "grid_gap": null,
            "grid_row": null,
            "grid_template_areas": null,
            "grid_template_columns": null,
            "grid_template_rows": null,
            "height": null,
            "justify_content": null,
            "justify_items": null,
            "left": null,
            "margin": null,
            "max_height": null,
            "max_width": null,
            "min_height": null,
            "min_width": null,
            "object_fit": null,
            "object_position": null,
            "order": null,
            "overflow": null,
            "overflow_x": null,
            "overflow_y": null,
            "padding": null,
            "right": null,
            "top": null,
            "visibility": null,
            "width": "20px"
          }
        },
        "7a61c3b44e06471fb8601472c8ecf5ab": {
          "model_module": "@jupyter-widgets/controls",
          "model_name": "ProgressStyleModel",
          "model_module_version": "1.5.0",
          "state": {
            "_model_module": "@jupyter-widgets/controls",
            "_model_module_version": "1.5.0",
            "_model_name": "ProgressStyleModel",
            "_view_count": null,
            "_view_module": "@jupyter-widgets/base",
            "_view_module_version": "1.2.0",
            "_view_name": "StyleView",
            "bar_color": null,
            "description_width": ""
          }
        },
        "7ceb1eaf7ce848099f4495c156ede6cf": {
          "model_module": "@jupyter-widgets/base",
          "model_name": "LayoutModel",
          "model_module_version": "1.2.0",
          "state": {
            "_model_module": "@jupyter-widgets/base",
            "_model_module_version": "1.2.0",
            "_model_name": "LayoutModel",
            "_view_count": null,
            "_view_module": "@jupyter-widgets/base",
            "_view_module_version": "1.2.0",
            "_view_name": "LayoutView",
            "align_content": null,
            "align_items": null,
            "align_self": null,
            "border": null,
            "bottom": null,
            "display": null,
            "flex": null,
            "flex_flow": null,
            "grid_area": null,
            "grid_auto_columns": null,
            "grid_auto_flow": null,
            "grid_auto_rows": null,
            "grid_column": null,
            "grid_gap": null,
            "grid_row": null,
            "grid_template_areas": null,
            "grid_template_columns": null,
            "grid_template_rows": null,
            "height": null,
            "justify_content": null,
            "justify_items": null,
            "left": null,
            "margin": null,
            "max_height": null,
            "max_width": null,
            "min_height": null,
            "min_width": null,
            "object_fit": null,
            "object_position": null,
            "order": null,
            "overflow": null,
            "overflow_x": null,
            "overflow_y": null,
            "padding": null,
            "right": null,
            "top": null,
            "visibility": null,
            "width": null
          }
        },
        "4fdd65f225cf42499175fd7c49e07edb": {
          "model_module": "@jupyter-widgets/controls",
          "model_name": "DescriptionStyleModel",
          "model_module_version": "1.5.0",
          "state": {
            "_model_module": "@jupyter-widgets/controls",
            "_model_module_version": "1.5.0",
            "_model_name": "DescriptionStyleModel",
            "_view_count": null,
            "_view_module": "@jupyter-widgets/base",
            "_view_module_version": "1.2.0",
            "_view_name": "StyleView",
            "description_width": ""
          }
        },
        "5f532423b5174ab881d79792e951f6cc": {
          "model_module": "@jupyter-widgets/controls",
          "model_name": "HBoxModel",
          "model_module_version": "1.5.0",
          "state": {
            "_dom_classes": [],
            "_model_module": "@jupyter-widgets/controls",
            "_model_module_version": "1.5.0",
            "_model_name": "HBoxModel",
            "_view_count": null,
            "_view_module": "@jupyter-widgets/controls",
            "_view_module_version": "1.5.0",
            "_view_name": "HBoxView",
            "box_style": "",
            "children": [
              "IPY_MODEL_ec83d50eb9f94387be12197445f9ce38",
              "IPY_MODEL_b99e6b99cda44099aca48ca20d44fc4c",
              "IPY_MODEL_b4aa815981c74b3597c1c17a7f193524"
            ],
            "layout": "IPY_MODEL_4e66a9399f904955a27251216b76fee3"
          }
        },
        "ec83d50eb9f94387be12197445f9ce38": {
          "model_module": "@jupyter-widgets/controls",
          "model_name": "HTMLModel",
          "model_module_version": "1.5.0",
          "state": {
            "_dom_classes": [],
            "_model_module": "@jupyter-widgets/controls",
            "_model_module_version": "1.5.0",
            "_model_name": "HTMLModel",
            "_view_count": null,
            "_view_module": "@jupyter-widgets/controls",
            "_view_module_version": "1.5.0",
            "_view_name": "HTMLView",
            "description": "",
            "description_tooltip": null,
            "layout": "IPY_MODEL_aeaba29c73164e0aa2963803a2189908",
            "placeholder": "​",
            "style": "IPY_MODEL_f40f9aee27e44a73a171c9c2521c4943",
            "value": "100%"
          }
        },
        "b99e6b99cda44099aca48ca20d44fc4c": {
          "model_module": "@jupyter-widgets/controls",
          "model_name": "FloatProgressModel",
          "model_module_version": "1.5.0",
          "state": {
            "_dom_classes": [],
            "_model_module": "@jupyter-widgets/controls",
            "_model_module_version": "1.5.0",
            "_model_name": "FloatProgressModel",
            "_view_count": null,
            "_view_module": "@jupyter-widgets/controls",
            "_view_module_version": "1.5.0",
            "_view_name": "ProgressView",
            "bar_style": "success",
            "description": "",
            "description_tooltip": null,
            "layout": "IPY_MODEL_42a05eb87d264a51baecfb0f614a718f",
            "max": 1,
            "min": 0,
            "orientation": "horizontal",
            "style": "IPY_MODEL_f342cf60dda84b9c92ade1851f7e2dc8",
            "value": 1
          }
        },
        "b4aa815981c74b3597c1c17a7f193524": {
          "model_module": "@jupyter-widgets/controls",
          "model_name": "HTMLModel",
          "model_module_version": "1.5.0",
          "state": {
            "_dom_classes": [],
            "_model_module": "@jupyter-widgets/controls",
            "_model_module_version": "1.5.0",
            "_model_name": "HTMLModel",
            "_view_count": null,
            "_view_module": "@jupyter-widgets/controls",
            "_view_module_version": "1.5.0",
            "_view_name": "HTMLView",
            "description": "",
            "description_tooltip": null,
            "layout": "IPY_MODEL_80191952344f4358945f112b88e90b72",
            "placeholder": "​",
            "style": "IPY_MODEL_685622b7a720470ebe84526a4466e47a",
            "value": " 1/1 [00:00&lt;00:00, 46.69it/s]"
          }
        },
        "4e66a9399f904955a27251216b76fee3": {
          "model_module": "@jupyter-widgets/base",
          "model_name": "LayoutModel",
          "model_module_version": "1.2.0",
          "state": {
            "_model_module": "@jupyter-widgets/base",
            "_model_module_version": "1.2.0",
            "_model_name": "LayoutModel",
            "_view_count": null,
            "_view_module": "@jupyter-widgets/base",
            "_view_module_version": "1.2.0",
            "_view_name": "LayoutView",
            "align_content": null,
            "align_items": null,
            "align_self": null,
            "border": null,
            "bottom": null,
            "display": null,
            "flex": null,
            "flex_flow": null,
            "grid_area": null,
            "grid_auto_columns": null,
            "grid_auto_flow": null,
            "grid_auto_rows": null,
            "grid_column": null,
            "grid_gap": null,
            "grid_row": null,
            "grid_template_areas": null,
            "grid_template_columns": null,
            "grid_template_rows": null,
            "height": null,
            "justify_content": null,
            "justify_items": null,
            "left": null,
            "margin": null,
            "max_height": null,
            "max_width": null,
            "min_height": null,
            "min_width": null,
            "object_fit": null,
            "object_position": null,
            "order": null,
            "overflow": null,
            "overflow_x": null,
            "overflow_y": null,
            "padding": null,
            "right": null,
            "top": null,
            "visibility": null,
            "width": null
          }
        },
        "aeaba29c73164e0aa2963803a2189908": {
          "model_module": "@jupyter-widgets/base",
          "model_name": "LayoutModel",
          "model_module_version": "1.2.0",
          "state": {
            "_model_module": "@jupyter-widgets/base",
            "_model_module_version": "1.2.0",
            "_model_name": "LayoutModel",
            "_view_count": null,
            "_view_module": "@jupyter-widgets/base",
            "_view_module_version": "1.2.0",
            "_view_name": "LayoutView",
            "align_content": null,
            "align_items": null,
            "align_self": null,
            "border": null,
            "bottom": null,
            "display": null,
            "flex": null,
            "flex_flow": null,
            "grid_area": null,
            "grid_auto_columns": null,
            "grid_auto_flow": null,
            "grid_auto_rows": null,
            "grid_column": null,
            "grid_gap": null,
            "grid_row": null,
            "grid_template_areas": null,
            "grid_template_columns": null,
            "grid_template_rows": null,
            "height": null,
            "justify_content": null,
            "justify_items": null,
            "left": null,
            "margin": null,
            "max_height": null,
            "max_width": null,
            "min_height": null,
            "min_width": null,
            "object_fit": null,
            "object_position": null,
            "order": null,
            "overflow": null,
            "overflow_x": null,
            "overflow_y": null,
            "padding": null,
            "right": null,
            "top": null,
            "visibility": null,
            "width": null
          }
        },
        "f40f9aee27e44a73a171c9c2521c4943": {
          "model_module": "@jupyter-widgets/controls",
          "model_name": "DescriptionStyleModel",
          "model_module_version": "1.5.0",
          "state": {
            "_model_module": "@jupyter-widgets/controls",
            "_model_module_version": "1.5.0",
            "_model_name": "DescriptionStyleModel",
            "_view_count": null,
            "_view_module": "@jupyter-widgets/base",
            "_view_module_version": "1.2.0",
            "_view_name": "StyleView",
            "description_width": ""
          }
        },
        "42a05eb87d264a51baecfb0f614a718f": {
          "model_module": "@jupyter-widgets/base",
          "model_name": "LayoutModel",
          "model_module_version": "1.2.0",
          "state": {
            "_model_module": "@jupyter-widgets/base",
            "_model_module_version": "1.2.0",
            "_model_name": "LayoutModel",
            "_view_count": null,
            "_view_module": "@jupyter-widgets/base",
            "_view_module_version": "1.2.0",
            "_view_name": "LayoutView",
            "align_content": null,
            "align_items": null,
            "align_self": null,
            "border": null,
            "bottom": null,
            "display": null,
            "flex": null,
            "flex_flow": null,
            "grid_area": null,
            "grid_auto_columns": null,
            "grid_auto_flow": null,
            "grid_auto_rows": null,
            "grid_column": null,
            "grid_gap": null,
            "grid_row": null,
            "grid_template_areas": null,
            "grid_template_columns": null,
            "grid_template_rows": null,
            "height": null,
            "justify_content": null,
            "justify_items": null,
            "left": null,
            "margin": null,
            "max_height": null,
            "max_width": null,
            "min_height": null,
            "min_width": null,
            "object_fit": null,
            "object_position": null,
            "order": null,
            "overflow": null,
            "overflow_x": null,
            "overflow_y": null,
            "padding": null,
            "right": null,
            "top": null,
            "visibility": null,
            "width": null
          }
        },
        "f342cf60dda84b9c92ade1851f7e2dc8": {
          "model_module": "@jupyter-widgets/controls",
          "model_name": "ProgressStyleModel",
          "model_module_version": "1.5.0",
          "state": {
            "_model_module": "@jupyter-widgets/controls",
            "_model_module_version": "1.5.0",
            "_model_name": "ProgressStyleModel",
            "_view_count": null,
            "_view_module": "@jupyter-widgets/base",
            "_view_module_version": "1.2.0",
            "_view_name": "StyleView",
            "bar_color": null,
            "description_width": ""
          }
        },
        "80191952344f4358945f112b88e90b72": {
          "model_module": "@jupyter-widgets/base",
          "model_name": "LayoutModel",
          "model_module_version": "1.2.0",
          "state": {
            "_model_module": "@jupyter-widgets/base",
            "_model_module_version": "1.2.0",
            "_model_name": "LayoutModel",
            "_view_count": null,
            "_view_module": "@jupyter-widgets/base",
            "_view_module_version": "1.2.0",
            "_view_name": "LayoutView",
            "align_content": null,
            "align_items": null,
            "align_self": null,
            "border": null,
            "bottom": null,
            "display": null,
            "flex": null,
            "flex_flow": null,
            "grid_area": null,
            "grid_auto_columns": null,
            "grid_auto_flow": null,
            "grid_auto_rows": null,
            "grid_column": null,
            "grid_gap": null,
            "grid_row": null,
            "grid_template_areas": null,
            "grid_template_columns": null,
            "grid_template_rows": null,
            "height": null,
            "justify_content": null,
            "justify_items": null,
            "left": null,
            "margin": null,
            "max_height": null,
            "max_width": null,
            "min_height": null,
            "min_width": null,
            "object_fit": null,
            "object_position": null,
            "order": null,
            "overflow": null,
            "overflow_x": null,
            "overflow_y": null,
            "padding": null,
            "right": null,
            "top": null,
            "visibility": null,
            "width": null
          }
        },
        "685622b7a720470ebe84526a4466e47a": {
          "model_module": "@jupyter-widgets/controls",
          "model_name": "DescriptionStyleModel",
          "model_module_version": "1.5.0",
          "state": {
            "_model_module": "@jupyter-widgets/controls",
            "_model_module_version": "1.5.0",
            "_model_name": "DescriptionStyleModel",
            "_view_count": null,
            "_view_module": "@jupyter-widgets/base",
            "_view_module_version": "1.2.0",
            "_view_name": "StyleView",
            "description_width": ""
          }
        },
        "c9333c1ac130402d9abb36a175cee3ed": {
          "model_module": "@jupyter-widgets/controls",
          "model_name": "HBoxModel",
          "model_module_version": "1.5.0",
          "state": {
            "_dom_classes": [],
            "_model_module": "@jupyter-widgets/controls",
            "_model_module_version": "1.5.0",
            "_model_name": "HBoxModel",
            "_view_count": null,
            "_view_module": "@jupyter-widgets/controls",
            "_view_module_version": "1.5.0",
            "_view_name": "HBoxView",
            "box_style": "",
            "children": [
              "IPY_MODEL_5602908cb410464e924399783f900388",
              "IPY_MODEL_05c18d231395438db0c119b9c13efd92",
              "IPY_MODEL_a8758d1c917e42c4bdd9858c4aa33cce"
            ],
            "layout": "IPY_MODEL_0070383b7aa6414096aeee16d7335c3e"
          }
        },
        "5602908cb410464e924399783f900388": {
          "model_module": "@jupyter-widgets/controls",
          "model_name": "HTMLModel",
          "model_module_version": "1.5.0",
          "state": {
            "_dom_classes": [],
            "_model_module": "@jupyter-widgets/controls",
            "_model_module_version": "1.5.0",
            "_model_name": "HTMLModel",
            "_view_count": null,
            "_view_module": "@jupyter-widgets/controls",
            "_view_module_version": "1.5.0",
            "_view_name": "HTMLView",
            "description": "",
            "description_tooltip": null,
            "layout": "IPY_MODEL_348dbfb6e82846cabd7eabd9882b43c9",
            "placeholder": "​",
            "style": "IPY_MODEL_47d870ffe86247b7a9d983a774688885",
            "value": "Downloading data files: 100%"
          }
        },
        "05c18d231395438db0c119b9c13efd92": {
          "model_module": "@jupyter-widgets/controls",
          "model_name": "FloatProgressModel",
          "model_module_version": "1.5.0",
          "state": {
            "_dom_classes": [],
            "_model_module": "@jupyter-widgets/controls",
            "_model_module_version": "1.5.0",
            "_model_name": "FloatProgressModel",
            "_view_count": null,
            "_view_module": "@jupyter-widgets/controls",
            "_view_module_version": "1.5.0",
            "_view_name": "ProgressView",
            "bar_style": "success",
            "description": "",
            "description_tooltip": null,
            "layout": "IPY_MODEL_00f02567573341698886bce493249639",
            "max": 1,
            "min": 0,
            "orientation": "horizontal",
            "style": "IPY_MODEL_a55366d775724097a48eb09c954c2867",
            "value": 1
          }
        },
        "a8758d1c917e42c4bdd9858c4aa33cce": {
          "model_module": "@jupyter-widgets/controls",
          "model_name": "HTMLModel",
          "model_module_version": "1.5.0",
          "state": {
            "_dom_classes": [],
            "_model_module": "@jupyter-widgets/controls",
            "_model_module_version": "1.5.0",
            "_model_name": "HTMLModel",
            "_view_count": null,
            "_view_module": "@jupyter-widgets/controls",
            "_view_module_version": "1.5.0",
            "_view_name": "HTMLView",
            "description": "",
            "description_tooltip": null,
            "layout": "IPY_MODEL_dbaef968995a4f218249764be9bf1ac7",
            "placeholder": "​",
            "style": "IPY_MODEL_b722fbbe3a72498b92b00e6bb33f1bca",
            "value": " 1/1 [00:00&lt;00:00, 63.17it/s]"
          }
        },
        "0070383b7aa6414096aeee16d7335c3e": {
          "model_module": "@jupyter-widgets/base",
          "model_name": "LayoutModel",
          "model_module_version": "1.2.0",
          "state": {
            "_model_module": "@jupyter-widgets/base",
            "_model_module_version": "1.2.0",
            "_model_name": "LayoutModel",
            "_view_count": null,
            "_view_module": "@jupyter-widgets/base",
            "_view_module_version": "1.2.0",
            "_view_name": "LayoutView",
            "align_content": null,
            "align_items": null,
            "align_self": null,
            "border": null,
            "bottom": null,
            "display": null,
            "flex": null,
            "flex_flow": null,
            "grid_area": null,
            "grid_auto_columns": null,
            "grid_auto_flow": null,
            "grid_auto_rows": null,
            "grid_column": null,
            "grid_gap": null,
            "grid_row": null,
            "grid_template_areas": null,
            "grid_template_columns": null,
            "grid_template_rows": null,
            "height": null,
            "justify_content": null,
            "justify_items": null,
            "left": null,
            "margin": null,
            "max_height": null,
            "max_width": null,
            "min_height": null,
            "min_width": null,
            "object_fit": null,
            "object_position": null,
            "order": null,
            "overflow": null,
            "overflow_x": null,
            "overflow_y": null,
            "padding": null,
            "right": null,
            "top": null,
            "visibility": null,
            "width": null
          }
        },
        "348dbfb6e82846cabd7eabd9882b43c9": {
          "model_module": "@jupyter-widgets/base",
          "model_name": "LayoutModel",
          "model_module_version": "1.2.0",
          "state": {
            "_model_module": "@jupyter-widgets/base",
            "_model_module_version": "1.2.0",
            "_model_name": "LayoutModel",
            "_view_count": null,
            "_view_module": "@jupyter-widgets/base",
            "_view_module_version": "1.2.0",
            "_view_name": "LayoutView",
            "align_content": null,
            "align_items": null,
            "align_self": null,
            "border": null,
            "bottom": null,
            "display": null,
            "flex": null,
            "flex_flow": null,
            "grid_area": null,
            "grid_auto_columns": null,
            "grid_auto_flow": null,
            "grid_auto_rows": null,
            "grid_column": null,
            "grid_gap": null,
            "grid_row": null,
            "grid_template_areas": null,
            "grid_template_columns": null,
            "grid_template_rows": null,
            "height": null,
            "justify_content": null,
            "justify_items": null,
            "left": null,
            "margin": null,
            "max_height": null,
            "max_width": null,
            "min_height": null,
            "min_width": null,
            "object_fit": null,
            "object_position": null,
            "order": null,
            "overflow": null,
            "overflow_x": null,
            "overflow_y": null,
            "padding": null,
            "right": null,
            "top": null,
            "visibility": null,
            "width": null
          }
        },
        "47d870ffe86247b7a9d983a774688885": {
          "model_module": "@jupyter-widgets/controls",
          "model_name": "DescriptionStyleModel",
          "model_module_version": "1.5.0",
          "state": {
            "_model_module": "@jupyter-widgets/controls",
            "_model_module_version": "1.5.0",
            "_model_name": "DescriptionStyleModel",
            "_view_count": null,
            "_view_module": "@jupyter-widgets/base",
            "_view_module_version": "1.2.0",
            "_view_name": "StyleView",
            "description_width": ""
          }
        },
        "00f02567573341698886bce493249639": {
          "model_module": "@jupyter-widgets/base",
          "model_name": "LayoutModel",
          "model_module_version": "1.2.0",
          "state": {
            "_model_module": "@jupyter-widgets/base",
            "_model_module_version": "1.2.0",
            "_model_name": "LayoutModel",
            "_view_count": null,
            "_view_module": "@jupyter-widgets/base",
            "_view_module_version": "1.2.0",
            "_view_name": "LayoutView",
            "align_content": null,
            "align_items": null,
            "align_self": null,
            "border": null,
            "bottom": null,
            "display": null,
            "flex": null,
            "flex_flow": null,
            "grid_area": null,
            "grid_auto_columns": null,
            "grid_auto_flow": null,
            "grid_auto_rows": null,
            "grid_column": null,
            "grid_gap": null,
            "grid_row": null,
            "grid_template_areas": null,
            "grid_template_columns": null,
            "grid_template_rows": null,
            "height": null,
            "justify_content": null,
            "justify_items": null,
            "left": null,
            "margin": null,
            "max_height": null,
            "max_width": null,
            "min_height": null,
            "min_width": null,
            "object_fit": null,
            "object_position": null,
            "order": null,
            "overflow": null,
            "overflow_x": null,
            "overflow_y": null,
            "padding": null,
            "right": null,
            "top": null,
            "visibility": null,
            "width": null
          }
        },
        "a55366d775724097a48eb09c954c2867": {
          "model_module": "@jupyter-widgets/controls",
          "model_name": "ProgressStyleModel",
          "model_module_version": "1.5.0",
          "state": {
            "_model_module": "@jupyter-widgets/controls",
            "_model_module_version": "1.5.0",
            "_model_name": "ProgressStyleModel",
            "_view_count": null,
            "_view_module": "@jupyter-widgets/base",
            "_view_module_version": "1.2.0",
            "_view_name": "StyleView",
            "bar_color": null,
            "description_width": ""
          }
        },
        "dbaef968995a4f218249764be9bf1ac7": {
          "model_module": "@jupyter-widgets/base",
          "model_name": "LayoutModel",
          "model_module_version": "1.2.0",
          "state": {
            "_model_module": "@jupyter-widgets/base",
            "_model_module_version": "1.2.0",
            "_model_name": "LayoutModel",
            "_view_count": null,
            "_view_module": "@jupyter-widgets/base",
            "_view_module_version": "1.2.0",
            "_view_name": "LayoutView",
            "align_content": null,
            "align_items": null,
            "align_self": null,
            "border": null,
            "bottom": null,
            "display": null,
            "flex": null,
            "flex_flow": null,
            "grid_area": null,
            "grid_auto_columns": null,
            "grid_auto_flow": null,
            "grid_auto_rows": null,
            "grid_column": null,
            "grid_gap": null,
            "grid_row": null,
            "grid_template_areas": null,
            "grid_template_columns": null,
            "grid_template_rows": null,
            "height": null,
            "justify_content": null,
            "justify_items": null,
            "left": null,
            "margin": null,
            "max_height": null,
            "max_width": null,
            "min_height": null,
            "min_width": null,
            "object_fit": null,
            "object_position": null,
            "order": null,
            "overflow": null,
            "overflow_x": null,
            "overflow_y": null,
            "padding": null,
            "right": null,
            "top": null,
            "visibility": null,
            "width": null
          }
        },
        "b722fbbe3a72498b92b00e6bb33f1bca": {
          "model_module": "@jupyter-widgets/controls",
          "model_name": "DescriptionStyleModel",
          "model_module_version": "1.5.0",
          "state": {
            "_model_module": "@jupyter-widgets/controls",
            "_model_module_version": "1.5.0",
            "_model_name": "DescriptionStyleModel",
            "_view_count": null,
            "_view_module": "@jupyter-widgets/base",
            "_view_module_version": "1.2.0",
            "_view_name": "StyleView",
            "description_width": ""
          }
        },
        "cfc6bb3895c9469d88a593deeda47090": {
          "model_module": "@jupyter-widgets/controls",
          "model_name": "HBoxModel",
          "model_module_version": "1.5.0",
          "state": {
            "_dom_classes": [],
            "_model_module": "@jupyter-widgets/controls",
            "_model_module_version": "1.5.0",
            "_model_name": "HBoxModel",
            "_view_count": null,
            "_view_module": "@jupyter-widgets/controls",
            "_view_module_version": "1.5.0",
            "_view_name": "HBoxView",
            "box_style": "",
            "children": [
              "IPY_MODEL_060878e7f8cf4e5c87c658b794ebdaed",
              "IPY_MODEL_aa16355dfcd3479c8f0e1729eabbca33",
              "IPY_MODEL_ab154f78de7b413ba9b137e090d6f547"
            ],
            "layout": "IPY_MODEL_05e3af39e03a40798ff2eb741559df63"
          }
        },
        "060878e7f8cf4e5c87c658b794ebdaed": {
          "model_module": "@jupyter-widgets/controls",
          "model_name": "HTMLModel",
          "model_module_version": "1.5.0",
          "state": {
            "_dom_classes": [],
            "_model_module": "@jupyter-widgets/controls",
            "_model_module_version": "1.5.0",
            "_model_name": "HTMLModel",
            "_view_count": null,
            "_view_module": "@jupyter-widgets/controls",
            "_view_module_version": "1.5.0",
            "_view_name": "HTMLView",
            "description": "",
            "description_tooltip": null,
            "layout": "IPY_MODEL_f0cf5f62e6184c55ad4890d9c15d86f5",
            "placeholder": "​",
            "style": "IPY_MODEL_fa34b9e7a686406c8a249c6f22b78117",
            "value": "Extracting data files: 100%"
          }
        },
        "aa16355dfcd3479c8f0e1729eabbca33": {
          "model_module": "@jupyter-widgets/controls",
          "model_name": "FloatProgressModel",
          "model_module_version": "1.5.0",
          "state": {
            "_dom_classes": [],
            "_model_module": "@jupyter-widgets/controls",
            "_model_module_version": "1.5.0",
            "_model_name": "FloatProgressModel",
            "_view_count": null,
            "_view_module": "@jupyter-widgets/controls",
            "_view_module_version": "1.5.0",
            "_view_name": "ProgressView",
            "bar_style": "success",
            "description": "",
            "description_tooltip": null,
            "layout": "IPY_MODEL_515fddf34e774e8bbe245620924e1c33",
            "max": 1,
            "min": 0,
            "orientation": "horizontal",
            "style": "IPY_MODEL_efc66ca426ab4b978f950ad0eeeff4e9",
            "value": 1
          }
        },
        "ab154f78de7b413ba9b137e090d6f547": {
          "model_module": "@jupyter-widgets/controls",
          "model_name": "HTMLModel",
          "model_module_version": "1.5.0",
          "state": {
            "_dom_classes": [],
            "_model_module": "@jupyter-widgets/controls",
            "_model_module_version": "1.5.0",
            "_model_name": "HTMLModel",
            "_view_count": null,
            "_view_module": "@jupyter-widgets/controls",
            "_view_module_version": "1.5.0",
            "_view_name": "HTMLView",
            "description": "",
            "description_tooltip": null,
            "layout": "IPY_MODEL_48355942dd6c44cd9950d8a37a455935",
            "placeholder": "​",
            "style": "IPY_MODEL_844212577ae14846a536ed73fb0ae64a",
            "value": " 1/1 [00:00&lt;00:00, 60.18it/s]"
          }
        },
        "05e3af39e03a40798ff2eb741559df63": {
          "model_module": "@jupyter-widgets/base",
          "model_name": "LayoutModel",
          "model_module_version": "1.2.0",
          "state": {
            "_model_module": "@jupyter-widgets/base",
            "_model_module_version": "1.2.0",
            "_model_name": "LayoutModel",
            "_view_count": null,
            "_view_module": "@jupyter-widgets/base",
            "_view_module_version": "1.2.0",
            "_view_name": "LayoutView",
            "align_content": null,
            "align_items": null,
            "align_self": null,
            "border": null,
            "bottom": null,
            "display": null,
            "flex": null,
            "flex_flow": null,
            "grid_area": null,
            "grid_auto_columns": null,
            "grid_auto_flow": null,
            "grid_auto_rows": null,
            "grid_column": null,
            "grid_gap": null,
            "grid_row": null,
            "grid_template_areas": null,
            "grid_template_columns": null,
            "grid_template_rows": null,
            "height": null,
            "justify_content": null,
            "justify_items": null,
            "left": null,
            "margin": null,
            "max_height": null,
            "max_width": null,
            "min_height": null,
            "min_width": null,
            "object_fit": null,
            "object_position": null,
            "order": null,
            "overflow": null,
            "overflow_x": null,
            "overflow_y": null,
            "padding": null,
            "right": null,
            "top": null,
            "visibility": null,
            "width": null
          }
        },
        "f0cf5f62e6184c55ad4890d9c15d86f5": {
          "model_module": "@jupyter-widgets/base",
          "model_name": "LayoutModel",
          "model_module_version": "1.2.0",
          "state": {
            "_model_module": "@jupyter-widgets/base",
            "_model_module_version": "1.2.0",
            "_model_name": "LayoutModel",
            "_view_count": null,
            "_view_module": "@jupyter-widgets/base",
            "_view_module_version": "1.2.0",
            "_view_name": "LayoutView",
            "align_content": null,
            "align_items": null,
            "align_self": null,
            "border": null,
            "bottom": null,
            "display": null,
            "flex": null,
            "flex_flow": null,
            "grid_area": null,
            "grid_auto_columns": null,
            "grid_auto_flow": null,
            "grid_auto_rows": null,
            "grid_column": null,
            "grid_gap": null,
            "grid_row": null,
            "grid_template_areas": null,
            "grid_template_columns": null,
            "grid_template_rows": null,
            "height": null,
            "justify_content": null,
            "justify_items": null,
            "left": null,
            "margin": null,
            "max_height": null,
            "max_width": null,
            "min_height": null,
            "min_width": null,
            "object_fit": null,
            "object_position": null,
            "order": null,
            "overflow": null,
            "overflow_x": null,
            "overflow_y": null,
            "padding": null,
            "right": null,
            "top": null,
            "visibility": null,
            "width": null
          }
        },
        "fa34b9e7a686406c8a249c6f22b78117": {
          "model_module": "@jupyter-widgets/controls",
          "model_name": "DescriptionStyleModel",
          "model_module_version": "1.5.0",
          "state": {
            "_model_module": "@jupyter-widgets/controls",
            "_model_module_version": "1.5.0",
            "_model_name": "DescriptionStyleModel",
            "_view_count": null,
            "_view_module": "@jupyter-widgets/base",
            "_view_module_version": "1.2.0",
            "_view_name": "StyleView",
            "description_width": ""
          }
        },
        "515fddf34e774e8bbe245620924e1c33": {
          "model_module": "@jupyter-widgets/base",
          "model_name": "LayoutModel",
          "model_module_version": "1.2.0",
          "state": {
            "_model_module": "@jupyter-widgets/base",
            "_model_module_version": "1.2.0",
            "_model_name": "LayoutModel",
            "_view_count": null,
            "_view_module": "@jupyter-widgets/base",
            "_view_module_version": "1.2.0",
            "_view_name": "LayoutView",
            "align_content": null,
            "align_items": null,
            "align_self": null,
            "border": null,
            "bottom": null,
            "display": null,
            "flex": null,
            "flex_flow": null,
            "grid_area": null,
            "grid_auto_columns": null,
            "grid_auto_flow": null,
            "grid_auto_rows": null,
            "grid_column": null,
            "grid_gap": null,
            "grid_row": null,
            "grid_template_areas": null,
            "grid_template_columns": null,
            "grid_template_rows": null,
            "height": null,
            "justify_content": null,
            "justify_items": null,
            "left": null,
            "margin": null,
            "max_height": null,
            "max_width": null,
            "min_height": null,
            "min_width": null,
            "object_fit": null,
            "object_position": null,
            "order": null,
            "overflow": null,
            "overflow_x": null,
            "overflow_y": null,
            "padding": null,
            "right": null,
            "top": null,
            "visibility": null,
            "width": null
          }
        },
        "efc66ca426ab4b978f950ad0eeeff4e9": {
          "model_module": "@jupyter-widgets/controls",
          "model_name": "ProgressStyleModel",
          "model_module_version": "1.5.0",
          "state": {
            "_model_module": "@jupyter-widgets/controls",
            "_model_module_version": "1.5.0",
            "_model_name": "ProgressStyleModel",
            "_view_count": null,
            "_view_module": "@jupyter-widgets/base",
            "_view_module_version": "1.2.0",
            "_view_name": "StyleView",
            "bar_color": null,
            "description_width": ""
          }
        },
        "48355942dd6c44cd9950d8a37a455935": {
          "model_module": "@jupyter-widgets/base",
          "model_name": "LayoutModel",
          "model_module_version": "1.2.0",
          "state": {
            "_model_module": "@jupyter-widgets/base",
            "_model_module_version": "1.2.0",
            "_model_name": "LayoutModel",
            "_view_count": null,
            "_view_module": "@jupyter-widgets/base",
            "_view_module_version": "1.2.0",
            "_view_name": "LayoutView",
            "align_content": null,
            "align_items": null,
            "align_self": null,
            "border": null,
            "bottom": null,
            "display": null,
            "flex": null,
            "flex_flow": null,
            "grid_area": null,
            "grid_auto_columns": null,
            "grid_auto_flow": null,
            "grid_auto_rows": null,
            "grid_column": null,
            "grid_gap": null,
            "grid_row": null,
            "grid_template_areas": null,
            "grid_template_columns": null,
            "grid_template_rows": null,
            "height": null,
            "justify_content": null,
            "justify_items": null,
            "left": null,
            "margin": null,
            "max_height": null,
            "max_width": null,
            "min_height": null,
            "min_width": null,
            "object_fit": null,
            "object_position": null,
            "order": null,
            "overflow": null,
            "overflow_x": null,
            "overflow_y": null,
            "padding": null,
            "right": null,
            "top": null,
            "visibility": null,
            "width": null
          }
        },
        "844212577ae14846a536ed73fb0ae64a": {
          "model_module": "@jupyter-widgets/controls",
          "model_name": "DescriptionStyleModel",
          "model_module_version": "1.5.0",
          "state": {
            "_model_module": "@jupyter-widgets/controls",
            "_model_module_version": "1.5.0",
            "_model_name": "DescriptionStyleModel",
            "_view_count": null,
            "_view_module": "@jupyter-widgets/base",
            "_view_module_version": "1.2.0",
            "_view_name": "StyleView",
            "description_width": ""
          }
        },
        "149a271c12a74be684c3f2488ff0c710": {
          "model_module": "@jupyter-widgets/controls",
          "model_name": "HBoxModel",
          "model_module_version": "1.5.0",
          "state": {
            "_dom_classes": [],
            "_model_module": "@jupyter-widgets/controls",
            "_model_module_version": "1.5.0",
            "_model_name": "HBoxModel",
            "_view_count": null,
            "_view_module": "@jupyter-widgets/controls",
            "_view_module_version": "1.5.0",
            "_view_name": "HBoxView",
            "box_style": "",
            "children": [
              "IPY_MODEL_c426d8c70464479ebd3b2e488032972f",
              "IPY_MODEL_9aac0dd107454f07ba7c6f44a3052f64",
              "IPY_MODEL_b250be0f472649a881bc1d68dc7900d2"
            ],
            "layout": "IPY_MODEL_e2d331ec9aae4efab050730e256924f9"
          }
        },
        "c426d8c70464479ebd3b2e488032972f": {
          "model_module": "@jupyter-widgets/controls",
          "model_name": "HTMLModel",
          "model_module_version": "1.5.0",
          "state": {
            "_dom_classes": [],
            "_model_module": "@jupyter-widgets/controls",
            "_model_module_version": "1.5.0",
            "_model_name": "HTMLModel",
            "_view_count": null,
            "_view_module": "@jupyter-widgets/controls",
            "_view_module_version": "1.5.0",
            "_view_name": "HTMLView",
            "description": "",
            "description_tooltip": null,
            "layout": "IPY_MODEL_bef2314c382042f4a8a1c75a862bfead",
            "placeholder": "​",
            "style": "IPY_MODEL_b761a8e0fdf44461804f78976ebf93e4",
            "value": "Generating dev split: "
          }
        },
        "9aac0dd107454f07ba7c6f44a3052f64": {
          "model_module": "@jupyter-widgets/controls",
          "model_name": "FloatProgressModel",
          "model_module_version": "1.5.0",
          "state": {
            "_dom_classes": [],
            "_model_module": "@jupyter-widgets/controls",
            "_model_module_version": "1.5.0",
            "_model_name": "FloatProgressModel",
            "_view_count": null,
            "_view_module": "@jupyter-widgets/controls",
            "_view_module_version": "1.5.0",
            "_view_name": "ProgressView",
            "bar_style": "info",
            "description": "",
            "description_tooltip": null,
            "layout": "IPY_MODEL_8a76307e521d4571a32598c92c50e861",
            "max": 1,
            "min": 0,
            "orientation": "horizontal",
            "style": "IPY_MODEL_0202503135b84a94a0bc06b2574d8e05",
            "value": 1
          }
        },
        "b250be0f472649a881bc1d68dc7900d2": {
          "model_module": "@jupyter-widgets/controls",
          "model_name": "HTMLModel",
          "model_module_version": "1.5.0",
          "state": {
            "_dom_classes": [],
            "_model_module": "@jupyter-widgets/controls",
            "_model_module_version": "1.5.0",
            "_model_name": "HTMLModel",
            "_view_count": null,
            "_view_module": "@jupyter-widgets/controls",
            "_view_module_version": "1.5.0",
            "_view_name": "HTMLView",
            "description": "",
            "description_tooltip": null,
            "layout": "IPY_MODEL_037199cbc00f4a4da07ab4e2c3953c55",
            "placeholder": "​",
            "style": "IPY_MODEL_825b17d8d0324212b5f3cbee51d2b7a5",
            "value": " 0/0 [00:00&lt;?, ? examples/s]"
          }
        },
        "e2d331ec9aae4efab050730e256924f9": {
          "model_module": "@jupyter-widgets/base",
          "model_name": "LayoutModel",
          "model_module_version": "1.2.0",
          "state": {
            "_model_module": "@jupyter-widgets/base",
            "_model_module_version": "1.2.0",
            "_model_name": "LayoutModel",
            "_view_count": null,
            "_view_module": "@jupyter-widgets/base",
            "_view_module_version": "1.2.0",
            "_view_name": "LayoutView",
            "align_content": null,
            "align_items": null,
            "align_self": null,
            "border": null,
            "bottom": null,
            "display": null,
            "flex": null,
            "flex_flow": null,
            "grid_area": null,
            "grid_auto_columns": null,
            "grid_auto_flow": null,
            "grid_auto_rows": null,
            "grid_column": null,
            "grid_gap": null,
            "grid_row": null,
            "grid_template_areas": null,
            "grid_template_columns": null,
            "grid_template_rows": null,
            "height": null,
            "justify_content": null,
            "justify_items": null,
            "left": null,
            "margin": null,
            "max_height": null,
            "max_width": null,
            "min_height": null,
            "min_width": null,
            "object_fit": null,
            "object_position": null,
            "order": null,
            "overflow": null,
            "overflow_x": null,
            "overflow_y": null,
            "padding": null,
            "right": null,
            "top": null,
            "visibility": "hidden",
            "width": null
          }
        },
        "bef2314c382042f4a8a1c75a862bfead": {
          "model_module": "@jupyter-widgets/base",
          "model_name": "LayoutModel",
          "model_module_version": "1.2.0",
          "state": {
            "_model_module": "@jupyter-widgets/base",
            "_model_module_version": "1.2.0",
            "_model_name": "LayoutModel",
            "_view_count": null,
            "_view_module": "@jupyter-widgets/base",
            "_view_module_version": "1.2.0",
            "_view_name": "LayoutView",
            "align_content": null,
            "align_items": null,
            "align_self": null,
            "border": null,
            "bottom": null,
            "display": null,
            "flex": null,
            "flex_flow": null,
            "grid_area": null,
            "grid_auto_columns": null,
            "grid_auto_flow": null,
            "grid_auto_rows": null,
            "grid_column": null,
            "grid_gap": null,
            "grid_row": null,
            "grid_template_areas": null,
            "grid_template_columns": null,
            "grid_template_rows": null,
            "height": null,
            "justify_content": null,
            "justify_items": null,
            "left": null,
            "margin": null,
            "max_height": null,
            "max_width": null,
            "min_height": null,
            "min_width": null,
            "object_fit": null,
            "object_position": null,
            "order": null,
            "overflow": null,
            "overflow_x": null,
            "overflow_y": null,
            "padding": null,
            "right": null,
            "top": null,
            "visibility": null,
            "width": null
          }
        },
        "b761a8e0fdf44461804f78976ebf93e4": {
          "model_module": "@jupyter-widgets/controls",
          "model_name": "DescriptionStyleModel",
          "model_module_version": "1.5.0",
          "state": {
            "_model_module": "@jupyter-widgets/controls",
            "_model_module_version": "1.5.0",
            "_model_name": "DescriptionStyleModel",
            "_view_count": null,
            "_view_module": "@jupyter-widgets/base",
            "_view_module_version": "1.2.0",
            "_view_name": "StyleView",
            "description_width": ""
          }
        },
        "8a76307e521d4571a32598c92c50e861": {
          "model_module": "@jupyter-widgets/base",
          "model_name": "LayoutModel",
          "model_module_version": "1.2.0",
          "state": {
            "_model_module": "@jupyter-widgets/base",
            "_model_module_version": "1.2.0",
            "_model_name": "LayoutModel",
            "_view_count": null,
            "_view_module": "@jupyter-widgets/base",
            "_view_module_version": "1.2.0",
            "_view_name": "LayoutView",
            "align_content": null,
            "align_items": null,
            "align_self": null,
            "border": null,
            "bottom": null,
            "display": null,
            "flex": null,
            "flex_flow": null,
            "grid_area": null,
            "grid_auto_columns": null,
            "grid_auto_flow": null,
            "grid_auto_rows": null,
            "grid_column": null,
            "grid_gap": null,
            "grid_row": null,
            "grid_template_areas": null,
            "grid_template_columns": null,
            "grid_template_rows": null,
            "height": null,
            "justify_content": null,
            "justify_items": null,
            "left": null,
            "margin": null,
            "max_height": null,
            "max_width": null,
            "min_height": null,
            "min_width": null,
            "object_fit": null,
            "object_position": null,
            "order": null,
            "overflow": null,
            "overflow_x": null,
            "overflow_y": null,
            "padding": null,
            "right": null,
            "top": null,
            "visibility": null,
            "width": "20px"
          }
        },
        "0202503135b84a94a0bc06b2574d8e05": {
          "model_module": "@jupyter-widgets/controls",
          "model_name": "ProgressStyleModel",
          "model_module_version": "1.5.0",
          "state": {
            "_model_module": "@jupyter-widgets/controls",
            "_model_module_version": "1.5.0",
            "_model_name": "ProgressStyleModel",
            "_view_count": null,
            "_view_module": "@jupyter-widgets/base",
            "_view_module_version": "1.2.0",
            "_view_name": "StyleView",
            "bar_color": null,
            "description_width": ""
          }
        },
        "037199cbc00f4a4da07ab4e2c3953c55": {
          "model_module": "@jupyter-widgets/base",
          "model_name": "LayoutModel",
          "model_module_version": "1.2.0",
          "state": {
            "_model_module": "@jupyter-widgets/base",
            "_model_module_version": "1.2.0",
            "_model_name": "LayoutModel",
            "_view_count": null,
            "_view_module": "@jupyter-widgets/base",
            "_view_module_version": "1.2.0",
            "_view_name": "LayoutView",
            "align_content": null,
            "align_items": null,
            "align_self": null,
            "border": null,
            "bottom": null,
            "display": null,
            "flex": null,
            "flex_flow": null,
            "grid_area": null,
            "grid_auto_columns": null,
            "grid_auto_flow": null,
            "grid_auto_rows": null,
            "grid_column": null,
            "grid_gap": null,
            "grid_row": null,
            "grid_template_areas": null,
            "grid_template_columns": null,
            "grid_template_rows": null,
            "height": null,
            "justify_content": null,
            "justify_items": null,
            "left": null,
            "margin": null,
            "max_height": null,
            "max_width": null,
            "min_height": null,
            "min_width": null,
            "object_fit": null,
            "object_position": null,
            "order": null,
            "overflow": null,
            "overflow_x": null,
            "overflow_y": null,
            "padding": null,
            "right": null,
            "top": null,
            "visibility": null,
            "width": null
          }
        },
        "825b17d8d0324212b5f3cbee51d2b7a5": {
          "model_module": "@jupyter-widgets/controls",
          "model_name": "DescriptionStyleModel",
          "model_module_version": "1.5.0",
          "state": {
            "_model_module": "@jupyter-widgets/controls",
            "_model_module_version": "1.5.0",
            "_model_name": "DescriptionStyleModel",
            "_view_count": null,
            "_view_module": "@jupyter-widgets/base",
            "_view_module_version": "1.2.0",
            "_view_name": "StyleView",
            "description_width": ""
          }
        },
        "a6b01f8bc9254ec5818deb1ba6ac7071": {
          "model_module": "@jupyter-widgets/controls",
          "model_name": "HBoxModel",
          "model_module_version": "1.5.0",
          "state": {
            "_dom_classes": [],
            "_model_module": "@jupyter-widgets/controls",
            "_model_module_version": "1.5.0",
            "_model_name": "HBoxModel",
            "_view_count": null,
            "_view_module": "@jupyter-widgets/controls",
            "_view_module_version": "1.5.0",
            "_view_name": "HBoxView",
            "box_style": "",
            "children": [
              "IPY_MODEL_7873ec1a04864828b528c4d05749dc89",
              "IPY_MODEL_bf25658cbd62443d9cfc380844416325",
              "IPY_MODEL_7da82201d0ac41b5838394bb40baa0bb"
            ],
            "layout": "IPY_MODEL_ee7b0dd70d2c457080cc80ee063fadf2"
          }
        },
        "7873ec1a04864828b528c4d05749dc89": {
          "model_module": "@jupyter-widgets/controls",
          "model_name": "HTMLModel",
          "model_module_version": "1.5.0",
          "state": {
            "_dom_classes": [],
            "_model_module": "@jupyter-widgets/controls",
            "_model_module_version": "1.5.0",
            "_model_name": "HTMLModel",
            "_view_count": null,
            "_view_module": "@jupyter-widgets/controls",
            "_view_module_version": "1.5.0",
            "_view_name": "HTMLView",
            "description": "",
            "description_tooltip": null,
            "layout": "IPY_MODEL_1c3d6365f3ae4b15b47780b66b4c43e4",
            "placeholder": "​",
            "style": "IPY_MODEL_88d3775938ac4cb89c59b98a758725e0",
            "value": "100%"
          }
        },
        "bf25658cbd62443d9cfc380844416325": {
          "model_module": "@jupyter-widgets/controls",
          "model_name": "FloatProgressModel",
          "model_module_version": "1.5.0",
          "state": {
            "_dom_classes": [],
            "_model_module": "@jupyter-widgets/controls",
            "_model_module_version": "1.5.0",
            "_model_name": "FloatProgressModel",
            "_view_count": null,
            "_view_module": "@jupyter-widgets/controls",
            "_view_module_version": "1.5.0",
            "_view_name": "ProgressView",
            "bar_style": "success",
            "description": "",
            "description_tooltip": null,
            "layout": "IPY_MODEL_46ae437dc6724cf4a418479fd1555ba5",
            "max": 1,
            "min": 0,
            "orientation": "horizontal",
            "style": "IPY_MODEL_64bab2852b1447ce85b548178e3407df",
            "value": 1
          }
        },
        "7da82201d0ac41b5838394bb40baa0bb": {
          "model_module": "@jupyter-widgets/controls",
          "model_name": "HTMLModel",
          "model_module_version": "1.5.0",
          "state": {
            "_dom_classes": [],
            "_model_module": "@jupyter-widgets/controls",
            "_model_module_version": "1.5.0",
            "_model_name": "HTMLModel",
            "_view_count": null,
            "_view_module": "@jupyter-widgets/controls",
            "_view_module_version": "1.5.0",
            "_view_name": "HTMLView",
            "description": "",
            "description_tooltip": null,
            "layout": "IPY_MODEL_0cbc0fd50ee24df4a00c7ca86e61a103",
            "placeholder": "​",
            "style": "IPY_MODEL_0e3dcd1dcf9d4da1aa9eabc6d7ebc5ae",
            "value": " 1/1 [00:00&lt;00:00, 48.99it/s]"
          }
        },
        "ee7b0dd70d2c457080cc80ee063fadf2": {
          "model_module": "@jupyter-widgets/base",
          "model_name": "LayoutModel",
          "model_module_version": "1.2.0",
          "state": {
            "_model_module": "@jupyter-widgets/base",
            "_model_module_version": "1.2.0",
            "_model_name": "LayoutModel",
            "_view_count": null,
            "_view_module": "@jupyter-widgets/base",
            "_view_module_version": "1.2.0",
            "_view_name": "LayoutView",
            "align_content": null,
            "align_items": null,
            "align_self": null,
            "border": null,
            "bottom": null,
            "display": null,
            "flex": null,
            "flex_flow": null,
            "grid_area": null,
            "grid_auto_columns": null,
            "grid_auto_flow": null,
            "grid_auto_rows": null,
            "grid_column": null,
            "grid_gap": null,
            "grid_row": null,
            "grid_template_areas": null,
            "grid_template_columns": null,
            "grid_template_rows": null,
            "height": null,
            "justify_content": null,
            "justify_items": null,
            "left": null,
            "margin": null,
            "max_height": null,
            "max_width": null,
            "min_height": null,
            "min_width": null,
            "object_fit": null,
            "object_position": null,
            "order": null,
            "overflow": null,
            "overflow_x": null,
            "overflow_y": null,
            "padding": null,
            "right": null,
            "top": null,
            "visibility": null,
            "width": null
          }
        },
        "1c3d6365f3ae4b15b47780b66b4c43e4": {
          "model_module": "@jupyter-widgets/base",
          "model_name": "LayoutModel",
          "model_module_version": "1.2.0",
          "state": {
            "_model_module": "@jupyter-widgets/base",
            "_model_module_version": "1.2.0",
            "_model_name": "LayoutModel",
            "_view_count": null,
            "_view_module": "@jupyter-widgets/base",
            "_view_module_version": "1.2.0",
            "_view_name": "LayoutView",
            "align_content": null,
            "align_items": null,
            "align_self": null,
            "border": null,
            "bottom": null,
            "display": null,
            "flex": null,
            "flex_flow": null,
            "grid_area": null,
            "grid_auto_columns": null,
            "grid_auto_flow": null,
            "grid_auto_rows": null,
            "grid_column": null,
            "grid_gap": null,
            "grid_row": null,
            "grid_template_areas": null,
            "grid_template_columns": null,
            "grid_template_rows": null,
            "height": null,
            "justify_content": null,
            "justify_items": null,
            "left": null,
            "margin": null,
            "max_height": null,
            "max_width": null,
            "min_height": null,
            "min_width": null,
            "object_fit": null,
            "object_position": null,
            "order": null,
            "overflow": null,
            "overflow_x": null,
            "overflow_y": null,
            "padding": null,
            "right": null,
            "top": null,
            "visibility": null,
            "width": null
          }
        },
        "88d3775938ac4cb89c59b98a758725e0": {
          "model_module": "@jupyter-widgets/controls",
          "model_name": "DescriptionStyleModel",
          "model_module_version": "1.5.0",
          "state": {
            "_model_module": "@jupyter-widgets/controls",
            "_model_module_version": "1.5.0",
            "_model_name": "DescriptionStyleModel",
            "_view_count": null,
            "_view_module": "@jupyter-widgets/base",
            "_view_module_version": "1.2.0",
            "_view_name": "StyleView",
            "description_width": ""
          }
        },
        "46ae437dc6724cf4a418479fd1555ba5": {
          "model_module": "@jupyter-widgets/base",
          "model_name": "LayoutModel",
          "model_module_version": "1.2.0",
          "state": {
            "_model_module": "@jupyter-widgets/base",
            "_model_module_version": "1.2.0",
            "_model_name": "LayoutModel",
            "_view_count": null,
            "_view_module": "@jupyter-widgets/base",
            "_view_module_version": "1.2.0",
            "_view_name": "LayoutView",
            "align_content": null,
            "align_items": null,
            "align_self": null,
            "border": null,
            "bottom": null,
            "display": null,
            "flex": null,
            "flex_flow": null,
            "grid_area": null,
            "grid_auto_columns": null,
            "grid_auto_flow": null,
            "grid_auto_rows": null,
            "grid_column": null,
            "grid_gap": null,
            "grid_row": null,
            "grid_template_areas": null,
            "grid_template_columns": null,
            "grid_template_rows": null,
            "height": null,
            "justify_content": null,
            "justify_items": null,
            "left": null,
            "margin": null,
            "max_height": null,
            "max_width": null,
            "min_height": null,
            "min_width": null,
            "object_fit": null,
            "object_position": null,
            "order": null,
            "overflow": null,
            "overflow_x": null,
            "overflow_y": null,
            "padding": null,
            "right": null,
            "top": null,
            "visibility": null,
            "width": null
          }
        },
        "64bab2852b1447ce85b548178e3407df": {
          "model_module": "@jupyter-widgets/controls",
          "model_name": "ProgressStyleModel",
          "model_module_version": "1.5.0",
          "state": {
            "_model_module": "@jupyter-widgets/controls",
            "_model_module_version": "1.5.0",
            "_model_name": "ProgressStyleModel",
            "_view_count": null,
            "_view_module": "@jupyter-widgets/base",
            "_view_module_version": "1.2.0",
            "_view_name": "StyleView",
            "bar_color": null,
            "description_width": ""
          }
        },
        "0cbc0fd50ee24df4a00c7ca86e61a103": {
          "model_module": "@jupyter-widgets/base",
          "model_name": "LayoutModel",
          "model_module_version": "1.2.0",
          "state": {
            "_model_module": "@jupyter-widgets/base",
            "_model_module_version": "1.2.0",
            "_model_name": "LayoutModel",
            "_view_count": null,
            "_view_module": "@jupyter-widgets/base",
            "_view_module_version": "1.2.0",
            "_view_name": "LayoutView",
            "align_content": null,
            "align_items": null,
            "align_self": null,
            "border": null,
            "bottom": null,
            "display": null,
            "flex": null,
            "flex_flow": null,
            "grid_area": null,
            "grid_auto_columns": null,
            "grid_auto_flow": null,
            "grid_auto_rows": null,
            "grid_column": null,
            "grid_gap": null,
            "grid_row": null,
            "grid_template_areas": null,
            "grid_template_columns": null,
            "grid_template_rows": null,
            "height": null,
            "justify_content": null,
            "justify_items": null,
            "left": null,
            "margin": null,
            "max_height": null,
            "max_width": null,
            "min_height": null,
            "min_width": null,
            "object_fit": null,
            "object_position": null,
            "order": null,
            "overflow": null,
            "overflow_x": null,
            "overflow_y": null,
            "padding": null,
            "right": null,
            "top": null,
            "visibility": null,
            "width": null
          }
        },
        "0e3dcd1dcf9d4da1aa9eabc6d7ebc5ae": {
          "model_module": "@jupyter-widgets/controls",
          "model_name": "DescriptionStyleModel",
          "model_module_version": "1.5.0",
          "state": {
            "_model_module": "@jupyter-widgets/controls",
            "_model_module_version": "1.5.0",
            "_model_name": "DescriptionStyleModel",
            "_view_count": null,
            "_view_module": "@jupyter-widgets/base",
            "_view_module_version": "1.2.0",
            "_view_name": "StyleView",
            "description_width": ""
          }
        },
        "f87404a42dc24230a74afdcf563687f4": {
          "model_module": "@jupyter-widgets/controls",
          "model_name": "HBoxModel",
          "model_module_version": "1.5.0",
          "state": {
            "_dom_classes": [],
            "_model_module": "@jupyter-widgets/controls",
            "_model_module_version": "1.5.0",
            "_model_name": "HBoxModel",
            "_view_count": null,
            "_view_module": "@jupyter-widgets/controls",
            "_view_module_version": "1.5.0",
            "_view_name": "HBoxView",
            "box_style": "",
            "children": [
              "IPY_MODEL_50a8f16a40524c53b6ed53e14c19b587",
              "IPY_MODEL_283a88f6818a49c3873acc617652fc62",
              "IPY_MODEL_56e15cfee8164e17a43bdec207033aff"
            ],
            "layout": "IPY_MODEL_1443fb3d42b9485cb5acc4ab7e59c342"
          }
        },
        "50a8f16a40524c53b6ed53e14c19b587": {
          "model_module": "@jupyter-widgets/controls",
          "model_name": "HTMLModel",
          "model_module_version": "1.5.0",
          "state": {
            "_dom_classes": [],
            "_model_module": "@jupyter-widgets/controls",
            "_model_module_version": "1.5.0",
            "_model_name": "HTMLModel",
            "_view_count": null,
            "_view_module": "@jupyter-widgets/controls",
            "_view_module_version": "1.5.0",
            "_view_name": "HTMLView",
            "description": "",
            "description_tooltip": null,
            "layout": "IPY_MODEL_1bb94956b625417890ffb4e06609863d",
            "placeholder": "​",
            "style": "IPY_MODEL_8dd94e97df2a434ea6ea9cd27bfb86b5",
            "value": "100%"
          }
        },
        "283a88f6818a49c3873acc617652fc62": {
          "model_module": "@jupyter-widgets/controls",
          "model_name": "FloatProgressModel",
          "model_module_version": "1.5.0",
          "state": {
            "_dom_classes": [],
            "_model_module": "@jupyter-widgets/controls",
            "_model_module_version": "1.5.0",
            "_model_name": "FloatProgressModel",
            "_view_count": null,
            "_view_module": "@jupyter-widgets/controls",
            "_view_module_version": "1.5.0",
            "_view_name": "ProgressView",
            "bar_style": "success",
            "description": "",
            "description_tooltip": null,
            "layout": "IPY_MODEL_03ff64e38f364f3f9809c23fb2cdc388",
            "max": 8117,
            "min": 0,
            "orientation": "horizontal",
            "style": "IPY_MODEL_a7c746d2eebc4447b248f294233c2f49",
            "value": 8117
          }
        },
        "56e15cfee8164e17a43bdec207033aff": {
          "model_module": "@jupyter-widgets/controls",
          "model_name": "HTMLModel",
          "model_module_version": "1.5.0",
          "state": {
            "_dom_classes": [],
            "_model_module": "@jupyter-widgets/controls",
            "_model_module_version": "1.5.0",
            "_model_name": "HTMLModel",
            "_view_count": null,
            "_view_module": "@jupyter-widgets/controls",
            "_view_module_version": "1.5.0",
            "_view_name": "HTMLView",
            "description": "",
            "description_tooltip": null,
            "layout": "IPY_MODEL_6b06c7b2bab54c748c57204d7be74bc6",
            "placeholder": "​",
            "style": "IPY_MODEL_cec4b28845474ca0852ddc429a8bb9db",
            "value": " 8117/8117 [00:00&lt;00:00, 18217.59ex/s]"
          }
        },
        "1443fb3d42b9485cb5acc4ab7e59c342": {
          "model_module": "@jupyter-widgets/base",
          "model_name": "LayoutModel",
          "model_module_version": "1.2.0",
          "state": {
            "_model_module": "@jupyter-widgets/base",
            "_model_module_version": "1.2.0",
            "_model_name": "LayoutModel",
            "_view_count": null,
            "_view_module": "@jupyter-widgets/base",
            "_view_module_version": "1.2.0",
            "_view_name": "LayoutView",
            "align_content": null,
            "align_items": null,
            "align_self": null,
            "border": null,
            "bottom": null,
            "display": null,
            "flex": null,
            "flex_flow": null,
            "grid_area": null,
            "grid_auto_columns": null,
            "grid_auto_flow": null,
            "grid_auto_rows": null,
            "grid_column": null,
            "grid_gap": null,
            "grid_row": null,
            "grid_template_areas": null,
            "grid_template_columns": null,
            "grid_template_rows": null,
            "height": null,
            "justify_content": null,
            "justify_items": null,
            "left": null,
            "margin": null,
            "max_height": null,
            "max_width": null,
            "min_height": null,
            "min_width": null,
            "object_fit": null,
            "object_position": null,
            "order": null,
            "overflow": null,
            "overflow_x": null,
            "overflow_y": null,
            "padding": null,
            "right": null,
            "top": null,
            "visibility": null,
            "width": null
          }
        },
        "1bb94956b625417890ffb4e06609863d": {
          "model_module": "@jupyter-widgets/base",
          "model_name": "LayoutModel",
          "model_module_version": "1.2.0",
          "state": {
            "_model_module": "@jupyter-widgets/base",
            "_model_module_version": "1.2.0",
            "_model_name": "LayoutModel",
            "_view_count": null,
            "_view_module": "@jupyter-widgets/base",
            "_view_module_version": "1.2.0",
            "_view_name": "LayoutView",
            "align_content": null,
            "align_items": null,
            "align_self": null,
            "border": null,
            "bottom": null,
            "display": null,
            "flex": null,
            "flex_flow": null,
            "grid_area": null,
            "grid_auto_columns": null,
            "grid_auto_flow": null,
            "grid_auto_rows": null,
            "grid_column": null,
            "grid_gap": null,
            "grid_row": null,
            "grid_template_areas": null,
            "grid_template_columns": null,
            "grid_template_rows": null,
            "height": null,
            "justify_content": null,
            "justify_items": null,
            "left": null,
            "margin": null,
            "max_height": null,
            "max_width": null,
            "min_height": null,
            "min_width": null,
            "object_fit": null,
            "object_position": null,
            "order": null,
            "overflow": null,
            "overflow_x": null,
            "overflow_y": null,
            "padding": null,
            "right": null,
            "top": null,
            "visibility": null,
            "width": null
          }
        },
        "8dd94e97df2a434ea6ea9cd27bfb86b5": {
          "model_module": "@jupyter-widgets/controls",
          "model_name": "DescriptionStyleModel",
          "model_module_version": "1.5.0",
          "state": {
            "_model_module": "@jupyter-widgets/controls",
            "_model_module_version": "1.5.0",
            "_model_name": "DescriptionStyleModel",
            "_view_count": null,
            "_view_module": "@jupyter-widgets/base",
            "_view_module_version": "1.2.0",
            "_view_name": "StyleView",
            "description_width": ""
          }
        },
        "03ff64e38f364f3f9809c23fb2cdc388": {
          "model_module": "@jupyter-widgets/base",
          "model_name": "LayoutModel",
          "model_module_version": "1.2.0",
          "state": {
            "_model_module": "@jupyter-widgets/base",
            "_model_module_version": "1.2.0",
            "_model_name": "LayoutModel",
            "_view_count": null,
            "_view_module": "@jupyter-widgets/base",
            "_view_module_version": "1.2.0",
            "_view_name": "LayoutView",
            "align_content": null,
            "align_items": null,
            "align_self": null,
            "border": null,
            "bottom": null,
            "display": null,
            "flex": null,
            "flex_flow": null,
            "grid_area": null,
            "grid_auto_columns": null,
            "grid_auto_flow": null,
            "grid_auto_rows": null,
            "grid_column": null,
            "grid_gap": null,
            "grid_row": null,
            "grid_template_areas": null,
            "grid_template_columns": null,
            "grid_template_rows": null,
            "height": null,
            "justify_content": null,
            "justify_items": null,
            "left": null,
            "margin": null,
            "max_height": null,
            "max_width": null,
            "min_height": null,
            "min_width": null,
            "object_fit": null,
            "object_position": null,
            "order": null,
            "overflow": null,
            "overflow_x": null,
            "overflow_y": null,
            "padding": null,
            "right": null,
            "top": null,
            "visibility": null,
            "width": null
          }
        },
        "a7c746d2eebc4447b248f294233c2f49": {
          "model_module": "@jupyter-widgets/controls",
          "model_name": "ProgressStyleModel",
          "model_module_version": "1.5.0",
          "state": {
            "_model_module": "@jupyter-widgets/controls",
            "_model_module_version": "1.5.0",
            "_model_name": "ProgressStyleModel",
            "_view_count": null,
            "_view_module": "@jupyter-widgets/base",
            "_view_module_version": "1.2.0",
            "_view_name": "StyleView",
            "bar_color": null,
            "description_width": ""
          }
        },
        "6b06c7b2bab54c748c57204d7be74bc6": {
          "model_module": "@jupyter-widgets/base",
          "model_name": "LayoutModel",
          "model_module_version": "1.2.0",
          "state": {
            "_model_module": "@jupyter-widgets/base",
            "_model_module_version": "1.2.0",
            "_model_name": "LayoutModel",
            "_view_count": null,
            "_view_module": "@jupyter-widgets/base",
            "_view_module_version": "1.2.0",
            "_view_name": "LayoutView",
            "align_content": null,
            "align_items": null,
            "align_self": null,
            "border": null,
            "bottom": null,
            "display": null,
            "flex": null,
            "flex_flow": null,
            "grid_area": null,
            "grid_auto_columns": null,
            "grid_auto_flow": null,
            "grid_auto_rows": null,
            "grid_column": null,
            "grid_gap": null,
            "grid_row": null,
            "grid_template_areas": null,
            "grid_template_columns": null,
            "grid_template_rows": null,
            "height": null,
            "justify_content": null,
            "justify_items": null,
            "left": null,
            "margin": null,
            "max_height": null,
            "max_width": null,
            "min_height": null,
            "min_width": null,
            "object_fit": null,
            "object_position": null,
            "order": null,
            "overflow": null,
            "overflow_x": null,
            "overflow_y": null,
            "padding": null,
            "right": null,
            "top": null,
            "visibility": null,
            "width": null
          }
        },
        "cec4b28845474ca0852ddc429a8bb9db": {
          "model_module": "@jupyter-widgets/controls",
          "model_name": "DescriptionStyleModel",
          "model_module_version": "1.5.0",
          "state": {
            "_model_module": "@jupyter-widgets/controls",
            "_model_module_version": "1.5.0",
            "_model_name": "DescriptionStyleModel",
            "_view_count": null,
            "_view_module": "@jupyter-widgets/base",
            "_view_module_version": "1.2.0",
            "_view_name": "StyleView",
            "description_width": ""
          }
        },
        "ba275edd5ee64caeb9bd29360276b4d0": {
          "model_module": "@jupyter-widgets/controls",
          "model_name": "HBoxModel",
          "model_module_version": "1.5.0",
          "state": {
            "_dom_classes": [],
            "_model_module": "@jupyter-widgets/controls",
            "_model_module_version": "1.5.0",
            "_model_name": "HBoxModel",
            "_view_count": null,
            "_view_module": "@jupyter-widgets/controls",
            "_view_module_version": "1.5.0",
            "_view_name": "HBoxView",
            "box_style": "",
            "children": [
              "IPY_MODEL_12e9890c9fc548128f1b90ac829149b6",
              "IPY_MODEL_3c58e5dc363243d0af4e1bfed5c73507",
              "IPY_MODEL_e07ff681952c414fb039fbc34816de81"
            ],
            "layout": "IPY_MODEL_67caebca10cb44f1baf0fafc8c70f1d9"
          }
        },
        "12e9890c9fc548128f1b90ac829149b6": {
          "model_module": "@jupyter-widgets/controls",
          "model_name": "HTMLModel",
          "model_module_version": "1.5.0",
          "state": {
            "_dom_classes": [],
            "_model_module": "@jupyter-widgets/controls",
            "_model_module_version": "1.5.0",
            "_model_name": "HTMLModel",
            "_view_count": null,
            "_view_module": "@jupyter-widgets/controls",
            "_view_module_version": "1.5.0",
            "_view_name": "HTMLView",
            "description": "",
            "description_tooltip": null,
            "layout": "IPY_MODEL_a84b33efcacb452d9bfc166d91cc2d88",
            "placeholder": "​",
            "style": "IPY_MODEL_fef9ba302b914aa2a14f683765891e09",
            "value": "100%"
          }
        },
        "3c58e5dc363243d0af4e1bfed5c73507": {
          "model_module": "@jupyter-widgets/controls",
          "model_name": "FloatProgressModel",
          "model_module_version": "1.5.0",
          "state": {
            "_dom_classes": [],
            "_model_module": "@jupyter-widgets/controls",
            "_model_module_version": "1.5.0",
            "_model_name": "FloatProgressModel",
            "_view_count": null,
            "_view_module": "@jupyter-widgets/controls",
            "_view_module_version": "1.5.0",
            "_view_name": "ProgressView",
            "bar_style": "success",
            "description": "",
            "description_tooltip": null,
            "layout": "IPY_MODEL_8aa9cd41cbd7465899c1429540e42aed",
            "max": 622,
            "min": 0,
            "orientation": "horizontal",
            "style": "IPY_MODEL_01c0d2bc4d1944869734e2235cd5eb51",
            "value": 622
          }
        },
        "e07ff681952c414fb039fbc34816de81": {
          "model_module": "@jupyter-widgets/controls",
          "model_name": "HTMLModel",
          "model_module_version": "1.5.0",
          "state": {
            "_dom_classes": [],
            "_model_module": "@jupyter-widgets/controls",
            "_model_module_version": "1.5.0",
            "_model_name": "HTMLModel",
            "_view_count": null,
            "_view_module": "@jupyter-widgets/controls",
            "_view_module_version": "1.5.0",
            "_view_name": "HTMLView",
            "description": "",
            "description_tooltip": null,
            "layout": "IPY_MODEL_10b90672c5524ceaab2697d6886688a7",
            "placeholder": "​",
            "style": "IPY_MODEL_bcceda1053474499b962a86e734ec94a",
            "value": " 622/622 [00:00&lt;00:00, 11242.80ex/s]"
          }
        },
        "67caebca10cb44f1baf0fafc8c70f1d9": {
          "model_module": "@jupyter-widgets/base",
          "model_name": "LayoutModel",
          "model_module_version": "1.2.0",
          "state": {
            "_model_module": "@jupyter-widgets/base",
            "_model_module_version": "1.2.0",
            "_model_name": "LayoutModel",
            "_view_count": null,
            "_view_module": "@jupyter-widgets/base",
            "_view_module_version": "1.2.0",
            "_view_name": "LayoutView",
            "align_content": null,
            "align_items": null,
            "align_self": null,
            "border": null,
            "bottom": null,
            "display": null,
            "flex": null,
            "flex_flow": null,
            "grid_area": null,
            "grid_auto_columns": null,
            "grid_auto_flow": null,
            "grid_auto_rows": null,
            "grid_column": null,
            "grid_gap": null,
            "grid_row": null,
            "grid_template_areas": null,
            "grid_template_columns": null,
            "grid_template_rows": null,
            "height": null,
            "justify_content": null,
            "justify_items": null,
            "left": null,
            "margin": null,
            "max_height": null,
            "max_width": null,
            "min_height": null,
            "min_width": null,
            "object_fit": null,
            "object_position": null,
            "order": null,
            "overflow": null,
            "overflow_x": null,
            "overflow_y": null,
            "padding": null,
            "right": null,
            "top": null,
            "visibility": null,
            "width": null
          }
        },
        "a84b33efcacb452d9bfc166d91cc2d88": {
          "model_module": "@jupyter-widgets/base",
          "model_name": "LayoutModel",
          "model_module_version": "1.2.0",
          "state": {
            "_model_module": "@jupyter-widgets/base",
            "_model_module_version": "1.2.0",
            "_model_name": "LayoutModel",
            "_view_count": null,
            "_view_module": "@jupyter-widgets/base",
            "_view_module_version": "1.2.0",
            "_view_name": "LayoutView",
            "align_content": null,
            "align_items": null,
            "align_self": null,
            "border": null,
            "bottom": null,
            "display": null,
            "flex": null,
            "flex_flow": null,
            "grid_area": null,
            "grid_auto_columns": null,
            "grid_auto_flow": null,
            "grid_auto_rows": null,
            "grid_column": null,
            "grid_gap": null,
            "grid_row": null,
            "grid_template_areas": null,
            "grid_template_columns": null,
            "grid_template_rows": null,
            "height": null,
            "justify_content": null,
            "justify_items": null,
            "left": null,
            "margin": null,
            "max_height": null,
            "max_width": null,
            "min_height": null,
            "min_width": null,
            "object_fit": null,
            "object_position": null,
            "order": null,
            "overflow": null,
            "overflow_x": null,
            "overflow_y": null,
            "padding": null,
            "right": null,
            "top": null,
            "visibility": null,
            "width": null
          }
        },
        "fef9ba302b914aa2a14f683765891e09": {
          "model_module": "@jupyter-widgets/controls",
          "model_name": "DescriptionStyleModel",
          "model_module_version": "1.5.0",
          "state": {
            "_model_module": "@jupyter-widgets/controls",
            "_model_module_version": "1.5.0",
            "_model_name": "DescriptionStyleModel",
            "_view_count": null,
            "_view_module": "@jupyter-widgets/base",
            "_view_module_version": "1.2.0",
            "_view_name": "StyleView",
            "description_width": ""
          }
        },
        "8aa9cd41cbd7465899c1429540e42aed": {
          "model_module": "@jupyter-widgets/base",
          "model_name": "LayoutModel",
          "model_module_version": "1.2.0",
          "state": {
            "_model_module": "@jupyter-widgets/base",
            "_model_module_version": "1.2.0",
            "_model_name": "LayoutModel",
            "_view_count": null,
            "_view_module": "@jupyter-widgets/base",
            "_view_module_version": "1.2.0",
            "_view_name": "LayoutView",
            "align_content": null,
            "align_items": null,
            "align_self": null,
            "border": null,
            "bottom": null,
            "display": null,
            "flex": null,
            "flex_flow": null,
            "grid_area": null,
            "grid_auto_columns": null,
            "grid_auto_flow": null,
            "grid_auto_rows": null,
            "grid_column": null,
            "grid_gap": null,
            "grid_row": null,
            "grid_template_areas": null,
            "grid_template_columns": null,
            "grid_template_rows": null,
            "height": null,
            "justify_content": null,
            "justify_items": null,
            "left": null,
            "margin": null,
            "max_height": null,
            "max_width": null,
            "min_height": null,
            "min_width": null,
            "object_fit": null,
            "object_position": null,
            "order": null,
            "overflow": null,
            "overflow_x": null,
            "overflow_y": null,
            "padding": null,
            "right": null,
            "top": null,
            "visibility": null,
            "width": null
          }
        },
        "01c0d2bc4d1944869734e2235cd5eb51": {
          "model_module": "@jupyter-widgets/controls",
          "model_name": "ProgressStyleModel",
          "model_module_version": "1.5.0",
          "state": {
            "_model_module": "@jupyter-widgets/controls",
            "_model_module_version": "1.5.0",
            "_model_name": "ProgressStyleModel",
            "_view_count": null,
            "_view_module": "@jupyter-widgets/base",
            "_view_module_version": "1.2.0",
            "_view_name": "StyleView",
            "bar_color": null,
            "description_width": ""
          }
        },
        "10b90672c5524ceaab2697d6886688a7": {
          "model_module": "@jupyter-widgets/base",
          "model_name": "LayoutModel",
          "model_module_version": "1.2.0",
          "state": {
            "_model_module": "@jupyter-widgets/base",
            "_model_module_version": "1.2.0",
            "_model_name": "LayoutModel",
            "_view_count": null,
            "_view_module": "@jupyter-widgets/base",
            "_view_module_version": "1.2.0",
            "_view_name": "LayoutView",
            "align_content": null,
            "align_items": null,
            "align_self": null,
            "border": null,
            "bottom": null,
            "display": null,
            "flex": null,
            "flex_flow": null,
            "grid_area": null,
            "grid_auto_columns": null,
            "grid_auto_flow": null,
            "grid_auto_rows": null,
            "grid_column": null,
            "grid_gap": null,
            "grid_row": null,
            "grid_template_areas": null,
            "grid_template_columns": null,
            "grid_template_rows": null,
            "height": null,
            "justify_content": null,
            "justify_items": null,
            "left": null,
            "margin": null,
            "max_height": null,
            "max_width": null,
            "min_height": null,
            "min_width": null,
            "object_fit": null,
            "object_position": null,
            "order": null,
            "overflow": null,
            "overflow_x": null,
            "overflow_y": null,
            "padding": null,
            "right": null,
            "top": null,
            "visibility": null,
            "width": null
          }
        },
        "bcceda1053474499b962a86e734ec94a": {
          "model_module": "@jupyter-widgets/controls",
          "model_name": "DescriptionStyleModel",
          "model_module_version": "1.5.0",
          "state": {
            "_model_module": "@jupyter-widgets/controls",
            "_model_module_version": "1.5.0",
            "_model_name": "DescriptionStyleModel",
            "_view_count": null,
            "_view_module": "@jupyter-widgets/base",
            "_view_module_version": "1.2.0",
            "_view_name": "StyleView",
            "description_width": ""
          }
        },
        "ce8a5f3023f44fb4b0af674ca8d2a0e3": {
          "model_module": "@jupyter-widgets/controls",
          "model_name": "HBoxModel",
          "model_module_version": "1.5.0",
          "state": {
            "_dom_classes": [],
            "_model_module": "@jupyter-widgets/controls",
            "_model_module_version": "1.5.0",
            "_model_name": "HBoxModel",
            "_view_count": null,
            "_view_module": "@jupyter-widgets/controls",
            "_view_module_version": "1.5.0",
            "_view_name": "HBoxView",
            "box_style": "",
            "children": [
              "IPY_MODEL_98a96aaacbe149388758c37c0a480aef",
              "IPY_MODEL_f51144fbeef646cc8bbfff48e22f3344",
              "IPY_MODEL_a5723f8e0e994fed9b548868a1b12e87"
            ],
            "layout": "IPY_MODEL_690626ff285e453bbe87acf0b0585fd0"
          }
        },
        "98a96aaacbe149388758c37c0a480aef": {
          "model_module": "@jupyter-widgets/controls",
          "model_name": "HTMLModel",
          "model_module_version": "1.5.0",
          "state": {
            "_dom_classes": [],
            "_model_module": "@jupyter-widgets/controls",
            "_model_module_version": "1.5.0",
            "_model_name": "HTMLModel",
            "_view_count": null,
            "_view_module": "@jupyter-widgets/controls",
            "_view_module_version": "1.5.0",
            "_view_name": "HTMLView",
            "description": "",
            "description_tooltip": null,
            "layout": "IPY_MODEL_2410906e97ab4ccfa6ee30d0118e477e",
            "placeholder": "​",
            "style": "IPY_MODEL_243ac9dce14d481f8ade345cae89c0b7",
            "value": "100%"
          }
        },
        "f51144fbeef646cc8bbfff48e22f3344": {
          "model_module": "@jupyter-widgets/controls",
          "model_name": "FloatProgressModel",
          "model_module_version": "1.5.0",
          "state": {
            "_dom_classes": [],
            "_model_module": "@jupyter-widgets/controls",
            "_model_module_version": "1.5.0",
            "_model_name": "FloatProgressModel",
            "_view_count": null,
            "_view_module": "@jupyter-widgets/controls",
            "_view_module_version": "1.5.0",
            "_view_name": "ProgressView",
            "bar_style": "success",
            "description": "",
            "description_tooltip": null,
            "layout": "IPY_MODEL_e0b7d267f3c244b9bcd61dbdfdc21dd8",
            "max": 1,
            "min": 0,
            "orientation": "horizontal",
            "style": "IPY_MODEL_e7fb775a195a4013b030d65359e9d022",
            "value": 1
          }
        },
        "a5723f8e0e994fed9b548868a1b12e87": {
          "model_module": "@jupyter-widgets/controls",
          "model_name": "HTMLModel",
          "model_module_version": "1.5.0",
          "state": {
            "_dom_classes": [],
            "_model_module": "@jupyter-widgets/controls",
            "_model_module_version": "1.5.0",
            "_model_name": "HTMLModel",
            "_view_count": null,
            "_view_module": "@jupyter-widgets/controls",
            "_view_module_version": "1.5.0",
            "_view_name": "HTMLView",
            "description": "",
            "description_tooltip": null,
            "layout": "IPY_MODEL_2dad33a603fe44fa9a9850ba2ff55b96",
            "placeholder": "​",
            "style": "IPY_MODEL_f9bce895f3cf42caaf6a8918b1856818",
            "value": " 1/1 [00:00&lt;00:00, 20.39ba/s]"
          }
        },
        "690626ff285e453bbe87acf0b0585fd0": {
          "model_module": "@jupyter-widgets/base",
          "model_name": "LayoutModel",
          "model_module_version": "1.2.0",
          "state": {
            "_model_module": "@jupyter-widgets/base",
            "_model_module_version": "1.2.0",
            "_model_name": "LayoutModel",
            "_view_count": null,
            "_view_module": "@jupyter-widgets/base",
            "_view_module_version": "1.2.0",
            "_view_name": "LayoutView",
            "align_content": null,
            "align_items": null,
            "align_self": null,
            "border": null,
            "bottom": null,
            "display": null,
            "flex": null,
            "flex_flow": null,
            "grid_area": null,
            "grid_auto_columns": null,
            "grid_auto_flow": null,
            "grid_auto_rows": null,
            "grid_column": null,
            "grid_gap": null,
            "grid_row": null,
            "grid_template_areas": null,
            "grid_template_columns": null,
            "grid_template_rows": null,
            "height": null,
            "justify_content": null,
            "justify_items": null,
            "left": null,
            "margin": null,
            "max_height": null,
            "max_width": null,
            "min_height": null,
            "min_width": null,
            "object_fit": null,
            "object_position": null,
            "order": null,
            "overflow": null,
            "overflow_x": null,
            "overflow_y": null,
            "padding": null,
            "right": null,
            "top": null,
            "visibility": null,
            "width": null
          }
        },
        "2410906e97ab4ccfa6ee30d0118e477e": {
          "model_module": "@jupyter-widgets/base",
          "model_name": "LayoutModel",
          "model_module_version": "1.2.0",
          "state": {
            "_model_module": "@jupyter-widgets/base",
            "_model_module_version": "1.2.0",
            "_model_name": "LayoutModel",
            "_view_count": null,
            "_view_module": "@jupyter-widgets/base",
            "_view_module_version": "1.2.0",
            "_view_name": "LayoutView",
            "align_content": null,
            "align_items": null,
            "align_self": null,
            "border": null,
            "bottom": null,
            "display": null,
            "flex": null,
            "flex_flow": null,
            "grid_area": null,
            "grid_auto_columns": null,
            "grid_auto_flow": null,
            "grid_auto_rows": null,
            "grid_column": null,
            "grid_gap": null,
            "grid_row": null,
            "grid_template_areas": null,
            "grid_template_columns": null,
            "grid_template_rows": null,
            "height": null,
            "justify_content": null,
            "justify_items": null,
            "left": null,
            "margin": null,
            "max_height": null,
            "max_width": null,
            "min_height": null,
            "min_width": null,
            "object_fit": null,
            "object_position": null,
            "order": null,
            "overflow": null,
            "overflow_x": null,
            "overflow_y": null,
            "padding": null,
            "right": null,
            "top": null,
            "visibility": null,
            "width": null
          }
        },
        "243ac9dce14d481f8ade345cae89c0b7": {
          "model_module": "@jupyter-widgets/controls",
          "model_name": "DescriptionStyleModel",
          "model_module_version": "1.5.0",
          "state": {
            "_model_module": "@jupyter-widgets/controls",
            "_model_module_version": "1.5.0",
            "_model_name": "DescriptionStyleModel",
            "_view_count": null,
            "_view_module": "@jupyter-widgets/base",
            "_view_module_version": "1.2.0",
            "_view_name": "StyleView",
            "description_width": ""
          }
        },
        "e0b7d267f3c244b9bcd61dbdfdc21dd8": {
          "model_module": "@jupyter-widgets/base",
          "model_name": "LayoutModel",
          "model_module_version": "1.2.0",
          "state": {
            "_model_module": "@jupyter-widgets/base",
            "_model_module_version": "1.2.0",
            "_model_name": "LayoutModel",
            "_view_count": null,
            "_view_module": "@jupyter-widgets/base",
            "_view_module_version": "1.2.0",
            "_view_name": "LayoutView",
            "align_content": null,
            "align_items": null,
            "align_self": null,
            "border": null,
            "bottom": null,
            "display": null,
            "flex": null,
            "flex_flow": null,
            "grid_area": null,
            "grid_auto_columns": null,
            "grid_auto_flow": null,
            "grid_auto_rows": null,
            "grid_column": null,
            "grid_gap": null,
            "grid_row": null,
            "grid_template_areas": null,
            "grid_template_columns": null,
            "grid_template_rows": null,
            "height": null,
            "justify_content": null,
            "justify_items": null,
            "left": null,
            "margin": null,
            "max_height": null,
            "max_width": null,
            "min_height": null,
            "min_width": null,
            "object_fit": null,
            "object_position": null,
            "order": null,
            "overflow": null,
            "overflow_x": null,
            "overflow_y": null,
            "padding": null,
            "right": null,
            "top": null,
            "visibility": null,
            "width": null
          }
        },
        "e7fb775a195a4013b030d65359e9d022": {
          "model_module": "@jupyter-widgets/controls",
          "model_name": "ProgressStyleModel",
          "model_module_version": "1.5.0",
          "state": {
            "_model_module": "@jupyter-widgets/controls",
            "_model_module_version": "1.5.0",
            "_model_name": "ProgressStyleModel",
            "_view_count": null,
            "_view_module": "@jupyter-widgets/base",
            "_view_module_version": "1.2.0",
            "_view_name": "StyleView",
            "bar_color": null,
            "description_width": ""
          }
        },
        "2dad33a603fe44fa9a9850ba2ff55b96": {
          "model_module": "@jupyter-widgets/base",
          "model_name": "LayoutModel",
          "model_module_version": "1.2.0",
          "state": {
            "_model_module": "@jupyter-widgets/base",
            "_model_module_version": "1.2.0",
            "_model_name": "LayoutModel",
            "_view_count": null,
            "_view_module": "@jupyter-widgets/base",
            "_view_module_version": "1.2.0",
            "_view_name": "LayoutView",
            "align_content": null,
            "align_items": null,
            "align_self": null,
            "border": null,
            "bottom": null,
            "display": null,
            "flex": null,
            "flex_flow": null,
            "grid_area": null,
            "grid_auto_columns": null,
            "grid_auto_flow": null,
            "grid_auto_rows": null,
            "grid_column": null,
            "grid_gap": null,
            "grid_row": null,
            "grid_template_areas": null,
            "grid_template_columns": null,
            "grid_template_rows": null,
            "height": null,
            "justify_content": null,
            "justify_items": null,
            "left": null,
            "margin": null,
            "max_height": null,
            "max_width": null,
            "min_height": null,
            "min_width": null,
            "object_fit": null,
            "object_position": null,
            "order": null,
            "overflow": null,
            "overflow_x": null,
            "overflow_y": null,
            "padding": null,
            "right": null,
            "top": null,
            "visibility": null,
            "width": null
          }
        },
        "f9bce895f3cf42caaf6a8918b1856818": {
          "model_module": "@jupyter-widgets/controls",
          "model_name": "DescriptionStyleModel",
          "model_module_version": "1.5.0",
          "state": {
            "_model_module": "@jupyter-widgets/controls",
            "_model_module_version": "1.5.0",
            "_model_name": "DescriptionStyleModel",
            "_view_count": null,
            "_view_module": "@jupyter-widgets/base",
            "_view_module_version": "1.2.0",
            "_view_name": "StyleView",
            "description_width": ""
          }
        },
        "3d50c7e047944ec8b0cf3df139864a23": {
          "model_module": "@jupyter-widgets/controls",
          "model_name": "HBoxModel",
          "model_module_version": "1.5.0",
          "state": {
            "_dom_classes": [],
            "_model_module": "@jupyter-widgets/controls",
            "_model_module_version": "1.5.0",
            "_model_name": "HBoxModel",
            "_view_count": null,
            "_view_module": "@jupyter-widgets/controls",
            "_view_module_version": "1.5.0",
            "_view_name": "HBoxView",
            "box_style": "",
            "children": [
              "IPY_MODEL_3d94fc3761fa4f13b95f8b649ecb5223",
              "IPY_MODEL_61eb01d96c0a4463a1973b4ca7b520e7",
              "IPY_MODEL_2feeaac843c949788834e254d3625ce7"
            ],
            "layout": "IPY_MODEL_13575a6f61114c3882fe30158d4aa5fc"
          }
        },
        "3d94fc3761fa4f13b95f8b649ecb5223": {
          "model_module": "@jupyter-widgets/controls",
          "model_name": "HTMLModel",
          "model_module_version": "1.5.0",
          "state": {
            "_dom_classes": [],
            "_model_module": "@jupyter-widgets/controls",
            "_model_module_version": "1.5.0",
            "_model_name": "HTMLModel",
            "_view_count": null,
            "_view_module": "@jupyter-widgets/controls",
            "_view_module_version": "1.5.0",
            "_view_name": "HTMLView",
            "description": "",
            "description_tooltip": null,
            "layout": "IPY_MODEL_d9d5aadc4ab749fcadff70645208446e",
            "placeholder": "​",
            "style": "IPY_MODEL_7791a83f5c6b4f9dabe43fba44c79880",
            "value": "100%"
          }
        },
        "61eb01d96c0a4463a1973b4ca7b520e7": {
          "model_module": "@jupyter-widgets/controls",
          "model_name": "FloatProgressModel",
          "model_module_version": "1.5.0",
          "state": {
            "_dom_classes": [],
            "_model_module": "@jupyter-widgets/controls",
            "_model_module_version": "1.5.0",
            "_model_name": "FloatProgressModel",
            "_view_count": null,
            "_view_module": "@jupyter-widgets/controls",
            "_view_module_version": "1.5.0",
            "_view_name": "ProgressView",
            "bar_style": "success",
            "description": "",
            "description_tooltip": null,
            "layout": "IPY_MODEL_cf1685bbc5ae49d8a2402c2dc027b499",
            "max": 1,
            "min": 0,
            "orientation": "horizontal",
            "style": "IPY_MODEL_a821d4cf6aa845dbb3a0067ff9ff1e63",
            "value": 1
          }
        },
        "2feeaac843c949788834e254d3625ce7": {
          "model_module": "@jupyter-widgets/controls",
          "model_name": "HTMLModel",
          "model_module_version": "1.5.0",
          "state": {
            "_dom_classes": [],
            "_model_module": "@jupyter-widgets/controls",
            "_model_module_version": "1.5.0",
            "_model_name": "HTMLModel",
            "_view_count": null,
            "_view_module": "@jupyter-widgets/controls",
            "_view_module_version": "1.5.0",
            "_view_name": "HTMLView",
            "description": "",
            "description_tooltip": null,
            "layout": "IPY_MODEL_7d1f166cdce5426f81a0415194e091d7",
            "placeholder": "​",
            "style": "IPY_MODEL_0551737a4bab48878b4f1e103cf225af",
            "value": " 1/1 [00:00&lt;00:00, 46.49ba/s]"
          }
        },
        "13575a6f61114c3882fe30158d4aa5fc": {
          "model_module": "@jupyter-widgets/base",
          "model_name": "LayoutModel",
          "model_module_version": "1.2.0",
          "state": {
            "_model_module": "@jupyter-widgets/base",
            "_model_module_version": "1.2.0",
            "_model_name": "LayoutModel",
            "_view_count": null,
            "_view_module": "@jupyter-widgets/base",
            "_view_module_version": "1.2.0",
            "_view_name": "LayoutView",
            "align_content": null,
            "align_items": null,
            "align_self": null,
            "border": null,
            "bottom": null,
            "display": null,
            "flex": null,
            "flex_flow": null,
            "grid_area": null,
            "grid_auto_columns": null,
            "grid_auto_flow": null,
            "grid_auto_rows": null,
            "grid_column": null,
            "grid_gap": null,
            "grid_row": null,
            "grid_template_areas": null,
            "grid_template_columns": null,
            "grid_template_rows": null,
            "height": null,
            "justify_content": null,
            "justify_items": null,
            "left": null,
            "margin": null,
            "max_height": null,
            "max_width": null,
            "min_height": null,
            "min_width": null,
            "object_fit": null,
            "object_position": null,
            "order": null,
            "overflow": null,
            "overflow_x": null,
            "overflow_y": null,
            "padding": null,
            "right": null,
            "top": null,
            "visibility": null,
            "width": null
          }
        },
        "d9d5aadc4ab749fcadff70645208446e": {
          "model_module": "@jupyter-widgets/base",
          "model_name": "LayoutModel",
          "model_module_version": "1.2.0",
          "state": {
            "_model_module": "@jupyter-widgets/base",
            "_model_module_version": "1.2.0",
            "_model_name": "LayoutModel",
            "_view_count": null,
            "_view_module": "@jupyter-widgets/base",
            "_view_module_version": "1.2.0",
            "_view_name": "LayoutView",
            "align_content": null,
            "align_items": null,
            "align_self": null,
            "border": null,
            "bottom": null,
            "display": null,
            "flex": null,
            "flex_flow": null,
            "grid_area": null,
            "grid_auto_columns": null,
            "grid_auto_flow": null,
            "grid_auto_rows": null,
            "grid_column": null,
            "grid_gap": null,
            "grid_row": null,
            "grid_template_areas": null,
            "grid_template_columns": null,
            "grid_template_rows": null,
            "height": null,
            "justify_content": null,
            "justify_items": null,
            "left": null,
            "margin": null,
            "max_height": null,
            "max_width": null,
            "min_height": null,
            "min_width": null,
            "object_fit": null,
            "object_position": null,
            "order": null,
            "overflow": null,
            "overflow_x": null,
            "overflow_y": null,
            "padding": null,
            "right": null,
            "top": null,
            "visibility": null,
            "width": null
          }
        },
        "7791a83f5c6b4f9dabe43fba44c79880": {
          "model_module": "@jupyter-widgets/controls",
          "model_name": "DescriptionStyleModel",
          "model_module_version": "1.5.0",
          "state": {
            "_model_module": "@jupyter-widgets/controls",
            "_model_module_version": "1.5.0",
            "_model_name": "DescriptionStyleModel",
            "_view_count": null,
            "_view_module": "@jupyter-widgets/base",
            "_view_module_version": "1.2.0",
            "_view_name": "StyleView",
            "description_width": ""
          }
        },
        "cf1685bbc5ae49d8a2402c2dc027b499": {
          "model_module": "@jupyter-widgets/base",
          "model_name": "LayoutModel",
          "model_module_version": "1.2.0",
          "state": {
            "_model_module": "@jupyter-widgets/base",
            "_model_module_version": "1.2.0",
            "_model_name": "LayoutModel",
            "_view_count": null,
            "_view_module": "@jupyter-widgets/base",
            "_view_module_version": "1.2.0",
            "_view_name": "LayoutView",
            "align_content": null,
            "align_items": null,
            "align_self": null,
            "border": null,
            "bottom": null,
            "display": null,
            "flex": null,
            "flex_flow": null,
            "grid_area": null,
            "grid_auto_columns": null,
            "grid_auto_flow": null,
            "grid_auto_rows": null,
            "grid_column": null,
            "grid_gap": null,
            "grid_row": null,
            "grid_template_areas": null,
            "grid_template_columns": null,
            "grid_template_rows": null,
            "height": null,
            "justify_content": null,
            "justify_items": null,
            "left": null,
            "margin": null,
            "max_height": null,
            "max_width": null,
            "min_height": null,
            "min_width": null,
            "object_fit": null,
            "object_position": null,
            "order": null,
            "overflow": null,
            "overflow_x": null,
            "overflow_y": null,
            "padding": null,
            "right": null,
            "top": null,
            "visibility": null,
            "width": null
          }
        },
        "a821d4cf6aa845dbb3a0067ff9ff1e63": {
          "model_module": "@jupyter-widgets/controls",
          "model_name": "ProgressStyleModel",
          "model_module_version": "1.5.0",
          "state": {
            "_model_module": "@jupyter-widgets/controls",
            "_model_module_version": "1.5.0",
            "_model_name": "ProgressStyleModel",
            "_view_count": null,
            "_view_module": "@jupyter-widgets/base",
            "_view_module_version": "1.2.0",
            "_view_name": "StyleView",
            "bar_color": null,
            "description_width": ""
          }
        },
        "7d1f166cdce5426f81a0415194e091d7": {
          "model_module": "@jupyter-widgets/base",
          "model_name": "LayoutModel",
          "model_module_version": "1.2.0",
          "state": {
            "_model_module": "@jupyter-widgets/base",
            "_model_module_version": "1.2.0",
            "_model_name": "LayoutModel",
            "_view_count": null,
            "_view_module": "@jupyter-widgets/base",
            "_view_module_version": "1.2.0",
            "_view_name": "LayoutView",
            "align_content": null,
            "align_items": null,
            "align_self": null,
            "border": null,
            "bottom": null,
            "display": null,
            "flex": null,
            "flex_flow": null,
            "grid_area": null,
            "grid_auto_columns": null,
            "grid_auto_flow": null,
            "grid_auto_rows": null,
            "grid_column": null,
            "grid_gap": null,
            "grid_row": null,
            "grid_template_areas": null,
            "grid_template_columns": null,
            "grid_template_rows": null,
            "height": null,
            "justify_content": null,
            "justify_items": null,
            "left": null,
            "margin": null,
            "max_height": null,
            "max_width": null,
            "min_height": null,
            "min_width": null,
            "object_fit": null,
            "object_position": null,
            "order": null,
            "overflow": null,
            "overflow_x": null,
            "overflow_y": null,
            "padding": null,
            "right": null,
            "top": null,
            "visibility": null,
            "width": null
          }
        },
        "0551737a4bab48878b4f1e103cf225af": {
          "model_module": "@jupyter-widgets/controls",
          "model_name": "DescriptionStyleModel",
          "model_module_version": "1.5.0",
          "state": {
            "_model_module": "@jupyter-widgets/controls",
            "_model_module_version": "1.5.0",
            "_model_name": "DescriptionStyleModel",
            "_view_count": null,
            "_view_module": "@jupyter-widgets/base",
            "_view_module_version": "1.2.0",
            "_view_name": "StyleView",
            "description_width": ""
          }
        },
        "afb28a89b92a427ba7d4c58f6ee01daf": {
          "model_module": "@jupyter-widgets/controls",
          "model_name": "HBoxModel",
          "model_module_version": "1.5.0",
          "state": {
            "_dom_classes": [],
            "_model_module": "@jupyter-widgets/controls",
            "_model_module_version": "1.5.0",
            "_model_name": "HBoxModel",
            "_view_count": null,
            "_view_module": "@jupyter-widgets/controls",
            "_view_module_version": "1.5.0",
            "_view_name": "HBoxView",
            "box_style": "",
            "children": [
              "IPY_MODEL_40dddb58c29e46eaa03359f239e61599",
              "IPY_MODEL_f0a62b56f3304a0180d4806d443a1697",
              "IPY_MODEL_71abe9cbdf9b420d9fa43dd78074485a"
            ],
            "layout": "IPY_MODEL_b430d844036143f1994869baab40c7d9"
          }
        },
        "40dddb58c29e46eaa03359f239e61599": {
          "model_module": "@jupyter-widgets/controls",
          "model_name": "HTMLModel",
          "model_module_version": "1.5.0",
          "state": {
            "_dom_classes": [],
            "_model_module": "@jupyter-widgets/controls",
            "_model_module_version": "1.5.0",
            "_model_name": "HTMLModel",
            "_view_count": null,
            "_view_module": "@jupyter-widgets/controls",
            "_view_module_version": "1.5.0",
            "_view_name": "HTMLView",
            "description": "",
            "description_tooltip": null,
            "layout": "IPY_MODEL_43b8eb624e40484baefe1225d4813aef",
            "placeholder": "​",
            "style": "IPY_MODEL_d2a463dee99f4fda962a2a1083ace60e",
            "value": "100%"
          }
        },
        "f0a62b56f3304a0180d4806d443a1697": {
          "model_module": "@jupyter-widgets/controls",
          "model_name": "FloatProgressModel",
          "model_module_version": "1.5.0",
          "state": {
            "_dom_classes": [],
            "_model_module": "@jupyter-widgets/controls",
            "_model_module_version": "1.5.0",
            "_model_name": "FloatProgressModel",
            "_view_count": null,
            "_view_module": "@jupyter-widgets/controls",
            "_view_module_version": "1.5.0",
            "_view_name": "ProgressView",
            "bar_style": "success",
            "description": "",
            "description_tooltip": null,
            "layout": "IPY_MODEL_3dd0f588f8014bd2a22d614c733e1397",
            "max": 8117,
            "min": 0,
            "orientation": "horizontal",
            "style": "IPY_MODEL_8697d43647ed480e9560e054a2acae11",
            "value": 8117
          }
        },
        "71abe9cbdf9b420d9fa43dd78074485a": {
          "model_module": "@jupyter-widgets/controls",
          "model_name": "HTMLModel",
          "model_module_version": "1.5.0",
          "state": {
            "_dom_classes": [],
            "_model_module": "@jupyter-widgets/controls",
            "_model_module_version": "1.5.0",
            "_model_name": "HTMLModel",
            "_view_count": null,
            "_view_module": "@jupyter-widgets/controls",
            "_view_module_version": "1.5.0",
            "_view_name": "HTMLView",
            "description": "",
            "description_tooltip": null,
            "layout": "IPY_MODEL_38812d6b02164daa971ee26136982883",
            "placeholder": "​",
            "style": "IPY_MODEL_c29c8869ce8f474c8fe08554fe89e553",
            "value": " 8117/8117 [01:05&lt;00:00, 54.45ex/s]"
          }
        },
        "b430d844036143f1994869baab40c7d9": {
          "model_module": "@jupyter-widgets/base",
          "model_name": "LayoutModel",
          "model_module_version": "1.2.0",
          "state": {
            "_model_module": "@jupyter-widgets/base",
            "_model_module_version": "1.2.0",
            "_model_name": "LayoutModel",
            "_view_count": null,
            "_view_module": "@jupyter-widgets/base",
            "_view_module_version": "1.2.0",
            "_view_name": "LayoutView",
            "align_content": null,
            "align_items": null,
            "align_self": null,
            "border": null,
            "bottom": null,
            "display": null,
            "flex": null,
            "flex_flow": null,
            "grid_area": null,
            "grid_auto_columns": null,
            "grid_auto_flow": null,
            "grid_auto_rows": null,
            "grid_column": null,
            "grid_gap": null,
            "grid_row": null,
            "grid_template_areas": null,
            "grid_template_columns": null,
            "grid_template_rows": null,
            "height": null,
            "justify_content": null,
            "justify_items": null,
            "left": null,
            "margin": null,
            "max_height": null,
            "max_width": null,
            "min_height": null,
            "min_width": null,
            "object_fit": null,
            "object_position": null,
            "order": null,
            "overflow": null,
            "overflow_x": null,
            "overflow_y": null,
            "padding": null,
            "right": null,
            "top": null,
            "visibility": null,
            "width": null
          }
        },
        "43b8eb624e40484baefe1225d4813aef": {
          "model_module": "@jupyter-widgets/base",
          "model_name": "LayoutModel",
          "model_module_version": "1.2.0",
          "state": {
            "_model_module": "@jupyter-widgets/base",
            "_model_module_version": "1.2.0",
            "_model_name": "LayoutModel",
            "_view_count": null,
            "_view_module": "@jupyter-widgets/base",
            "_view_module_version": "1.2.0",
            "_view_name": "LayoutView",
            "align_content": null,
            "align_items": null,
            "align_self": null,
            "border": null,
            "bottom": null,
            "display": null,
            "flex": null,
            "flex_flow": null,
            "grid_area": null,
            "grid_auto_columns": null,
            "grid_auto_flow": null,
            "grid_auto_rows": null,
            "grid_column": null,
            "grid_gap": null,
            "grid_row": null,
            "grid_template_areas": null,
            "grid_template_columns": null,
            "grid_template_rows": null,
            "height": null,
            "justify_content": null,
            "justify_items": null,
            "left": null,
            "margin": null,
            "max_height": null,
            "max_width": null,
            "min_height": null,
            "min_width": null,
            "object_fit": null,
            "object_position": null,
            "order": null,
            "overflow": null,
            "overflow_x": null,
            "overflow_y": null,
            "padding": null,
            "right": null,
            "top": null,
            "visibility": null,
            "width": null
          }
        },
        "d2a463dee99f4fda962a2a1083ace60e": {
          "model_module": "@jupyter-widgets/controls",
          "model_name": "DescriptionStyleModel",
          "model_module_version": "1.5.0",
          "state": {
            "_model_module": "@jupyter-widgets/controls",
            "_model_module_version": "1.5.0",
            "_model_name": "DescriptionStyleModel",
            "_view_count": null,
            "_view_module": "@jupyter-widgets/base",
            "_view_module_version": "1.2.0",
            "_view_name": "StyleView",
            "description_width": ""
          }
        },
        "3dd0f588f8014bd2a22d614c733e1397": {
          "model_module": "@jupyter-widgets/base",
          "model_name": "LayoutModel",
          "model_module_version": "1.2.0",
          "state": {
            "_model_module": "@jupyter-widgets/base",
            "_model_module_version": "1.2.0",
            "_model_name": "LayoutModel",
            "_view_count": null,
            "_view_module": "@jupyter-widgets/base",
            "_view_module_version": "1.2.0",
            "_view_name": "LayoutView",
            "align_content": null,
            "align_items": null,
            "align_self": null,
            "border": null,
            "bottom": null,
            "display": null,
            "flex": null,
            "flex_flow": null,
            "grid_area": null,
            "grid_auto_columns": null,
            "grid_auto_flow": null,
            "grid_auto_rows": null,
            "grid_column": null,
            "grid_gap": null,
            "grid_row": null,
            "grid_template_areas": null,
            "grid_template_columns": null,
            "grid_template_rows": null,
            "height": null,
            "justify_content": null,
            "justify_items": null,
            "left": null,
            "margin": null,
            "max_height": null,
            "max_width": null,
            "min_height": null,
            "min_width": null,
            "object_fit": null,
            "object_position": null,
            "order": null,
            "overflow": null,
            "overflow_x": null,
            "overflow_y": null,
            "padding": null,
            "right": null,
            "top": null,
            "visibility": null,
            "width": null
          }
        },
        "8697d43647ed480e9560e054a2acae11": {
          "model_module": "@jupyter-widgets/controls",
          "model_name": "ProgressStyleModel",
          "model_module_version": "1.5.0",
          "state": {
            "_model_module": "@jupyter-widgets/controls",
            "_model_module_version": "1.5.0",
            "_model_name": "ProgressStyleModel",
            "_view_count": null,
            "_view_module": "@jupyter-widgets/base",
            "_view_module_version": "1.2.0",
            "_view_name": "StyleView",
            "bar_color": null,
            "description_width": ""
          }
        },
        "38812d6b02164daa971ee26136982883": {
          "model_module": "@jupyter-widgets/base",
          "model_name": "LayoutModel",
          "model_module_version": "1.2.0",
          "state": {
            "_model_module": "@jupyter-widgets/base",
            "_model_module_version": "1.2.0",
            "_model_name": "LayoutModel",
            "_view_count": null,
            "_view_module": "@jupyter-widgets/base",
            "_view_module_version": "1.2.0",
            "_view_name": "LayoutView",
            "align_content": null,
            "align_items": null,
            "align_self": null,
            "border": null,
            "bottom": null,
            "display": null,
            "flex": null,
            "flex_flow": null,
            "grid_area": null,
            "grid_auto_columns": null,
            "grid_auto_flow": null,
            "grid_auto_rows": null,
            "grid_column": null,
            "grid_gap": null,
            "grid_row": null,
            "grid_template_areas": null,
            "grid_template_columns": null,
            "grid_template_rows": null,
            "height": null,
            "justify_content": null,
            "justify_items": null,
            "left": null,
            "margin": null,
            "max_height": null,
            "max_width": null,
            "min_height": null,
            "min_width": null,
            "object_fit": null,
            "object_position": null,
            "order": null,
            "overflow": null,
            "overflow_x": null,
            "overflow_y": null,
            "padding": null,
            "right": null,
            "top": null,
            "visibility": null,
            "width": null
          }
        },
        "c29c8869ce8f474c8fe08554fe89e553": {
          "model_module": "@jupyter-widgets/controls",
          "model_name": "DescriptionStyleModel",
          "model_module_version": "1.5.0",
          "state": {
            "_model_module": "@jupyter-widgets/controls",
            "_model_module_version": "1.5.0",
            "_model_name": "DescriptionStyleModel",
            "_view_count": null,
            "_view_module": "@jupyter-widgets/base",
            "_view_module_version": "1.2.0",
            "_view_name": "StyleView",
            "description_width": ""
          }
        },
        "82d4f3d8182c416994953ad46881f91a": {
          "model_module": "@jupyter-widgets/controls",
          "model_name": "HBoxModel",
          "model_module_version": "1.5.0",
          "state": {
            "_dom_classes": [],
            "_model_module": "@jupyter-widgets/controls",
            "_model_module_version": "1.5.0",
            "_model_name": "HBoxModel",
            "_view_count": null,
            "_view_module": "@jupyter-widgets/controls",
            "_view_module_version": "1.5.0",
            "_view_name": "HBoxView",
            "box_style": "",
            "children": [
              "IPY_MODEL_fc61214d76ba4710b7a615a485b5b325",
              "IPY_MODEL_4327c3417fe94b3bbe9ecb07e7075815",
              "IPY_MODEL_db98d1c5c11b4f2391627662827694c7"
            ],
            "layout": "IPY_MODEL_fd4e1422b07641c2a3394879becca85f"
          }
        },
        "fc61214d76ba4710b7a615a485b5b325": {
          "model_module": "@jupyter-widgets/controls",
          "model_name": "HTMLModel",
          "model_module_version": "1.5.0",
          "state": {
            "_dom_classes": [],
            "_model_module": "@jupyter-widgets/controls",
            "_model_module_version": "1.5.0",
            "_model_name": "HTMLModel",
            "_view_count": null,
            "_view_module": "@jupyter-widgets/controls",
            "_view_module_version": "1.5.0",
            "_view_name": "HTMLView",
            "description": "",
            "description_tooltip": null,
            "layout": "IPY_MODEL_ee534a78341b47329a9fd121ddce3f99",
            "placeholder": "​",
            "style": "IPY_MODEL_be466fe9e255409db343ffd823110211",
            "value": "100%"
          }
        },
        "4327c3417fe94b3bbe9ecb07e7075815": {
          "model_module": "@jupyter-widgets/controls",
          "model_name": "FloatProgressModel",
          "model_module_version": "1.5.0",
          "state": {
            "_dom_classes": [],
            "_model_module": "@jupyter-widgets/controls",
            "_model_module_version": "1.5.0",
            "_model_name": "FloatProgressModel",
            "_view_count": null,
            "_view_module": "@jupyter-widgets/controls",
            "_view_module_version": "1.5.0",
            "_view_name": "ProgressView",
            "bar_style": "success",
            "description": "",
            "description_tooltip": null,
            "layout": "IPY_MODEL_88b539dbc369496a8eed284283544572",
            "max": 622,
            "min": 0,
            "orientation": "horizontal",
            "style": "IPY_MODEL_fb2f2ecdf24d405abb01e50ff1defd29",
            "value": 622
          }
        },
        "db98d1c5c11b4f2391627662827694c7": {
          "model_module": "@jupyter-widgets/controls",
          "model_name": "HTMLModel",
          "model_module_version": "1.5.0",
          "state": {
            "_dom_classes": [],
            "_model_module": "@jupyter-widgets/controls",
            "_model_module_version": "1.5.0",
            "_model_name": "HTMLModel",
            "_view_count": null,
            "_view_module": "@jupyter-widgets/controls",
            "_view_module_version": "1.5.0",
            "_view_name": "HTMLView",
            "description": "",
            "description_tooltip": null,
            "layout": "IPY_MODEL_b453fa97f636414c89fede4392864787",
            "placeholder": "​",
            "style": "IPY_MODEL_2b435b16b44c481f969d0589ae952aeb",
            "value": " 622/622 [00:03&lt;00:00, 124.36ex/s]"
          }
        },
        "fd4e1422b07641c2a3394879becca85f": {
          "model_module": "@jupyter-widgets/base",
          "model_name": "LayoutModel",
          "model_module_version": "1.2.0",
          "state": {
            "_model_module": "@jupyter-widgets/base",
            "_model_module_version": "1.2.0",
            "_model_name": "LayoutModel",
            "_view_count": null,
            "_view_module": "@jupyter-widgets/base",
            "_view_module_version": "1.2.0",
            "_view_name": "LayoutView",
            "align_content": null,
            "align_items": null,
            "align_self": null,
            "border": null,
            "bottom": null,
            "display": null,
            "flex": null,
            "flex_flow": null,
            "grid_area": null,
            "grid_auto_columns": null,
            "grid_auto_flow": null,
            "grid_auto_rows": null,
            "grid_column": null,
            "grid_gap": null,
            "grid_row": null,
            "grid_template_areas": null,
            "grid_template_columns": null,
            "grid_template_rows": null,
            "height": null,
            "justify_content": null,
            "justify_items": null,
            "left": null,
            "margin": null,
            "max_height": null,
            "max_width": null,
            "min_height": null,
            "min_width": null,
            "object_fit": null,
            "object_position": null,
            "order": null,
            "overflow": null,
            "overflow_x": null,
            "overflow_y": null,
            "padding": null,
            "right": null,
            "top": null,
            "visibility": null,
            "width": null
          }
        },
        "ee534a78341b47329a9fd121ddce3f99": {
          "model_module": "@jupyter-widgets/base",
          "model_name": "LayoutModel",
          "model_module_version": "1.2.0",
          "state": {
            "_model_module": "@jupyter-widgets/base",
            "_model_module_version": "1.2.0",
            "_model_name": "LayoutModel",
            "_view_count": null,
            "_view_module": "@jupyter-widgets/base",
            "_view_module_version": "1.2.0",
            "_view_name": "LayoutView",
            "align_content": null,
            "align_items": null,
            "align_self": null,
            "border": null,
            "bottom": null,
            "display": null,
            "flex": null,
            "flex_flow": null,
            "grid_area": null,
            "grid_auto_columns": null,
            "grid_auto_flow": null,
            "grid_auto_rows": null,
            "grid_column": null,
            "grid_gap": null,
            "grid_row": null,
            "grid_template_areas": null,
            "grid_template_columns": null,
            "grid_template_rows": null,
            "height": null,
            "justify_content": null,
            "justify_items": null,
            "left": null,
            "margin": null,
            "max_height": null,
            "max_width": null,
            "min_height": null,
            "min_width": null,
            "object_fit": null,
            "object_position": null,
            "order": null,
            "overflow": null,
            "overflow_x": null,
            "overflow_y": null,
            "padding": null,
            "right": null,
            "top": null,
            "visibility": null,
            "width": null
          }
        },
        "be466fe9e255409db343ffd823110211": {
          "model_module": "@jupyter-widgets/controls",
          "model_name": "DescriptionStyleModel",
          "model_module_version": "1.5.0",
          "state": {
            "_model_module": "@jupyter-widgets/controls",
            "_model_module_version": "1.5.0",
            "_model_name": "DescriptionStyleModel",
            "_view_count": null,
            "_view_module": "@jupyter-widgets/base",
            "_view_module_version": "1.2.0",
            "_view_name": "StyleView",
            "description_width": ""
          }
        },
        "88b539dbc369496a8eed284283544572": {
          "model_module": "@jupyter-widgets/base",
          "model_name": "LayoutModel",
          "model_module_version": "1.2.0",
          "state": {
            "_model_module": "@jupyter-widgets/base",
            "_model_module_version": "1.2.0",
            "_model_name": "LayoutModel",
            "_view_count": null,
            "_view_module": "@jupyter-widgets/base",
            "_view_module_version": "1.2.0",
            "_view_name": "LayoutView",
            "align_content": null,
            "align_items": null,
            "align_self": null,
            "border": null,
            "bottom": null,
            "display": null,
            "flex": null,
            "flex_flow": null,
            "grid_area": null,
            "grid_auto_columns": null,
            "grid_auto_flow": null,
            "grid_auto_rows": null,
            "grid_column": null,
            "grid_gap": null,
            "grid_row": null,
            "grid_template_areas": null,
            "grid_template_columns": null,
            "grid_template_rows": null,
            "height": null,
            "justify_content": null,
            "justify_items": null,
            "left": null,
            "margin": null,
            "max_height": null,
            "max_width": null,
            "min_height": null,
            "min_width": null,
            "object_fit": null,
            "object_position": null,
            "order": null,
            "overflow": null,
            "overflow_x": null,
            "overflow_y": null,
            "padding": null,
            "right": null,
            "top": null,
            "visibility": null,
            "width": null
          }
        },
        "fb2f2ecdf24d405abb01e50ff1defd29": {
          "model_module": "@jupyter-widgets/controls",
          "model_name": "ProgressStyleModel",
          "model_module_version": "1.5.0",
          "state": {
            "_model_module": "@jupyter-widgets/controls",
            "_model_module_version": "1.5.0",
            "_model_name": "ProgressStyleModel",
            "_view_count": null,
            "_view_module": "@jupyter-widgets/base",
            "_view_module_version": "1.2.0",
            "_view_name": "StyleView",
            "bar_color": null,
            "description_width": ""
          }
        },
        "b453fa97f636414c89fede4392864787": {
          "model_module": "@jupyter-widgets/base",
          "model_name": "LayoutModel",
          "model_module_version": "1.2.0",
          "state": {
            "_model_module": "@jupyter-widgets/base",
            "_model_module_version": "1.2.0",
            "_model_name": "LayoutModel",
            "_view_count": null,
            "_view_module": "@jupyter-widgets/base",
            "_view_module_version": "1.2.0",
            "_view_name": "LayoutView",
            "align_content": null,
            "align_items": null,
            "align_self": null,
            "border": null,
            "bottom": null,
            "display": null,
            "flex": null,
            "flex_flow": null,
            "grid_area": null,
            "grid_auto_columns": null,
            "grid_auto_flow": null,
            "grid_auto_rows": null,
            "grid_column": null,
            "grid_gap": null,
            "grid_row": null,
            "grid_template_areas": null,
            "grid_template_columns": null,
            "grid_template_rows": null,
            "height": null,
            "justify_content": null,
            "justify_items": null,
            "left": null,
            "margin": null,
            "max_height": null,
            "max_width": null,
            "min_height": null,
            "min_width": null,
            "object_fit": null,
            "object_position": null,
            "order": null,
            "overflow": null,
            "overflow_x": null,
            "overflow_y": null,
            "padding": null,
            "right": null,
            "top": null,
            "visibility": null,
            "width": null
          }
        },
        "2b435b16b44c481f969d0589ae952aeb": {
          "model_module": "@jupyter-widgets/controls",
          "model_name": "DescriptionStyleModel",
          "model_module_version": "1.5.0",
          "state": {
            "_model_module": "@jupyter-widgets/controls",
            "_model_module_version": "1.5.0",
            "_model_name": "DescriptionStyleModel",
            "_view_count": null,
            "_view_module": "@jupyter-widgets/base",
            "_view_module_version": "1.2.0",
            "_view_name": "StyleView",
            "description_width": ""
          }
        },
        "0b4a3dbc2e754645b93939985449f5ca": {
          "model_module": "@jupyter-widgets/controls",
          "model_name": "HBoxModel",
          "model_module_version": "1.5.0",
          "state": {
            "_dom_classes": [],
            "_model_module": "@jupyter-widgets/controls",
            "_model_module_version": "1.5.0",
            "_model_name": "HBoxModel",
            "_view_count": null,
            "_view_module": "@jupyter-widgets/controls",
            "_view_module_version": "1.5.0",
            "_view_name": "HBoxView",
            "box_style": "",
            "children": [
              "IPY_MODEL_b9dbb0f19dda4424a85f284e7c23d43f",
              "IPY_MODEL_421845ae9bc042ab8ad164c9acb5429c",
              "IPY_MODEL_fc416554b2fe497db0c5530d61341047"
            ],
            "layout": "IPY_MODEL_c3ac1bd0050349a4bad8a5dca2642e1f"
          }
        },
        "b9dbb0f19dda4424a85f284e7c23d43f": {
          "model_module": "@jupyter-widgets/controls",
          "model_name": "HTMLModel",
          "model_module_version": "1.5.0",
          "state": {
            "_dom_classes": [],
            "_model_module": "@jupyter-widgets/controls",
            "_model_module_version": "1.5.0",
            "_model_name": "HTMLModel",
            "_view_count": null,
            "_view_module": "@jupyter-widgets/controls",
            "_view_module_version": "1.5.0",
            "_view_name": "HTMLView",
            "description": "",
            "description_tooltip": null,
            "layout": "IPY_MODEL_7dd05810dd2147d8bf3830ea299cab0b",
            "placeholder": "​",
            "style": "IPY_MODEL_8c892b36187045b284c3c87ee0dc419f",
            "value": "Downloading builder script: "
          }
        },
        "421845ae9bc042ab8ad164c9acb5429c": {
          "model_module": "@jupyter-widgets/controls",
          "model_name": "FloatProgressModel",
          "model_module_version": "1.5.0",
          "state": {
            "_dom_classes": [],
            "_model_module": "@jupyter-widgets/controls",
            "_model_module_version": "1.5.0",
            "_model_name": "FloatProgressModel",
            "_view_count": null,
            "_view_module": "@jupyter-widgets/controls",
            "_view_module_version": "1.5.0",
            "_view_name": "ProgressView",
            "bar_style": "success",
            "description": "",
            "description_tooltip": null,
            "layout": "IPY_MODEL_facc5f3a0aef41708e239cceb9b94520",
            "max": 1901,
            "min": 0,
            "orientation": "horizontal",
            "style": "IPY_MODEL_bcabda77e1f64bab9bce69f10a865b0e",
            "value": 1901
          }
        },
        "fc416554b2fe497db0c5530d61341047": {
          "model_module": "@jupyter-widgets/controls",
          "model_name": "HTMLModel",
          "model_module_version": "1.5.0",
          "state": {
            "_dom_classes": [],
            "_model_module": "@jupyter-widgets/controls",
            "_model_module_version": "1.5.0",
            "_model_name": "HTMLModel",
            "_view_count": null,
            "_view_module": "@jupyter-widgets/controls",
            "_view_module_version": "1.5.0",
            "_view_name": "HTMLView",
            "description": "",
            "description_tooltip": null,
            "layout": "IPY_MODEL_ec23f8b687834bb493e939f142116bd7",
            "placeholder": "​",
            "style": "IPY_MODEL_660b9bb5d0d5454881bc71f65d2799e7",
            "value": " 4.48k/? [00:00&lt;00:00, 6.78kB/s]"
          }
        },
        "c3ac1bd0050349a4bad8a5dca2642e1f": {
          "model_module": "@jupyter-widgets/base",
          "model_name": "LayoutModel",
          "model_module_version": "1.2.0",
          "state": {
            "_model_module": "@jupyter-widgets/base",
            "_model_module_version": "1.2.0",
            "_model_name": "LayoutModel",
            "_view_count": null,
            "_view_module": "@jupyter-widgets/base",
            "_view_module_version": "1.2.0",
            "_view_name": "LayoutView",
            "align_content": null,
            "align_items": null,
            "align_self": null,
            "border": null,
            "bottom": null,
            "display": null,
            "flex": null,
            "flex_flow": null,
            "grid_area": null,
            "grid_auto_columns": null,
            "grid_auto_flow": null,
            "grid_auto_rows": null,
            "grid_column": null,
            "grid_gap": null,
            "grid_row": null,
            "grid_template_areas": null,
            "grid_template_columns": null,
            "grid_template_rows": null,
            "height": null,
            "justify_content": null,
            "justify_items": null,
            "left": null,
            "margin": null,
            "max_height": null,
            "max_width": null,
            "min_height": null,
            "min_width": null,
            "object_fit": null,
            "object_position": null,
            "order": null,
            "overflow": null,
            "overflow_x": null,
            "overflow_y": null,
            "padding": null,
            "right": null,
            "top": null,
            "visibility": null,
            "width": null
          }
        },
        "7dd05810dd2147d8bf3830ea299cab0b": {
          "model_module": "@jupyter-widgets/base",
          "model_name": "LayoutModel",
          "model_module_version": "1.2.0",
          "state": {
            "_model_module": "@jupyter-widgets/base",
            "_model_module_version": "1.2.0",
            "_model_name": "LayoutModel",
            "_view_count": null,
            "_view_module": "@jupyter-widgets/base",
            "_view_module_version": "1.2.0",
            "_view_name": "LayoutView",
            "align_content": null,
            "align_items": null,
            "align_self": null,
            "border": null,
            "bottom": null,
            "display": null,
            "flex": null,
            "flex_flow": null,
            "grid_area": null,
            "grid_auto_columns": null,
            "grid_auto_flow": null,
            "grid_auto_rows": null,
            "grid_column": null,
            "grid_gap": null,
            "grid_row": null,
            "grid_template_areas": null,
            "grid_template_columns": null,
            "grid_template_rows": null,
            "height": null,
            "justify_content": null,
            "justify_items": null,
            "left": null,
            "margin": null,
            "max_height": null,
            "max_width": null,
            "min_height": null,
            "min_width": null,
            "object_fit": null,
            "object_position": null,
            "order": null,
            "overflow": null,
            "overflow_x": null,
            "overflow_y": null,
            "padding": null,
            "right": null,
            "top": null,
            "visibility": null,
            "width": null
          }
        },
        "8c892b36187045b284c3c87ee0dc419f": {
          "model_module": "@jupyter-widgets/controls",
          "model_name": "DescriptionStyleModel",
          "model_module_version": "1.5.0",
          "state": {
            "_model_module": "@jupyter-widgets/controls",
            "_model_module_version": "1.5.0",
            "_model_name": "DescriptionStyleModel",
            "_view_count": null,
            "_view_module": "@jupyter-widgets/base",
            "_view_module_version": "1.2.0",
            "_view_name": "StyleView",
            "description_width": ""
          }
        },
        "facc5f3a0aef41708e239cceb9b94520": {
          "model_module": "@jupyter-widgets/base",
          "model_name": "LayoutModel",
          "model_module_version": "1.2.0",
          "state": {
            "_model_module": "@jupyter-widgets/base",
            "_model_module_version": "1.2.0",
            "_model_name": "LayoutModel",
            "_view_count": null,
            "_view_module": "@jupyter-widgets/base",
            "_view_module_version": "1.2.0",
            "_view_name": "LayoutView",
            "align_content": null,
            "align_items": null,
            "align_self": null,
            "border": null,
            "bottom": null,
            "display": null,
            "flex": null,
            "flex_flow": null,
            "grid_area": null,
            "grid_auto_columns": null,
            "grid_auto_flow": null,
            "grid_auto_rows": null,
            "grid_column": null,
            "grid_gap": null,
            "grid_row": null,
            "grid_template_areas": null,
            "grid_template_columns": null,
            "grid_template_rows": null,
            "height": null,
            "justify_content": null,
            "justify_items": null,
            "left": null,
            "margin": null,
            "max_height": null,
            "max_width": null,
            "min_height": null,
            "min_width": null,
            "object_fit": null,
            "object_position": null,
            "order": null,
            "overflow": null,
            "overflow_x": null,
            "overflow_y": null,
            "padding": null,
            "right": null,
            "top": null,
            "visibility": null,
            "width": null
          }
        },
        "bcabda77e1f64bab9bce69f10a865b0e": {
          "model_module": "@jupyter-widgets/controls",
          "model_name": "ProgressStyleModel",
          "model_module_version": "1.5.0",
          "state": {
            "_model_module": "@jupyter-widgets/controls",
            "_model_module_version": "1.5.0",
            "_model_name": "ProgressStyleModel",
            "_view_count": null,
            "_view_module": "@jupyter-widgets/base",
            "_view_module_version": "1.2.0",
            "_view_name": "StyleView",
            "bar_color": null,
            "description_width": ""
          }
        },
        "ec23f8b687834bb493e939f142116bd7": {
          "model_module": "@jupyter-widgets/base",
          "model_name": "LayoutModel",
          "model_module_version": "1.2.0",
          "state": {
            "_model_module": "@jupyter-widgets/base",
            "_model_module_version": "1.2.0",
            "_model_name": "LayoutModel",
            "_view_count": null,
            "_view_module": "@jupyter-widgets/base",
            "_view_module_version": "1.2.0",
            "_view_name": "LayoutView",
            "align_content": null,
            "align_items": null,
            "align_self": null,
            "border": null,
            "bottom": null,
            "display": null,
            "flex": null,
            "flex_flow": null,
            "grid_area": null,
            "grid_auto_columns": null,
            "grid_auto_flow": null,
            "grid_auto_rows": null,
            "grid_column": null,
            "grid_gap": null,
            "grid_row": null,
            "grid_template_areas": null,
            "grid_template_columns": null,
            "grid_template_rows": null,
            "height": null,
            "justify_content": null,
            "justify_items": null,
            "left": null,
            "margin": null,
            "max_height": null,
            "max_width": null,
            "min_height": null,
            "min_width": null,
            "object_fit": null,
            "object_position": null,
            "order": null,
            "overflow": null,
            "overflow_x": null,
            "overflow_y": null,
            "padding": null,
            "right": null,
            "top": null,
            "visibility": null,
            "width": null
          }
        },
        "660b9bb5d0d5454881bc71f65d2799e7": {
          "model_module": "@jupyter-widgets/controls",
          "model_name": "DescriptionStyleModel",
          "model_module_version": "1.5.0",
          "state": {
            "_model_module": "@jupyter-widgets/controls",
            "_model_module_version": "1.5.0",
            "_model_name": "DescriptionStyleModel",
            "_view_count": null,
            "_view_module": "@jupyter-widgets/base",
            "_view_module_version": "1.2.0",
            "_view_name": "StyleView",
            "description_width": ""
          }
        },
        "e2cce63d429240dfba6a20d40ea17e27": {
          "model_module": "@jupyter-widgets/controls",
          "model_name": "HBoxModel",
          "model_module_version": "1.5.0",
          "state": {
            "_dom_classes": [],
            "_model_module": "@jupyter-widgets/controls",
            "_model_module_version": "1.5.0",
            "_model_name": "HBoxModel",
            "_view_count": null,
            "_view_module": "@jupyter-widgets/controls",
            "_view_module_version": "1.5.0",
            "_view_name": "HBoxView",
            "box_style": "",
            "children": [
              "IPY_MODEL_9ee4c0a10d4d410494fc86cb6f7dd12d",
              "IPY_MODEL_b084928aa1424a908065ae773ac34fe6",
              "IPY_MODEL_512b60c68f3543f5a73b376f5fbc62a5"
            ],
            "layout": "IPY_MODEL_8881a876c608414c86b35831bc8c9dbf"
          }
        },
        "9ee4c0a10d4d410494fc86cb6f7dd12d": {
          "model_module": "@jupyter-widgets/controls",
          "model_name": "HTMLModel",
          "model_module_version": "1.5.0",
          "state": {
            "_dom_classes": [],
            "_model_module": "@jupyter-widgets/controls",
            "_model_module_version": "1.5.0",
            "_model_name": "HTMLModel",
            "_view_count": null,
            "_view_module": "@jupyter-widgets/controls",
            "_view_module_version": "1.5.0",
            "_view_name": "HTMLView",
            "description": "",
            "description_tooltip": null,
            "layout": "IPY_MODEL_8d3815ce04054d58979338248faf4ce2",
            "placeholder": "​",
            "style": "IPY_MODEL_dc426388124041d49b15ebc1be5a6883",
            "value": "Downloading (…)lve/main/config.json: 100%"
          }
        },
        "b084928aa1424a908065ae773ac34fe6": {
          "model_module": "@jupyter-widgets/controls",
          "model_name": "FloatProgressModel",
          "model_module_version": "1.5.0",
          "state": {
            "_dom_classes": [],
            "_model_module": "@jupyter-widgets/controls",
            "_model_module_version": "1.5.0",
            "_model_name": "FloatProgressModel",
            "_view_count": null,
            "_view_module": "@jupyter-widgets/controls",
            "_view_module_version": "1.5.0",
            "_view_name": "ProgressView",
            "bar_style": "success",
            "description": "",
            "description_tooltip": null,
            "layout": "IPY_MODEL_81edb382605f4f828df0f187a9a5f4ad",
            "max": 1568,
            "min": 0,
            "orientation": "horizontal",
            "style": "IPY_MODEL_34930a8050004ae2ba3fd5657a26bf0c",
            "value": 1568
          }
        },
        "512b60c68f3543f5a73b376f5fbc62a5": {
          "model_module": "@jupyter-widgets/controls",
          "model_name": "HTMLModel",
          "model_module_version": "1.5.0",
          "state": {
            "_dom_classes": [],
            "_model_module": "@jupyter-widgets/controls",
            "_model_module_version": "1.5.0",
            "_model_name": "HTMLModel",
            "_view_count": null,
            "_view_module": "@jupyter-widgets/controls",
            "_view_module_version": "1.5.0",
            "_view_name": "HTMLView",
            "description": "",
            "description_tooltip": null,
            "layout": "IPY_MODEL_30d8e31c47294059958581770ae65a01",
            "placeholder": "​",
            "style": "IPY_MODEL_de2f7f48cceb4c3e8c65855e2676493c",
            "value": " 1.57k/1.57k [00:00&lt;00:00, 80.1kB/s]"
          }
        },
        "8881a876c608414c86b35831bc8c9dbf": {
          "model_module": "@jupyter-widgets/base",
          "model_name": "LayoutModel",
          "model_module_version": "1.2.0",
          "state": {
            "_model_module": "@jupyter-widgets/base",
            "_model_module_version": "1.2.0",
            "_model_name": "LayoutModel",
            "_view_count": null,
            "_view_module": "@jupyter-widgets/base",
            "_view_module_version": "1.2.0",
            "_view_name": "LayoutView",
            "align_content": null,
            "align_items": null,
            "align_self": null,
            "border": null,
            "bottom": null,
            "display": null,
            "flex": null,
            "flex_flow": null,
            "grid_area": null,
            "grid_auto_columns": null,
            "grid_auto_flow": null,
            "grid_auto_rows": null,
            "grid_column": null,
            "grid_gap": null,
            "grid_row": null,
            "grid_template_areas": null,
            "grid_template_columns": null,
            "grid_template_rows": null,
            "height": null,
            "justify_content": null,
            "justify_items": null,
            "left": null,
            "margin": null,
            "max_height": null,
            "max_width": null,
            "min_height": null,
            "min_width": null,
            "object_fit": null,
            "object_position": null,
            "order": null,
            "overflow": null,
            "overflow_x": null,
            "overflow_y": null,
            "padding": null,
            "right": null,
            "top": null,
            "visibility": null,
            "width": null
          }
        },
        "8d3815ce04054d58979338248faf4ce2": {
          "model_module": "@jupyter-widgets/base",
          "model_name": "LayoutModel",
          "model_module_version": "1.2.0",
          "state": {
            "_model_module": "@jupyter-widgets/base",
            "_model_module_version": "1.2.0",
            "_model_name": "LayoutModel",
            "_view_count": null,
            "_view_module": "@jupyter-widgets/base",
            "_view_module_version": "1.2.0",
            "_view_name": "LayoutView",
            "align_content": null,
            "align_items": null,
            "align_self": null,
            "border": null,
            "bottom": null,
            "display": null,
            "flex": null,
            "flex_flow": null,
            "grid_area": null,
            "grid_auto_columns": null,
            "grid_auto_flow": null,
            "grid_auto_rows": null,
            "grid_column": null,
            "grid_gap": null,
            "grid_row": null,
            "grid_template_areas": null,
            "grid_template_columns": null,
            "grid_template_rows": null,
            "height": null,
            "justify_content": null,
            "justify_items": null,
            "left": null,
            "margin": null,
            "max_height": null,
            "max_width": null,
            "min_height": null,
            "min_width": null,
            "object_fit": null,
            "object_position": null,
            "order": null,
            "overflow": null,
            "overflow_x": null,
            "overflow_y": null,
            "padding": null,
            "right": null,
            "top": null,
            "visibility": null,
            "width": null
          }
        },
        "dc426388124041d49b15ebc1be5a6883": {
          "model_module": "@jupyter-widgets/controls",
          "model_name": "DescriptionStyleModel",
          "model_module_version": "1.5.0",
          "state": {
            "_model_module": "@jupyter-widgets/controls",
            "_model_module_version": "1.5.0",
            "_model_name": "DescriptionStyleModel",
            "_view_count": null,
            "_view_module": "@jupyter-widgets/base",
            "_view_module_version": "1.2.0",
            "_view_name": "StyleView",
            "description_width": ""
          }
        },
        "81edb382605f4f828df0f187a9a5f4ad": {
          "model_module": "@jupyter-widgets/base",
          "model_name": "LayoutModel",
          "model_module_version": "1.2.0",
          "state": {
            "_model_module": "@jupyter-widgets/base",
            "_model_module_version": "1.2.0",
            "_model_name": "LayoutModel",
            "_view_count": null,
            "_view_module": "@jupyter-widgets/base",
            "_view_module_version": "1.2.0",
            "_view_name": "LayoutView",
            "align_content": null,
            "align_items": null,
            "align_self": null,
            "border": null,
            "bottom": null,
            "display": null,
            "flex": null,
            "flex_flow": null,
            "grid_area": null,
            "grid_auto_columns": null,
            "grid_auto_flow": null,
            "grid_auto_rows": null,
            "grid_column": null,
            "grid_gap": null,
            "grid_row": null,
            "grid_template_areas": null,
            "grid_template_columns": null,
            "grid_template_rows": null,
            "height": null,
            "justify_content": null,
            "justify_items": null,
            "left": null,
            "margin": null,
            "max_height": null,
            "max_width": null,
            "min_height": null,
            "min_width": null,
            "object_fit": null,
            "object_position": null,
            "order": null,
            "overflow": null,
            "overflow_x": null,
            "overflow_y": null,
            "padding": null,
            "right": null,
            "top": null,
            "visibility": null,
            "width": null
          }
        },
        "34930a8050004ae2ba3fd5657a26bf0c": {
          "model_module": "@jupyter-widgets/controls",
          "model_name": "ProgressStyleModel",
          "model_module_version": "1.5.0",
          "state": {
            "_model_module": "@jupyter-widgets/controls",
            "_model_module_version": "1.5.0",
            "_model_name": "ProgressStyleModel",
            "_view_count": null,
            "_view_module": "@jupyter-widgets/base",
            "_view_module_version": "1.2.0",
            "_view_name": "StyleView",
            "bar_color": null,
            "description_width": ""
          }
        },
        "30d8e31c47294059958581770ae65a01": {
          "model_module": "@jupyter-widgets/base",
          "model_name": "LayoutModel",
          "model_module_version": "1.2.0",
          "state": {
            "_model_module": "@jupyter-widgets/base",
            "_model_module_version": "1.2.0",
            "_model_name": "LayoutModel",
            "_view_count": null,
            "_view_module": "@jupyter-widgets/base",
            "_view_module_version": "1.2.0",
            "_view_name": "LayoutView",
            "align_content": null,
            "align_items": null,
            "align_self": null,
            "border": null,
            "bottom": null,
            "display": null,
            "flex": null,
            "flex_flow": null,
            "grid_area": null,
            "grid_auto_columns": null,
            "grid_auto_flow": null,
            "grid_auto_rows": null,
            "grid_column": null,
            "grid_gap": null,
            "grid_row": null,
            "grid_template_areas": null,
            "grid_template_columns": null,
            "grid_template_rows": null,
            "height": null,
            "justify_content": null,
            "justify_items": null,
            "left": null,
            "margin": null,
            "max_height": null,
            "max_width": null,
            "min_height": null,
            "min_width": null,
            "object_fit": null,
            "object_position": null,
            "order": null,
            "overflow": null,
            "overflow_x": null,
            "overflow_y": null,
            "padding": null,
            "right": null,
            "top": null,
            "visibility": null,
            "width": null
          }
        },
        "de2f7f48cceb4c3e8c65855e2676493c": {
          "model_module": "@jupyter-widgets/controls",
          "model_name": "DescriptionStyleModel",
          "model_module_version": "1.5.0",
          "state": {
            "_model_module": "@jupyter-widgets/controls",
            "_model_module_version": "1.5.0",
            "_model_name": "DescriptionStyleModel",
            "_view_count": null,
            "_view_module": "@jupyter-widgets/base",
            "_view_module_version": "1.2.0",
            "_view_name": "StyleView",
            "description_width": ""
          }
        },
        "3583995939e24b08b27be57b2efa5994": {
          "model_module": "@jupyter-widgets/controls",
          "model_name": "HBoxModel",
          "model_module_version": "1.5.0",
          "state": {
            "_dom_classes": [],
            "_model_module": "@jupyter-widgets/controls",
            "_model_module_version": "1.5.0",
            "_model_name": "HBoxModel",
            "_view_count": null,
            "_view_module": "@jupyter-widgets/controls",
            "_view_module_version": "1.5.0",
            "_view_name": "HBoxView",
            "box_style": "",
            "children": [
              "IPY_MODEL_b366532129cc43e390e99225dd08df15",
              "IPY_MODEL_f055cdc96a784bf6a15f8b02033c2907",
              "IPY_MODEL_83302983066643ef99c7c498bf454d56"
            ],
            "layout": "IPY_MODEL_9b61fdd6adbf42deb805e00049ceb19e"
          }
        },
        "b366532129cc43e390e99225dd08df15": {
          "model_module": "@jupyter-widgets/controls",
          "model_name": "HTMLModel",
          "model_module_version": "1.5.0",
          "state": {
            "_dom_classes": [],
            "_model_module": "@jupyter-widgets/controls",
            "_model_module_version": "1.5.0",
            "_model_name": "HTMLModel",
            "_view_count": null,
            "_view_module": "@jupyter-widgets/controls",
            "_view_module_version": "1.5.0",
            "_view_name": "HTMLView",
            "description": "",
            "description_tooltip": null,
            "layout": "IPY_MODEL_d23e649a33b54d968e9b281c9207aee7",
            "placeholder": "​",
            "style": "IPY_MODEL_91f0843a8bba4a5982937f78342d2c00",
            "value": "Downloading (…)&quot;pytorch_model.bin&quot;;: 100%"
          }
        },
        "f055cdc96a784bf6a15f8b02033c2907": {
          "model_module": "@jupyter-widgets/controls",
          "model_name": "FloatProgressModel",
          "model_module_version": "1.5.0",
          "state": {
            "_dom_classes": [],
            "_model_module": "@jupyter-widgets/controls",
            "_model_module_version": "1.5.0",
            "_model_name": "FloatProgressModel",
            "_view_count": null,
            "_view_module": "@jupyter-widgets/controls",
            "_view_module_version": "1.5.0",
            "_view_name": "ProgressView",
            "bar_style": "success",
            "description": "",
            "description_tooltip": null,
            "layout": "IPY_MODEL_258bce1afdfe4bfeaeffbed2f0e7a673",
            "max": 1269737156,
            "min": 0,
            "orientation": "horizontal",
            "style": "IPY_MODEL_a61693cc62c842f78ca530f55049caa8",
            "value": 1269737156
          }
        },
        "83302983066643ef99c7c498bf454d56": {
          "model_module": "@jupyter-widgets/controls",
          "model_name": "HTMLModel",
          "model_module_version": "1.5.0",
          "state": {
            "_dom_classes": [],
            "_model_module": "@jupyter-widgets/controls",
            "_model_module_version": "1.5.0",
            "_model_name": "HTMLModel",
            "_view_count": null,
            "_view_module": "@jupyter-widgets/controls",
            "_view_module_version": "1.5.0",
            "_view_name": "HTMLView",
            "description": "",
            "description_tooltip": null,
            "layout": "IPY_MODEL_f48439e92f9a431a8013f1c98b942d31",
            "placeholder": "​",
            "style": "IPY_MODEL_3cc006acb727476aa72ab14f2ca61204",
            "value": " 1.27G/1.27G [00:04&lt;00:00, 257MB/s]"
          }
        },
        "9b61fdd6adbf42deb805e00049ceb19e": {
          "model_module": "@jupyter-widgets/base",
          "model_name": "LayoutModel",
          "model_module_version": "1.2.0",
          "state": {
            "_model_module": "@jupyter-widgets/base",
            "_model_module_version": "1.2.0",
            "_model_name": "LayoutModel",
            "_view_count": null,
            "_view_module": "@jupyter-widgets/base",
            "_view_module_version": "1.2.0",
            "_view_name": "LayoutView",
            "align_content": null,
            "align_items": null,
            "align_self": null,
            "border": null,
            "bottom": null,
            "display": null,
            "flex": null,
            "flex_flow": null,
            "grid_area": null,
            "grid_auto_columns": null,
            "grid_auto_flow": null,
            "grid_auto_rows": null,
            "grid_column": null,
            "grid_gap": null,
            "grid_row": null,
            "grid_template_areas": null,
            "grid_template_columns": null,
            "grid_template_rows": null,
            "height": null,
            "justify_content": null,
            "justify_items": null,
            "left": null,
            "margin": null,
            "max_height": null,
            "max_width": null,
            "min_height": null,
            "min_width": null,
            "object_fit": null,
            "object_position": null,
            "order": null,
            "overflow": null,
            "overflow_x": null,
            "overflow_y": null,
            "padding": null,
            "right": null,
            "top": null,
            "visibility": null,
            "width": null
          }
        },
        "d23e649a33b54d968e9b281c9207aee7": {
          "model_module": "@jupyter-widgets/base",
          "model_name": "LayoutModel",
          "model_module_version": "1.2.0",
          "state": {
            "_model_module": "@jupyter-widgets/base",
            "_model_module_version": "1.2.0",
            "_model_name": "LayoutModel",
            "_view_count": null,
            "_view_module": "@jupyter-widgets/base",
            "_view_module_version": "1.2.0",
            "_view_name": "LayoutView",
            "align_content": null,
            "align_items": null,
            "align_self": null,
            "border": null,
            "bottom": null,
            "display": null,
            "flex": null,
            "flex_flow": null,
            "grid_area": null,
            "grid_auto_columns": null,
            "grid_auto_flow": null,
            "grid_auto_rows": null,
            "grid_column": null,
            "grid_gap": null,
            "grid_row": null,
            "grid_template_areas": null,
            "grid_template_columns": null,
            "grid_template_rows": null,
            "height": null,
            "justify_content": null,
            "justify_items": null,
            "left": null,
            "margin": null,
            "max_height": null,
            "max_width": null,
            "min_height": null,
            "min_width": null,
            "object_fit": null,
            "object_position": null,
            "order": null,
            "overflow": null,
            "overflow_x": null,
            "overflow_y": null,
            "padding": null,
            "right": null,
            "top": null,
            "visibility": null,
            "width": null
          }
        },
        "91f0843a8bba4a5982937f78342d2c00": {
          "model_module": "@jupyter-widgets/controls",
          "model_name": "DescriptionStyleModel",
          "model_module_version": "1.5.0",
          "state": {
            "_model_module": "@jupyter-widgets/controls",
            "_model_module_version": "1.5.0",
            "_model_name": "DescriptionStyleModel",
            "_view_count": null,
            "_view_module": "@jupyter-widgets/base",
            "_view_module_version": "1.2.0",
            "_view_name": "StyleView",
            "description_width": ""
          }
        },
        "258bce1afdfe4bfeaeffbed2f0e7a673": {
          "model_module": "@jupyter-widgets/base",
          "model_name": "LayoutModel",
          "model_module_version": "1.2.0",
          "state": {
            "_model_module": "@jupyter-widgets/base",
            "_model_module_version": "1.2.0",
            "_model_name": "LayoutModel",
            "_view_count": null,
            "_view_module": "@jupyter-widgets/base",
            "_view_module_version": "1.2.0",
            "_view_name": "LayoutView",
            "align_content": null,
            "align_items": null,
            "align_self": null,
            "border": null,
            "bottom": null,
            "display": null,
            "flex": null,
            "flex_flow": null,
            "grid_area": null,
            "grid_auto_columns": null,
            "grid_auto_flow": null,
            "grid_auto_rows": null,
            "grid_column": null,
            "grid_gap": null,
            "grid_row": null,
            "grid_template_areas": null,
            "grid_template_columns": null,
            "grid_template_rows": null,
            "height": null,
            "justify_content": null,
            "justify_items": null,
            "left": null,
            "margin": null,
            "max_height": null,
            "max_width": null,
            "min_height": null,
            "min_width": null,
            "object_fit": null,
            "object_position": null,
            "order": null,
            "overflow": null,
            "overflow_x": null,
            "overflow_y": null,
            "padding": null,
            "right": null,
            "top": null,
            "visibility": null,
            "width": null
          }
        },
        "a61693cc62c842f78ca530f55049caa8": {
          "model_module": "@jupyter-widgets/controls",
          "model_name": "ProgressStyleModel",
          "model_module_version": "1.5.0",
          "state": {
            "_model_module": "@jupyter-widgets/controls",
            "_model_module_version": "1.5.0",
            "_model_name": "ProgressStyleModel",
            "_view_count": null,
            "_view_module": "@jupyter-widgets/base",
            "_view_module_version": "1.2.0",
            "_view_name": "StyleView",
            "bar_color": null,
            "description_width": ""
          }
        },
        "f48439e92f9a431a8013f1c98b942d31": {
          "model_module": "@jupyter-widgets/base",
          "model_name": "LayoutModel",
          "model_module_version": "1.2.0",
          "state": {
            "_model_module": "@jupyter-widgets/base",
            "_model_module_version": "1.2.0",
            "_model_name": "LayoutModel",
            "_view_count": null,
            "_view_module": "@jupyter-widgets/base",
            "_view_module_version": "1.2.0",
            "_view_name": "LayoutView",
            "align_content": null,
            "align_items": null,
            "align_self": null,
            "border": null,
            "bottom": null,
            "display": null,
            "flex": null,
            "flex_flow": null,
            "grid_area": null,
            "grid_auto_columns": null,
            "grid_auto_flow": null,
            "grid_auto_rows": null,
            "grid_column": null,
            "grid_gap": null,
            "grid_row": null,
            "grid_template_areas": null,
            "grid_template_columns": null,
            "grid_template_rows": null,
            "height": null,
            "justify_content": null,
            "justify_items": null,
            "left": null,
            "margin": null,
            "max_height": null,
            "max_width": null,
            "min_height": null,
            "min_width": null,
            "object_fit": null,
            "object_position": null,
            "order": null,
            "overflow": null,
            "overflow_x": null,
            "overflow_y": null,
            "padding": null,
            "right": null,
            "top": null,
            "visibility": null,
            "width": null
          }
        },
        "3cc006acb727476aa72ab14f2ca61204": {
          "model_module": "@jupyter-widgets/controls",
          "model_name": "DescriptionStyleModel",
          "model_module_version": "1.5.0",
          "state": {
            "_model_module": "@jupyter-widgets/controls",
            "_model_module_version": "1.5.0",
            "_model_name": "DescriptionStyleModel",
            "_view_count": null,
            "_view_module": "@jupyter-widgets/base",
            "_view_module_version": "1.2.0",
            "_view_name": "StyleView",
            "description_width": ""
          }
        }
      }
    }
  },
  "cells": [
    {
      "cell_type": "markdown",
      "metadata": {
        "id": "LBSYoWbi-45k"
      },
      "source": [
        "# **Fine-tuning XLS-R for Multi-Lingual ASR with 🤗 Transformers**\n",
        "\n",
        "***NOTE***: *This note is adapted from [HuggingFace](https://huggingface.co/blog/fine-tune-xlsr-wav2vec2) blog post and code on finetuning Multilingual XLSR's successor, called [XLS-R](https://huggingface.co/models?other=xls_r)*."
      ]
    },
    {
      "cell_type": "markdown",
      "metadata": {
        "id": "V7YOT2mnUiea"
      },
      "source": [
        "**Wav2Vec2** is a pretrained model for Automatic Speech Recognition (ASR) and was released in [September 2020](https://ai.facebook.com/blog/wav2vec-20-learning-the-structure-of-speech-from-raw-audio/) by *Alexei Baevski, Michael Auli, and Alex Conneau*.  Soon after the superior performance of Wav2Vec2 was demonstrated on one of the most popular English datasets for ASR, called [LibriSpeech](https://huggingface.co/datasets/librispeech_asr), *Facebook AI* presented a multi-lingual version of Wav2Vec2, called [XLSR](https://arxiv.org/abs/2006.13979). XLSR stands for *cross-lingual speech representations* and refers to model's ability to learn speech representations that are useful across multiple languages.\n",
        "\n",
        "XLSR's successor, simply called **XLS-R** (refering to the [*''XLM-R*](https://ai.facebook.com/blog/-xlm-r-state-of-the-art-cross-lingual-understanding-through-self-supervision/) *for Speech''*), was released in [November 2021](https://ai.facebook.com/blog/xls-r-self-supervised-speech-processing-for-128-languages) by *Arun Babu, Changhan Wang, Andros Tjandra, et al.* XLS-R used almost **half a million** hours of audio data in 128 languages for self-supervised pre-training and comes in sizes ranging from 300 milion up to **two billion** parameters. You can find the pretrained checkpoints on the 🤗 Hub:\n",
        "\n",
        "- [**Wav2Vec2-XLS-R-300M**](https://huggingface.co/facebook/wav2vec2-xls-r-300m)\n",
        "- [**Wav2Vec2-XLS-R-1B**](https://huggingface.co/facebook/wav2vec2-xls-r-1b)\n",
        "- [**Wav2Vec2-XLS-R-2B**](https://huggingface.co/facebook/wav2vec2-xls-r-2b)\n",
        "\n",
        "Similar to [BERT's masked language modeling objective](http://jalammar.github.io/illustrated-bert/), XLS-R learns contextualized speech representations by randomly masking feature vectors before passing them to a transformer network during self-supervised pre-training (*i.e.* diagram on the left below). \n",
        "\n",
        "For fine-tuning, a single linear layer is added on top of the pre-trained network to train the model on labeled data of audio downstream tasks such as speech recognition, speech translation and audio classification (*i.e.* diagram on the right below).\n",
        "\n",
        "![wav2vec2_structure](https://raw.githubusercontent.com/patrickvonplaten/scientific_images/master/xls_r.png)\n",
        "\n",
        "XLS-R shows impressive improvements over previous state-of-the-art results on both speech recognition, speech translation and speaker/language identification, *cf.* with Table 3-6, Table 7-10, and Table 11-12 respectively of the official [paper](https://ai.facebook.com/blog/xls-r-self-supervised-speech-processing-for-128-languages)."
      ]
    },
    {
      "cell_type": "markdown",
      "metadata": {
        "id": "nT_QrfWtsxIz"
      },
      "source": [
        "## Notebook Setup"
      ]
    },
    {
      "cell_type": "markdown",
      "metadata": {
        "id": "kruqixOYHaIo"
      },
      "source": [
        "\n",
        "In this notebook, we will give an in-detail explanation of how XLS-R - more specifically the pre-trained checkpoint [**Wav2Vec2-XLS-R-300M**](https://huggingface.co/facebook/wav2vec2-xls-r-300m) - can be fine-tuned for ASR.  For demonstration purposes, we fine-tune the model on the low resource ASR datasets of [Zambezi Voice](https://github.com/unza-speech-lab/zambezi-voice)."
      ]
    },
    {
      "cell_type": "markdown",
      "metadata": {
        "id": "Gx9OdDYrCtQ1"
      },
      "source": [
        "XLS-R is fine-tuned using Connectionist Temporal Classification (CTC), which is an algorithm that is used to train neural networks for sequence-to-sequence problems, such as ASR and handwriting recognition. \n",
        "\n",
        "I highly recommend reading the well-written blog post [*Sequence Modeling with CTC (2017)*](https://distill.pub/2017/ctc/) by Awni Hannun."
      ]
    },
    {
      "cell_type": "markdown",
      "metadata": {
        "id": "wcHuXIaWyHZU"
      },
      "source": [
        "First, let's try to get a good GPU in our colab! With Google Colab's free version it's sadly becoming much harder to get access to a good GPU. With Google Colab Pro, however, one should easily get either a V100 or P100 GPU."
      ]
    },
    {
      "cell_type": "code",
      "metadata": {
        "colab": {
          "base_uri": "https://localhost:8080/"
        },
        "id": "YELVqGxMxnbG",
        "outputId": "d562357b-71ab-4400-f5a3-bb6c802da660"
      },
      "source": [
        "gpu_info = !nvidia-smi\n",
        "gpu_info = '\\n'.join(gpu_info)\n",
        "if gpu_info.find('failed') >= 0:\n",
        "  print('Not connected to a GPU')\n",
        "else:\n",
        "  print(gpu_info)"
      ],
      "execution_count": null,
      "outputs": [
        {
          "output_type": "stream",
          "name": "stdout",
          "text": [
            "Tue Feb  7 18:33:33 2023       \n",
            "+-----------------------------------------------------------------------------+\n",
            "| NVIDIA-SMI 510.47.03    Driver Version: 510.47.03    CUDA Version: 11.6     |\n",
            "|-------------------------------+----------------------+----------------------+\n",
            "| GPU  Name        Persistence-M| Bus-Id        Disp.A | Volatile Uncorr. ECC |\n",
            "| Fan  Temp  Perf  Pwr:Usage/Cap|         Memory-Usage | GPU-Util  Compute M. |\n",
            "|                               |                      |               MIG M. |\n",
            "|===============================+======================+======================|\n",
            "|   0  Tesla T4            Off  | 00000000:00:04.0 Off |                    0 |\n",
            "| N/A   57C    P0    27W /  70W |      0MiB / 15360MiB |      0%      Default |\n",
            "|                               |                      |                  N/A |\n",
            "+-------------------------------+----------------------+----------------------+\n",
            "                                                                               \n",
            "+-----------------------------------------------------------------------------+\n",
            "| Processes:                                                                  |\n",
            "|  GPU   GI   CI        PID   Type   Process name                  GPU Memory |\n",
            "|        ID   ID                                                   Usage      |\n",
            "|=============================================================================|\n",
            "|  No running processes found                                                 |\n",
            "+-----------------------------------------------------------------------------+\n"
          ]
        }
      ]
    },
    {
      "cell_type": "markdown",
      "metadata": {
        "id": "e335hPmdtASZ"
      },
      "source": [
        "Before we start, let's install `datasets` and `transformers`. Also, we need the `torchaudio` to load audio files and `jiwer` to evaluate our fine-tuned model using the [word error rate (WER)](https://huggingface.co/metrics/wer) metric ${}^1$."
      ]
    },
    {
      "cell_type": "code",
      "metadata": {
        "id": "c8eh87Hoee5d"
      },
      "source": [
        "%%capture\n",
        "!pip install datasets\n",
        "!pip install transformers\n",
        "!pip install huggingface_hub\n",
        "!pip install torchaudio\n",
        "!pip install jiwer"
      ],
      "execution_count": null,
      "outputs": []
    },
    {
      "cell_type": "markdown",
      "metadata": {
        "id": "0xxt_LwxDQlO"
      },
      "source": [
        "We strongly suggest to upload your training checkpoints directly to the [🤗 Hub](https://huggingface.co/) while training. The [🤗 Hub](https://huggingface.co/) has integrated version control so you can be sure that no model checkpoint is getting lost during training. \n",
        "\n",
        "To do so you have to store your authentication token from the Hugging Face website (sign up [here](https://huggingface.co/join) if you haven't already!)\n",
        "\n",
        "***In our case, we use the `Zambezi Voice` HF account.***"
      ]
    },
    {
      "cell_type": "code",
      "metadata": {
        "colab": {
          "base_uri": "https://localhost:8080/",
          "height": 331,
          "referenced_widgets": [
            "af65c115ffcc4a49a4de5e5043d6c8ae",
            "fa7634152b8340f0b67a8fe9312ce02c",
            "f7f6cc9e944842c38317bb30bbebd128",
            "ac22a259cc46408db50163f2abb38dfa",
            "bbffec7fb34d4eff8830d08dce29de89",
            "dc8f1a7ec9fa4032b3a7561cd44f24ff",
            "618b9400491e48d9898d9b5ca224717a",
            "ee22c19f464b461c93e130cf187b0a17",
            "3165afac95da4c84ad55ad37fcdabf5e",
            "c62f6e75231a4b459f52ad5f884d15b4",
            "d9f6dcd76c4746979db1e005a45aecf7",
            "9be959df53364184a63de53bf0b6d4f8",
            "94bf115f165c4966b42f0f91674e178b",
            "59b040a51ada4503a7691fc47804f364",
            "7b758eeefd654de0a2d1812171c40fd7",
            "8aea7eda0ba24394ac706ff002a506b6",
            "41ad91af60f04c869108ecdff21c5271"
          ]
        },
        "id": "mlMSH3T3EazV",
        "outputId": "8064d111-473b-4984-b20c-c6ca6f3a7db2"
      },
      "source": [
        "from huggingface_hub import notebook_login\n",
        "\n",
        "notebook_login()"
      ],
      "execution_count": null,
      "outputs": [
        {
          "output_type": "stream",
          "name": "stdout",
          "text": [
            "Token is valid.\n",
            "Your token has been saved in your configured git credential helpers (store).\n",
            "Your token has been saved to /root/.cache/huggingface/token\n",
            "Login successful\n"
          ]
        }
      ]
    },
    {
      "cell_type": "markdown",
      "metadata": {
        "id": "ujdZ2TxhElk6"
      },
      "source": [
        "\n",
        "Then you need to install Git-LFS to upload your model checkpoints:"
      ]
    },
    {
      "cell_type": "code",
      "metadata": {
        "id": "WcR-d83OEkqb"
      },
      "source": [
        "%%capture\n",
        "!apt install git-lfs"
      ],
      "execution_count": null,
      "outputs": []
    },
    {
      "cell_type": "markdown",
      "metadata": {
        "id": "Mn9swf6EQ9Vd"
      },
      "source": [
        "\n",
        "\n",
        "\n",
        "---\n",
        "\n",
        "${}^1$ In the [paper](https://arxiv.org/pdf/2006.13979.pdf), the model was evaluated using the phoneme error rate (PER), but by far the most common metric in ASR is the word error rate (WER). To keep this notebook as general as possible we decided to evaluate the model using WER."
      ]
    },
    {
      "cell_type": "markdown",
      "metadata": {
        "id": "0mW-C1Nt-j7k"
      },
      "source": [
        "## Prepare Data, Tokenizer, Feature Extractor"
      ]
    },
    {
      "cell_type": "markdown",
      "metadata": {
        "id": "BeBosnY9BH3e"
      },
      "source": [
        "ASR models transcribe speech to text, which means that we both need a feature extractor that processes the speech signal to the model's input format, *e.g.* a feature vector, and a tokenizer that processes the model's output format to text. \n",
        "\n",
        "In 🤗 Transformers, the XLS-R model is thus accompanied by both a tokenizer, called [Wav2Vec2CTCTokenizer](https://huggingface.co/transformers/master/model_doc/wav2vec2.html#wav2vec2ctctokenizer), and a feature extractor, called [Wav2Vec2FeatureExtractor](https://huggingface.co/transformers/master/model_doc/wav2vec2.html#wav2vec2featureextractor).\n",
        "\n",
        "Let's start by creating the tokenizer to decode the predicted output classes to the output transcription."
      ]
    },
    {
      "cell_type": "markdown",
      "metadata": {
        "id": "sEXEWEJGQPqD"
      },
      "source": [
        "### Create `Wav2Vec2CTCTokenizer`"
      ]
    },
    {
      "cell_type": "markdown",
      "metadata": {
        "id": "tWmMikuNEKl_"
      },
      "source": [
        "A pre-trained XLS-R model maps the speech signal to a sequence of context representations as illustrated in the figure above. However, for speech recognition the model has to to map this sequence of context representations to its corresponding transcription which means that a linear layer has to be added on top of the transformer block (shown in yellow in the diagram above). This linear layer is used to classifies each context representation to a token class analogous how, *e.g.*, after pretraining a linear layer is added on top of BERT's embeddings for further classification - *cf.* with *'BERT'* section of this [blog post](https://huggingface.co/blog/warm-starting-encoder-decoder)."
      ]
    },
    {
      "cell_type": "markdown",
      "metadata": {
        "id": "v5oRE8XjIUH3"
      },
      "source": [
        "The output size of this layer corresponds to the number of tokens in the vocabulary, which does **not** depend onXLS-R's pretraining task, but only on the labeled dataset used for fine-tuning. So in the first step, we will take a look at the chosen dataset of Common Voice and define a vocabulary based on the transcriptions."
      ]
    },
    {
      "cell_type": "markdown",
      "metadata": {
        "id": "idBczw8mWzgt"
      },
      "source": [
        "First, let's download the Zambezi Voice [Github Repository](https://github.com/unza-speech-lab/zambezi-voice/blob/main/README.md) and pick a language to fine-tune XLS-R on. For this notebook, we will use Nyanja (nya). \n",
        "\n",
        "Great, now wwe can clone the repository and decide on which language to finetune!"
      ]
    },
    {
      "cell_type": "markdown",
      "metadata": {
        "id": "bee4g9rpLxll"
      },
      "source": [
        "All ASR datasets for Zambezi Voice have three splits: `\"train\"`, `\"dev\"` and `\"test\"`. In this notebook, we will work with these. "
      ]
    },
    {
      "cell_type": "markdown",
      "source": [
        "First, lets clone the whole `Zambezi Voice` dataset."
      ],
      "metadata": {
        "id": "xQSjV4aa-MOV"
      }
    },
    {
      "cell_type": "code",
      "source": [
        "!git clone https://github.com/unza-speech-lab/zambezi-voice"
      ],
      "metadata": {
        "colab": {
          "base_uri": "https://localhost:8080/"
        },
        "id": "qDLvNwFFrSdt",
        "outputId": "2f66b961-9017-459e-94a5-c719ee8229da"
      },
      "execution_count": null,
      "outputs": [
        {
          "output_type": "stream",
          "name": "stdout",
          "text": [
            "Cloning into 'zambezi-voice'...\n",
            "remote: Enumerating objects: 39994, done.\u001b[K\n",
            "remote: Counting objects: 100% (9876/9876), done.\u001b[K\n",
            "remote: Compressing objects: 100% (9179/9179), done.\u001b[K\n",
            "remote: Total 39994 (delta 768), reused 9761 (delta 682), pack-reused 30118\u001b[K\n",
            "Receiving objects: 100% (39994/39994), 5.90 GiB | 16.48 MiB/s, done.\n",
            "Resolving deltas: 100% (15439/15439), done.\n"
          ]
        }
      ]
    },
    {
      "cell_type": "markdown",
      "source": [
        "Check for that in the absolute path that only the splits `*.tsv` exist. Remove others!"
      ],
      "metadata": {
        "id": "hg26hB_Z-2pl"
      }
    },
    {
      "cell_type": "code",
      "source": [
        "abs_path_to_data = \"/content/zambezi-voice/nyanja/nya\"\n",
        "!ls {abs_path_to_data}/*.tsv"
      ],
      "metadata": {
        "colab": {
          "base_uri": "https://localhost:8080/"
        },
        "id": "1MFNzIIZugPc",
        "outputId": "2b4426f9-b988-4a14-ba17-f87e0f15ae71"
      },
      "execution_count": null,
      "outputs": [
        {
          "output_type": "stream",
          "name": "stdout",
          "text": [
            "/content/zambezi-voice/nyanja/nya/dev.tsv\n",
            "/content/zambezi-voice/nyanja/nya/test.tsv\n",
            "/content/zambezi-voice/nyanja/nya/train.tsv\n"
          ]
        }
      ]
    },
    {
      "cell_type": "code",
      "source": [
        "from datasets import load_dataset, load_metric, Audio\n",
        "from datasets import load_dataset, DatasetDict\n",
        "import numpy as np\n",
        "import pandas as pd\n",
        "from glob import glob\n",
        "import os"
      ],
      "metadata": {
        "id": "--Oo7AXnuglx"
      },
      "execution_count": null,
      "outputs": []
    },
    {
      "cell_type": "code",
      "source": [
        "def load_datasets(abs_path_to_data):\n",
        "  splits=glob(f\"{abs_path_to_data}/*.tsv\")\n",
        "  split_1 = os.path.basename(splits[0])[:-4]\n",
        "  split_2 = os.path.basename(splits[1])[:-4]\n",
        "  split_3 = os.path.basename(splits[2])[:-4]\n",
        "\n",
        "  split_1_df = pd.read_csv(splits[0], sep=\"\\t\")\n",
        "  split_1_df[\"path\"] = abs_path_to_data + \"/audio/\" + split_1_df['audio_id']\n",
        "  split_1_df[\"status\"] = split_1_df[\"path\"].apply(lambda path: True if os.path.exists(path) else None)\n",
        "  split_1_df = split_1_df.dropna(subset=[\"path\"])\n",
        "  split_1_df = split_1_df.drop(columns=['audio_id', 'status','BitsPerSample',\n",
        "                                        'durationMsec', 'sampleRate', 'speaker_gender', 'speaker_birth_year', \n",
        "                                        'user_id', 'mother_tongue'])\n",
        "  split_1_df = split_1_df.rename(columns={'path':'audio', 'nyanja':'sentence'})\n",
        "  split_1_df.to_csv(f\"/content/{split_1}.tsv\", sep='\\t', index=False)\n",
        "  print(f\"No. of {split_1} records: {len(split_1_df)}\")\n",
        "\n",
        "  split_2_df = pd.read_csv(splits[1], sep=\"\\t\")\n",
        "  split_2_df[\"path\"] = abs_path_to_data + \"/audio/\" + split_2_df['audio_id']\n",
        "  split_2_df[\"status\"] = split_2_df[\"path\"].apply(lambda path: True if os.path.exists(path) else None)\n",
        "  split_2_df = split_2_df.dropna(subset=[\"path\"])\n",
        "  split_2_df = split_2_df.drop(columns=['audio_id', 'status','BitsPerSample',\n",
        "                                        'durationMsec', 'sampleRate', 'speaker_gender', 'speaker_birth_year',\n",
        "                                        'user_id', 'mother_tongue'])\n",
        "  split_2_df = split_2_df.rename(columns={'path':'audio', 'nyanja':'sentence'})\n",
        "  split_2_df.to_csv(f\"/content/{split_2}.tsv\", sep='\\t', index=False)\n",
        "  print(f\"No. of {split_2} records: {len(split_2_df)}\")\n",
        "\n",
        "  split_3_df = pd.read_csv(splits[2], sep=\"\\t\")\n",
        "  split_3_df[\"path\"] = abs_path_to_data + \"/audio/\" + split_3_df['audio_id']\n",
        "  split_3_df[\"status\"] = split_3_df[\"path\"].apply(lambda path: True if os.path.exists(path) else None)\n",
        "  split_3_df = split_3_df.dropna(subset=[\"path\"])\n",
        "  split_3_df = split_3_df.drop(columns=['audio_id', 'status','BitsPerSample', \n",
        "                                        'durationMsec', 'sampleRate', 'speaker_gender', 'speaker_birth_year',\n",
        "                                        'user_id', 'mother_tongue'])\n",
        "  split_3_df = split_3_df.rename(columns={'path':'audio', 'nyanja':'sentence'})\n",
        "  split_3_df.to_csv(f\"/content/{split_3}.tsv\", sep='\\t', index=False)\n",
        "  print(f\"No. of {split_3} records: {len(split_3_df)}\")"
      ],
      "metadata": {
        "id": "y0UWbwdqugvB"
      },
      "execution_count": null,
      "outputs": []
    },
    {
      "cell_type": "code",
      "source": [
        "load_datasets(abs_path_to_data)"
      ],
      "metadata": {
        "colab": {
          "base_uri": "https://localhost:8080/"
        },
        "id": "ijZAeDJsug4p",
        "outputId": "2db47c33-76d7-4dbd-b334-b702ad9625d4"
      },
      "execution_count": null,
      "outputs": [
        {
          "output_type": "stream",
          "name": "stdout",
          "text": [
            "No. of dev records: 622\n",
            "No. of test records: 428\n",
            "No. of train records: 8117\n"
          ]
        }
      ]
    },
    {
      "cell_type": "code",
      "metadata": {
        "colab": {
          "base_uri": "https://localhost:8080/",
          "height": 331,
          "referenced_widgets": [
            "f7b841b15a094a04b2b829ec25929365",
            "1f5fef7ec5ff4072860c4130443667e9",
            "fb812a08d04341509344bb997eeafe77",
            "fabd7c83041b4b82bf746ff1cb1759ef",
            "25dfc50bba1a48ad99dc07580ef1cee1",
            "adbb633267944fddbb21c27f177d047d",
            "c22c6ba22e5f4c07aacce501c377e609",
            "a97a92ddf396454099fc531295582456",
            "b158ac382c30408b838703707c882043",
            "60872a6556c747fa8a3e342a35d88e20",
            "a548481319ea401f91ffa703d61934e2",
            "0d8c950b50f4461bbf702c2f3a3672a7",
            "799f4f77d8a34ceea56d4f58333310f8",
            "50090ca94fea41a7a95a4af1bc1ffc7e",
            "6a62e63f1af94c5e9d80ddb5fa918225",
            "0c375ce21b734bf98e03bc97458710b8",
            "a6e258268d364076aa876ea62b2d62f7",
            "387d276bcbac455190441169efd982a9",
            "dd5f1aa3d4dd4b56b955aa522f76f8cc",
            "c1a7dabf558e4e68a250b300b813a416",
            "fe4dc2f78c4c460da2fb23d25342de53",
            "39e264ec4804400c902b36c7ca6ca519",
            "f7f7d230d10f4b7388492f1e24a5838d",
            "35659b05e38e4aefb534be9db4e6ac75",
            "0f10e7ca76c24f52a22a5c3b0a9df64c",
            "87515881839f421d9d53320eed13ba89",
            "842bc60e72ee4ff39d0ce3dc004694dc",
            "8624f8eaf3854369a784dbecb50407ca",
            "f192e9b030624ef080ed469f804f4569",
            "7f99cd0769664753b46c33a4789a582d",
            "7a61c3b44e06471fb8601472c8ecf5ab",
            "7ceb1eaf7ce848099f4495c156ede6cf",
            "4fdd65f225cf42499175fd7c49e07edb",
            "5f532423b5174ab881d79792e951f6cc",
            "ec83d50eb9f94387be12197445f9ce38",
            "b99e6b99cda44099aca48ca20d44fc4c",
            "b4aa815981c74b3597c1c17a7f193524",
            "4e66a9399f904955a27251216b76fee3",
            "aeaba29c73164e0aa2963803a2189908",
            "f40f9aee27e44a73a171c9c2521c4943",
            "42a05eb87d264a51baecfb0f614a718f",
            "f342cf60dda84b9c92ade1851f7e2dc8",
            "80191952344f4358945f112b88e90b72",
            "685622b7a720470ebe84526a4466e47a",
            "c9333c1ac130402d9abb36a175cee3ed",
            "5602908cb410464e924399783f900388",
            "05c18d231395438db0c119b9c13efd92",
            "a8758d1c917e42c4bdd9858c4aa33cce",
            "0070383b7aa6414096aeee16d7335c3e",
            "348dbfb6e82846cabd7eabd9882b43c9",
            "47d870ffe86247b7a9d983a774688885",
            "00f02567573341698886bce493249639",
            "a55366d775724097a48eb09c954c2867",
            "dbaef968995a4f218249764be9bf1ac7",
            "b722fbbe3a72498b92b00e6bb33f1bca",
            "cfc6bb3895c9469d88a593deeda47090",
            "060878e7f8cf4e5c87c658b794ebdaed",
            "aa16355dfcd3479c8f0e1729eabbca33",
            "ab154f78de7b413ba9b137e090d6f547",
            "05e3af39e03a40798ff2eb741559df63",
            "f0cf5f62e6184c55ad4890d9c15d86f5",
            "fa34b9e7a686406c8a249c6f22b78117",
            "515fddf34e774e8bbe245620924e1c33",
            "efc66ca426ab4b978f950ad0eeeff4e9",
            "48355942dd6c44cd9950d8a37a455935",
            "844212577ae14846a536ed73fb0ae64a",
            "149a271c12a74be684c3f2488ff0c710",
            "c426d8c70464479ebd3b2e488032972f",
            "9aac0dd107454f07ba7c6f44a3052f64",
            "b250be0f472649a881bc1d68dc7900d2",
            "e2d331ec9aae4efab050730e256924f9",
            "bef2314c382042f4a8a1c75a862bfead",
            "b761a8e0fdf44461804f78976ebf93e4",
            "8a76307e521d4571a32598c92c50e861",
            "0202503135b84a94a0bc06b2574d8e05",
            "037199cbc00f4a4da07ab4e2c3953c55",
            "825b17d8d0324212b5f3cbee51d2b7a5",
            "a6b01f8bc9254ec5818deb1ba6ac7071",
            "7873ec1a04864828b528c4d05749dc89",
            "bf25658cbd62443d9cfc380844416325",
            "7da82201d0ac41b5838394bb40baa0bb",
            "ee7b0dd70d2c457080cc80ee063fadf2",
            "1c3d6365f3ae4b15b47780b66b4c43e4",
            "88d3775938ac4cb89c59b98a758725e0",
            "46ae437dc6724cf4a418479fd1555ba5",
            "64bab2852b1447ce85b548178e3407df",
            "0cbc0fd50ee24df4a00c7ca86e61a103",
            "0e3dcd1dcf9d4da1aa9eabc6d7ebc5ae"
          ]
        },
        "id": "2MMXcWFFgCXU",
        "outputId": "22304f6a-2cb2-4037-d809-67a9bd745398"
      },
      "source": [
        "zambezi_voice_train = load_dataset(\"csv\",  data_files={\"train\":  \"train.tsv\"}, delimiter=\"\\t\")[\"train\"]\n",
        "Zambezi_voice_test = load_dataset(\"csv\", data_files={\"dev\": \"dev.tsv\"}, delimiter=\"\\t\")[\"dev\"]"
      ],
      "execution_count": null,
      "outputs": [
        {
          "output_type": "stream",
          "name": "stderr",
          "text": [
            "WARNING:datasets.builder:Using custom data configuration default-baaafb4f0f4b4265\n"
          ]
        },
        {
          "output_type": "stream",
          "name": "stdout",
          "text": [
            "Downloading and preparing dataset csv/default to /root/.cache/huggingface/datasets/csv/default-baaafb4f0f4b4265/0.0.0/6b34fb8fcf56f7c8ba51dc895bfa2bfbe43546f190a60fcf74bb5e8afdcc2317...\n"
          ]
        },
        {
          "output_type": "display_data",
          "data": {
            "text/plain": [
              "Downloading data files:   0%|          | 0/1 [00:00<?, ?it/s]"
            ],
            "application/vnd.jupyter.widget-view+json": {
              "version_major": 2,
              "version_minor": 0,
              "model_id": "f7b841b15a094a04b2b829ec25929365"
            }
          },
          "metadata": {}
        },
        {
          "output_type": "display_data",
          "data": {
            "text/plain": [
              "Extracting data files:   0%|          | 0/1 [00:00<?, ?it/s]"
            ],
            "application/vnd.jupyter.widget-view+json": {
              "version_major": 2,
              "version_minor": 0,
              "model_id": "0d8c950b50f4461bbf702c2f3a3672a7"
            }
          },
          "metadata": {}
        },
        {
          "output_type": "display_data",
          "data": {
            "text/plain": [
              "Generating train split: 0 examples [00:00, ? examples/s]"
            ],
            "application/vnd.jupyter.widget-view+json": {
              "version_major": 2,
              "version_minor": 0,
              "model_id": "f7f7d230d10f4b7388492f1e24a5838d"
            }
          },
          "metadata": {}
        },
        {
          "output_type": "stream",
          "name": "stdout",
          "text": [
            "Dataset csv downloaded and prepared to /root/.cache/huggingface/datasets/csv/default-baaafb4f0f4b4265/0.0.0/6b34fb8fcf56f7c8ba51dc895bfa2bfbe43546f190a60fcf74bb5e8afdcc2317. Subsequent calls will reuse this data.\n"
          ]
        },
        {
          "output_type": "display_data",
          "data": {
            "text/plain": [
              "  0%|          | 0/1 [00:00<?, ?it/s]"
            ],
            "application/vnd.jupyter.widget-view+json": {
              "version_major": 2,
              "version_minor": 0,
              "model_id": "5f532423b5174ab881d79792e951f6cc"
            }
          },
          "metadata": {}
        },
        {
          "output_type": "stream",
          "name": "stderr",
          "text": [
            "WARNING:datasets.builder:Using custom data configuration default-2ad929c83ab4cd6a\n"
          ]
        },
        {
          "output_type": "stream",
          "name": "stdout",
          "text": [
            "Downloading and preparing dataset csv/default to /root/.cache/huggingface/datasets/csv/default-2ad929c83ab4cd6a/0.0.0/6b34fb8fcf56f7c8ba51dc895bfa2bfbe43546f190a60fcf74bb5e8afdcc2317...\n"
          ]
        },
        {
          "output_type": "display_data",
          "data": {
            "text/plain": [
              "Downloading data files:   0%|          | 0/1 [00:00<?, ?it/s]"
            ],
            "application/vnd.jupyter.widget-view+json": {
              "version_major": 2,
              "version_minor": 0,
              "model_id": "c9333c1ac130402d9abb36a175cee3ed"
            }
          },
          "metadata": {}
        },
        {
          "output_type": "display_data",
          "data": {
            "text/plain": [
              "Extracting data files:   0%|          | 0/1 [00:00<?, ?it/s]"
            ],
            "application/vnd.jupyter.widget-view+json": {
              "version_major": 2,
              "version_minor": 0,
              "model_id": "cfc6bb3895c9469d88a593deeda47090"
            }
          },
          "metadata": {}
        },
        {
          "output_type": "display_data",
          "data": {
            "text/plain": [
              "Generating dev split: 0 examples [00:00, ? examples/s]"
            ],
            "application/vnd.jupyter.widget-view+json": {
              "version_major": 2,
              "version_minor": 0,
              "model_id": "149a271c12a74be684c3f2488ff0c710"
            }
          },
          "metadata": {}
        },
        {
          "output_type": "stream",
          "name": "stdout",
          "text": [
            "Dataset csv downloaded and prepared to /root/.cache/huggingface/datasets/csv/default-2ad929c83ab4cd6a/0.0.0/6b34fb8fcf56f7c8ba51dc895bfa2bfbe43546f190a60fcf74bb5e8afdcc2317. Subsequent calls will reuse this data.\n"
          ]
        },
        {
          "output_type": "display_data",
          "data": {
            "text/plain": [
              "  0%|          | 0/1 [00:00<?, ?it/s]"
            ],
            "application/vnd.jupyter.widget-view+json": {
              "version_major": 2,
              "version_minor": 0,
              "model_id": "a6b01f8bc9254ec5818deb1ba6ac7071"
            }
          },
          "metadata": {}
        }
      ]
    },
    {
      "cell_type": "markdown",
      "metadata": {
        "id": "ri5y5N_HMANq"
      },
      "source": [
        "Many ASR datasets only provide the target text, `'sentence'` for each audio array `'audio_id'` . Zambezi Voice actually provides much more information about each audio file, such as information about the speakers etc. Keeping the notebook as general as possible, we only consider the transcribed text for fine-tuning.\n",
        "\n"
      ]
    },
    {
      "cell_type": "markdown",
      "metadata": {
        "id": "Go9Hq4e4NDT9"
      },
      "source": [
        "Let's write a short function to display some random samples of the dataset and run it a couple of times to get a feeling for the transcriptions."
      ]
    },
    {
      "cell_type": "code",
      "metadata": {
        "id": "72737oog2F6U"
      },
      "source": [
        "from datasets import ClassLabel\n",
        "import random\n",
        "import pandas as pd\n",
        "from IPython.display import display, HTML\n",
        "\n",
        "def show_random_elements(dataset, num_examples=10):\n",
        "    assert num_examples <= len(dataset), \"Can't pick more elements than there are in the dataset.\"\n",
        "    picks = []\n",
        "    for _ in range(num_examples):\n",
        "        pick = random.randint(0, len(dataset)-1)\n",
        "        while pick in picks:\n",
        "            pick = random.randint(0, len(dataset)-1)\n",
        "        picks.append(pick)\n",
        "    \n",
        "    df = pd.DataFrame(dataset[picks])\n",
        "    display(HTML(df.to_html()))"
      ],
      "execution_count": null,
      "outputs": []
    },
    {
      "cell_type": "code",
      "metadata": {
        "colab": {
          "base_uri": "https://localhost:8080/",
          "height": 359
        },
        "id": "K_JUmf3G3b9S",
        "outputId": "7bdeda71-dd66-40d5-942b-5aa558b27a54"
      },
      "source": [
        "show_random_elements(zambezi_voice_train.remove_columns([\"audio\"]), num_examples=10)"
      ],
      "execution_count": null,
      "outputs": [
        {
          "output_type": "display_data",
          "data": {
            "text/plain": [
              "<IPython.core.display.HTML object>"
            ],
            "text/html": [
              "<table border=\"1\" class=\"dataframe\">\n",
              "  <thead>\n",
              "    <tr style=\"text-align: right;\">\n",
              "      <th></th>\n",
              "      <th>sentence</th>\n",
              "    </tr>\n",
              "  </thead>\n",
              "  <tbody>\n",
              "    <tr>\n",
              "      <th>0</th>\n",
              "      <td>mkazi akujambulidwa pavidiyo pamene akupereka ulaliki kwa gulu la anthu</td>\n",
              "    </tr>\n",
              "    <tr>\n",
              "      <th>1</th>\n",
              "      <td>kamnyamata kakang ono ka tsitsi la blond yemwe amavala zovala za buluu ndi nsapato zakuda akuyenda panjira yamatope pang ono</td>\n",
              "    </tr>\n",
              "    <tr>\n",
              "      <th>2</th>\n",
              "      <td>amuna atatu ovala yunifolomu mmodzi atavala nduwira yabuluu amakhala pansi pa mtengo pansanja yokwezeka yamwala</td>\n",
              "    </tr>\n",
              "    <tr>\n",
              "      <th>3</th>\n",
              "      <td>azibambo awiri ovala zipewa zolimba masuti a bizinesi komanso ma vesiti alalanje akuyenda pabwalo la nyumba ina</td>\n",
              "    </tr>\n",
              "    <tr>\n",
              "      <th>4</th>\n",
              "      <td>mnyamata wovala chipewa chaubweya akusewera gitala atagona motsamira</td>\n",
              "    </tr>\n",
              "    <tr>\n",
              "      <th>5</th>\n",
              "      <td>mnyamata atakhala pampando atavala zakuda ali ndi zomvera m makutu ndi maikolofoni akukonzekera kuyimba</td>\n",
              "    </tr>\n",
              "    <tr>\n",
              "      <th>6</th>\n",
              "      <td>mayi wina wakhala palesitilanti ndi nsana wake ku khoma la njerwa</td>\n",
              "    </tr>\n",
              "    <tr>\n",
              "      <th>7</th>\n",
              "      <td>amuna awiri ovala zipewa zolimba zoyera akugwira ntchito pa chinthu chachikulu mkati mwa mpanda womangidwa ndi tcheni</td>\n",
              "    </tr>\n",
              "    <tr>\n",
              "      <th>8</th>\n",
              "      <td>ana ang onoang ono asanu ndi mmodzi aimirira pamalo omwe ali ndi mthunzi wa mitengo akuonerera mapepala akuponyedwa m mwamba</td>\n",
              "    </tr>\n",
              "    <tr>\n",
              "      <th>9</th>\n",
              "      <td>wokwera njinga zamapiri monyanyira akudumphadumpha m nkhalango yoyipa</td>\n",
              "    </tr>\n",
              "  </tbody>\n",
              "</table>"
            ]
          },
          "metadata": {}
        }
      ]
    },
    {
      "cell_type": "markdown",
      "metadata": {
        "id": "fowcOllGNNju"
      },
      "source": [
        "Alright! The transcriptions looks clean and preprocessed. This makes sense considering that [Zambezi Voice](https://github.com/unza-speech-lab/zambezi-voice/blob/main/README.md) has preprocessed text and lower-cased text."
      ]
    },
    {
      "cell_type": "markdown",
      "metadata": {
        "id": "vq7OR50LN49m"
      },
      "source": [
        "However, just in case the text has some unwanted text, we can remove all characters that don't contribute to the meaning of a word and cannot really be represented by an acoustic sound and normalize the text."
      ]
    },
    {
      "cell_type": "code",
      "metadata": {
        "id": "svKzVJ_hQGK6"
      },
      "source": [
        "import re\n",
        "chars_to_remove_regex = '[\\,\\_\\?\\.\\$\\&\\\\(\\)!\\-\\;\\:\\\"\\“\\%\\‘\\”\\�\\']'\n",
        "\n",
        "def remove_special_characters(batch):\n",
        "    batch[\"sentence\"] = re.sub(chars_to_remove_regex, '', batch[\"sentence\"]).lower()\n",
        "    return batch"
      ],
      "execution_count": null,
      "outputs": []
    },
    {
      "cell_type": "code",
      "metadata": {
        "colab": {
          "base_uri": "https://localhost:8080/",
          "height": 81,
          "referenced_widgets": [
            "f87404a42dc24230a74afdcf563687f4",
            "50a8f16a40524c53b6ed53e14c19b587",
            "283a88f6818a49c3873acc617652fc62",
            "56e15cfee8164e17a43bdec207033aff",
            "1443fb3d42b9485cb5acc4ab7e59c342",
            "1bb94956b625417890ffb4e06609863d",
            "8dd94e97df2a434ea6ea9cd27bfb86b5",
            "03ff64e38f364f3f9809c23fb2cdc388",
            "a7c746d2eebc4447b248f294233c2f49",
            "6b06c7b2bab54c748c57204d7be74bc6",
            "cec4b28845474ca0852ddc429a8bb9db",
            "ba275edd5ee64caeb9bd29360276b4d0",
            "12e9890c9fc548128f1b90ac829149b6",
            "3c58e5dc363243d0af4e1bfed5c73507",
            "e07ff681952c414fb039fbc34816de81",
            "67caebca10cb44f1baf0fafc8c70f1d9",
            "a84b33efcacb452d9bfc166d91cc2d88",
            "fef9ba302b914aa2a14f683765891e09",
            "8aa9cd41cbd7465899c1429540e42aed",
            "01c0d2bc4d1944869734e2235cd5eb51",
            "10b90672c5524ceaab2697d6886688a7",
            "bcceda1053474499b962a86e734ec94a"
          ]
        },
        "id": "XIHocAuTQbBR",
        "outputId": "af3dd00b-7cfd-44db-a65d-e3582e1dc914"
      },
      "source": [
        "zambezi_voice_train = zambezi_voice_train.map(remove_special_characters)\n",
        "zambezi_voice_test = zambezi_voice_test.map(remove_special_characters)"
      ],
      "execution_count": null,
      "outputs": [
        {
          "output_type": "display_data",
          "data": {
            "text/plain": [
              "  0%|          | 0/8117 [00:00<?, ?ex/s]"
            ],
            "application/vnd.jupyter.widget-view+json": {
              "version_major": 2,
              "version_minor": 0,
              "model_id": "f87404a42dc24230a74afdcf563687f4"
            }
          },
          "metadata": {}
        },
        {
          "output_type": "display_data",
          "data": {
            "text/plain": [
              "  0%|          | 0/622 [00:00<?, ?ex/s]"
            ],
            "application/vnd.jupyter.widget-view+json": {
              "version_major": 2,
              "version_minor": 0,
              "model_id": "ba275edd5ee64caeb9bd29360276b4d0"
            }
          },
          "metadata": {}
        }
      ]
    },
    {
      "cell_type": "markdown",
      "metadata": {
        "id": "TxnVS9gIhIma"
      },
      "source": [
        "Let's look at the processed text labels again."
      ]
    },
    {
      "cell_type": "code",
      "metadata": {
        "colab": {
          "base_uri": "https://localhost:8080/",
          "height": 359
        },
        "id": "RBDRAAYxRE6n",
        "outputId": "55751dad-42b7-48b3-c6b5-669944c2ea25"
      },
      "source": [
        "show_random_elements(zambezi_voice_train.remove_columns([\"audio\"]))"
      ],
      "execution_count": null,
      "outputs": [
        {
          "output_type": "display_data",
          "data": {
            "text/plain": [
              "<IPython.core.display.HTML object>"
            ],
            "text/html": [
              "<table border=\"1\" class=\"dataframe\">\n",
              "  <thead>\n",
              "    <tr style=\"text-align: right;\">\n",
              "      <th></th>\n",
              "      <th>sentence</th>\n",
              "    </tr>\n",
              "  </thead>\n",
              "  <tbody>\n",
              "    <tr>\n",
              "      <th>0</th>\n",
              "      <td>mwamuna wina wa ku africa ndi mnyamata aimirira kumbuyo kwa tebulo losanja lamatabwa m chipinda chabuluu</td>\n",
              "    </tr>\n",
              "    <tr>\n",
              "      <th>1</th>\n",
              "      <td>ana aang ono akugona atakhala pabedi akuseka pa tv</td>\n",
              "    </tr>\n",
              "    <tr>\n",
              "      <th>2</th>\n",
              "      <td>mpira wa basketball uli pamwamba pa osewera a timu ziwiri timu ina ivala zoyera ndipo timu ina yavala navy blue</td>\n",
              "    </tr>\n",
              "    <tr>\n",
              "      <th>3</th>\n",
              "      <td>othamanga ambiri mumsewu wa mzinda khamu limayang ana ndi mitengo kumbuyo</td>\n",
              "    </tr>\n",
              "    <tr>\n",
              "      <th>4</th>\n",
              "      <td>munthu wovala malaya ali mumsewu akuvuntha chakudya mumphika</td>\n",
              "    </tr>\n",
              "    <tr>\n",
              "      <th>5</th>\n",
              "      <td>ana atatu amaima pampando kusonyeza malo oyamba achiwiri ndi achitatu</td>\n",
              "    </tr>\n",
              "    <tr>\n",
              "      <th>6</th>\n",
              "      <td>azibambo awiri ovala masuti osambira amasambira pafunde laling ono kopanda dzuwa</td>\n",
              "    </tr>\n",
              "    <tr>\n",
              "      <th>7</th>\n",
              "      <td>munthu amene wavala thukuta lovala chovala akupalasa padenga padenga</td>\n",
              "    </tr>\n",
              "    <tr>\n",
              "      <th>8</th>\n",
              "      <td>bambo akuimba trombone akuyang ana pamalo oimbira nyimbo kumanzere kwa sikirini</td>\n",
              "    </tr>\n",
              "    <tr>\n",
              "      <th>9</th>\n",
              "      <td>galu wa chikhausu ndi galu kuda ndi galuso oyera atawa mu dothi</td>\n",
              "    </tr>\n",
              "  </tbody>\n",
              "</table>"
            ]
          },
          "metadata": {}
        }
      ]
    },
    {
      "cell_type": "markdown",
      "metadata": {
        "id": "jwfaptH5RJwA"
      },
      "source": [
        "Once again, all looks good! We have removed most special characters from transcriptions and normalized them to lower-case only.\n",
        "\n",
        "Before finalizing the pre-processing, it is always advantageous to consult a native speaker of the target language to see whether the text can be further simplified. \n",
        "\n",
        "Let's write another short mapping function to further simplify the text labels. Remember - the simler the text labels, the easier it is for the model to learn to predict those labels.\n",
        "\n"
      ]
    },
    {
      "cell_type": "code",
      "metadata": {
        "id": "aZcrz6z7lgGm"
      },
      "source": [
        "def replace_hatted_characters(batch):\n",
        "    batch[\"sentence\"] = re.sub('[â]', 'a', batch[\"sentence\"])\n",
        "    batch[\"sentence\"] = re.sub('[î]', 'i', batch[\"sentence\"])\n",
        "    batch[\"sentence\"] = re.sub('[ô]', 'o', batch[\"sentence\"])\n",
        "    batch[\"sentence\"] = re.sub('[û]', 'u', batch[\"sentence\"])\n",
        "    return batch"
      ],
      "execution_count": null,
      "outputs": []
    },
    {
      "cell_type": "code",
      "metadata": {
        "colab": {
          "base_uri": "https://localhost:8080/"
        },
        "id": "ieGhhND5mSwI",
        "outputId": "2f5cee33-a98a-45ae-a8b4-0f10d97f4d15"
      },
      "source": [
        "zambezi_voice_train = zambezi_voice_train.map(replace_hatted_characters)\n",
        "zambezi_voice_test = zambezi_voice_test.map(replace_hatted_characters)"
      ],
      "execution_count": null,
      "outputs": [
        {
          "name": "stderr",
          "output_type": "stream",
          "text": [
            "Loading cached processed dataset at /root/.cache/huggingface/datasets/common_voice/tr/6.1.0/f7a9d973839b7706e9e281c19b7e512f31badf3c0fdbd21c671f3c4bf9acf3b9/cache-42d8bb33221ffcb6.arrow\n",
            "Loading cached processed dataset at /root/.cache/huggingface/datasets/common_voice/tr/6.1.0/f7a9d973839b7706e9e281c19b7e512f31badf3c0fdbd21c671f3c4bf9acf3b9/cache-7feed192f520d0a3.arrow\n"
          ]
        }
      ]
    },
    {
      "cell_type": "markdown",
      "metadata": {
        "id": "3ORHDb2Th2TW"
      },
      "source": [
        "In CTC, it is common to classify speech chunks into letters, so we will do the same here. \n",
        "Let's extract all distinct letters of the training and test data and build our vocabulary from this set of letters.\n",
        "\n",
        "We write a mapping function that concatenates all transcriptions into one long transcription and then transforms the string into a set of chars. \n",
        "It is important to pass the argument `batched=True` to the `map(...)` function so that the mapping function has access to all transcriptions at once."
      ]
    },
    {
      "cell_type": "code",
      "metadata": {
        "id": "LwCshNbbeRZR"
      },
      "source": [
        "def extract_all_chars(batch):\n",
        "  all_text = \" \".join(batch[\"sentence\"])\n",
        "  vocab = list(set(all_text))\n",
        "  return {\"vocab\": [vocab], \"all_text\": [all_text]}"
      ],
      "execution_count": null,
      "outputs": []
    },
    {
      "cell_type": "code",
      "metadata": {
        "colab": {
          "base_uri": "https://localhost:8080/",
          "height": 81,
          "referenced_widgets": [
            "ce8a5f3023f44fb4b0af674ca8d2a0e3",
            "98a96aaacbe149388758c37c0a480aef",
            "f51144fbeef646cc8bbfff48e22f3344",
            "a5723f8e0e994fed9b548868a1b12e87",
            "690626ff285e453bbe87acf0b0585fd0",
            "2410906e97ab4ccfa6ee30d0118e477e",
            "243ac9dce14d481f8ade345cae89c0b7",
            "e0b7d267f3c244b9bcd61dbdfdc21dd8",
            "e7fb775a195a4013b030d65359e9d022",
            "2dad33a603fe44fa9a9850ba2ff55b96",
            "f9bce895f3cf42caaf6a8918b1856818",
            "3d50c7e047944ec8b0cf3df139864a23",
            "3d94fc3761fa4f13b95f8b649ecb5223",
            "61eb01d96c0a4463a1973b4ca7b520e7",
            "2feeaac843c949788834e254d3625ce7",
            "13575a6f61114c3882fe30158d4aa5fc",
            "d9d5aadc4ab749fcadff70645208446e",
            "7791a83f5c6b4f9dabe43fba44c79880",
            "cf1685bbc5ae49d8a2402c2dc027b499",
            "a821d4cf6aa845dbb3a0067ff9ff1e63",
            "7d1f166cdce5426f81a0415194e091d7",
            "0551737a4bab48878b4f1e103cf225af"
          ]
        },
        "id": "_m6uUjjcfbjH",
        "outputId": "8877c78e-c5a9-46f0-f1b2-883836f29bb3"
      },
      "source": [
        "vocab_train = zambezi_voice_train.map(extract_all_chars, batched=True, batch_size=-1, keep_in_memory=True, remove_columns=zambezi_voice_train.column_names)\n",
        "vocab_test = zambezi_voice_test.map(extract_all_chars, batched=True, batch_size=-1, keep_in_memory=True, remove_columns=zambezi_voice_test.column_names)"
      ],
      "execution_count": null,
      "outputs": [
        {
          "output_type": "display_data",
          "data": {
            "text/plain": [
              "  0%|          | 0/1 [00:00<?, ?ba/s]"
            ],
            "application/vnd.jupyter.widget-view+json": {
              "version_major": 2,
              "version_minor": 0,
              "model_id": "ce8a5f3023f44fb4b0af674ca8d2a0e3"
            }
          },
          "metadata": {}
        },
        {
          "output_type": "display_data",
          "data": {
            "text/plain": [
              "  0%|          | 0/1 [00:00<?, ?ba/s]"
            ],
            "application/vnd.jupyter.widget-view+json": {
              "version_major": 2,
              "version_minor": 0,
              "model_id": "3d50c7e047944ec8b0cf3df139864a23"
            }
          },
          "metadata": {}
        }
      ]
    },
    {
      "cell_type": "markdown",
      "metadata": {
        "id": "7oVgE8RZSJNP"
      },
      "source": [
        "Now, we create the union of all distinct letters in the training dataset and test dataset and convert the resulting list into an enumerated dictionary."
      ]
    },
    {
      "cell_type": "code",
      "metadata": {
        "id": "aQfneNsmlJI0"
      },
      "source": [
        "vocab_list = list(set(vocab_train[\"vocab\"][0]) | set(vocab_test[\"vocab\"][0]))"
      ],
      "execution_count": null,
      "outputs": []
    },
    {
      "cell_type": "code",
      "metadata": {
        "colab": {
          "base_uri": "https://localhost:8080/"
        },
        "id": "_0kRndSvqaKk",
        "outputId": "7b2f2f2e-50d0-4d14-823d-b6973a6f9190"
      },
      "source": [
        "vocab_dict = {v: k for k, v in enumerate(sorted(vocab_list))}\n",
        "vocab_dict"
      ],
      "execution_count": null,
      "outputs": [
        {
          "output_type": "execute_result",
          "data": {
            "text/plain": [
              "{' ': 0,\n",
              " 'a': 1,\n",
              " 'b': 2,\n",
              " 'c': 3,\n",
              " 'd': 4,\n",
              " 'e': 5,\n",
              " 'f': 6,\n",
              " 'g': 7,\n",
              " 'h': 8,\n",
              " 'i': 9,\n",
              " 'j': 10,\n",
              " 'k': 11,\n",
              " 'l': 12,\n",
              " 'm': 13,\n",
              " 'n': 14,\n",
              " 'o': 15,\n",
              " 'p': 16,\n",
              " 'q': 17,\n",
              " 'r': 18,\n",
              " 's': 19,\n",
              " 't': 20,\n",
              " 'u': 21,\n",
              " 'v': 22,\n",
              " 'w': 23,\n",
              " 'x': 24,\n",
              " 'y': 25,\n",
              " 'z': 26}"
            ]
          },
          "metadata": {},
          "execution_count": 21
        }
      ]
    },
    {
      "cell_type": "markdown",
      "metadata": {
        "id": "JOSzbvs9SXT1"
      },
      "source": [
        "Cool, we see that all letters of the alphabet occur in the dataset (which is not really surprising) and we also extracted the special characters `\"\"` and `'`. Note that we did not exclude those special characters because: \n",
        "\n",
        "The model has to learn to predict when a word is finished or else the model prediction would always be a sequence of chars which would make it impossible to separate words from each other.\n",
        "\n",
        "One should always keep in mind that pre-processing is a very important step before training your model. E.g., we don't want our model to differentiate between `a` and `A` just because we forgot to normalize the data. The difference between `a` and `A` does not depend on the \"sound\" of the letter at all, but more on grammatical rules - *e.g.* use a capitalized letter at the beginning of the sentence. So it is sensible to remove the difference between capitalized and non-capitalized letters so that the model has an easier time learning to transcribe speech. "
      ]
    },
    {
      "cell_type": "markdown",
      "metadata": {
        "id": "b1fBRCn-TRaO"
      },
      "source": [
        "To make it clearer that `\" \"` has its own token class, we give it a more visible character `|`. In addition, we also add an \"unknown\" token so that the model can later deal with characters not encountered in Zambezi Voice's training set. "
      ]
    },
    {
      "cell_type": "code",
      "metadata": {
        "id": "npbIbBoLgaFX"
      },
      "source": [
        "vocab_dict[\"|\"] = vocab_dict[\" \"]\n",
        "del vocab_dict[\" \"]"
      ],
      "execution_count": null,
      "outputs": []
    },
    {
      "cell_type": "markdown",
      "metadata": {
        "id": "_9yCWg4Sd0cb"
      },
      "source": [
        "Finally, we also add a padding token that corresponds to CTC's \"*blank token*\". The \"blank token\" is a core component of the CTC algorithm. For more information, please take a look at the \"Alignment\" section [here](https://distill.pub/2017/ctc/)."
      ]
    },
    {
      "cell_type": "code",
      "metadata": {
        "colab": {
          "base_uri": "https://localhost:8080/"
        },
        "id": "znF0bNunsjbl",
        "outputId": "936cd077-d552-416c-e117-37b1042425f0"
      },
      "source": [
        "vocab_dict[\"[UNK]\"] = len(vocab_dict)\n",
        "vocab_dict[\"[PAD]\"] = len(vocab_dict)\n",
        "len(vocab_dict)"
      ],
      "execution_count": null,
      "outputs": [
        {
          "output_type": "execute_result",
          "data": {
            "text/plain": [
              "29"
            ]
          },
          "metadata": {},
          "execution_count": 23
        }
      ]
    },
    {
      "cell_type": "markdown",
      "metadata": {
        "id": "SFPGfet8U5sL"
      },
      "source": [
        "Cool, now our vocabulary is complete and consists of 39 tokens, which means that the linear layer that we will add on top of the pretrained XLS-R checkpoint will have an output dimension of 39."
      ]
    },
    {
      "cell_type": "markdown",
      "metadata": {
        "id": "1CujRgBNVRaD"
      },
      "source": [
        "Let's now save the vocabulary as a json file."
      ]
    },
    {
      "cell_type": "code",
      "metadata": {
        "id": "ehyUoh9vk191"
      },
      "source": [
        "import json\n",
        "with open('vocab.json', 'w') as vocab_file:\n",
        "    json.dump(vocab_dict, vocab_file)"
      ],
      "execution_count": null,
      "outputs": []
    },
    {
      "cell_type": "markdown",
      "metadata": {
        "id": "SHJDaKlIVVim"
      },
      "source": [
        "In a final step, we use the json file to load the vocabulary into an instance of the `Wav2Vec2CTCTokenizer` class."
      ]
    },
    {
      "cell_type": "code",
      "metadata": {
        "colab": {
          "base_uri": "https://localhost:8080/"
        },
        "id": "xriFGEWQkO4M",
        "outputId": "26f6c61f-e802-4095-eb06-e667ac5d4bc8"
      },
      "source": [
        "from transformers import Wav2Vec2CTCTokenizer\n",
        "\n",
        "tokenizer = Wav2Vec2CTCTokenizer.from_pretrained(\"./\", unk_token=\"[UNK]\", pad_token=\"[PAD]\", word_delimiter_token=\"|\")"
      ],
      "execution_count": null,
      "outputs": [
        {
          "output_type": "stream",
          "name": "stderr",
          "text": [
            "Special tokens have been added in the vocabulary, make sure the associated word embeddings are fine-tuned or trained.\n"
          ]
        }
      ]
    },
    {
      "cell_type": "markdown",
      "metadata": {
        "id": "KvL12DrNV4cx"
      },
      "source": [
        "If one wants to re-use the just created tokenizer with the fine-tuned model of this notebook, it is strongly advised to upload the `tokenizer` to the [🤗 Hub](https://huggingface.co/). Let's call the repo to which we will upload the files\n",
        "`\"wav2vec2-large-xlsr-turkish-demo-colab\"`:"
      ]
    },
    {
      "cell_type": "code",
      "metadata": {
        "id": "A1XApZBAF2zr"
      },
      "source": [
        "repo_name = \"xls-r-300m-nya-test\""
      ],
      "execution_count": null,
      "outputs": []
    },
    {
      "cell_type": "markdown",
      "metadata": {
        "id": "B1BiezWZF16d"
      },
      "source": [
        "and upload the tokenizer to the [🤗 Hub](https://huggingface.co/)."
      ]
    },
    {
      "cell_type": "code",
      "metadata": {
        "colab": {
          "base_uri": "https://localhost:8080/"
        },
        "id": "zytE1175GAKM",
        "outputId": "972c954b-395e-4978-a069-c88544865552"
      },
      "source": [
        "tokenizer.push_to_hub(repo_name)"
      ],
      "execution_count": null,
      "outputs": [
        {
          "output_type": "execute_result",
          "data": {
            "text/plain": [
              "CommitInfo(commit_url='https://huggingface.co/zambezivoice/xls-r-300m-nya-test/commit/6cc941411fe99d40b854e75859e4273aeb0bfff0', commit_message='Upload tokenizer', commit_description='', oid='6cc941411fe99d40b854e75859e4273aeb0bfff0', pr_url=None, pr_revision=None, pr_num=None)"
            ]
          },
          "metadata": {},
          "execution_count": 27
        }
      ]
    },
    {
      "cell_type": "markdown",
      "metadata": {
        "id": "SwQM8lH_GGuP"
      },
      "source": [
        "Great, you can see the just created repository under `https://huggingface.co/<your-username>/wav2vec2-large-xls-r-300m-tr-colab`"
      ]
    },
    {
      "cell_type": "markdown",
      "metadata": {
        "id": "mYcIiR2FQ96i"
      },
      "source": [
        "### Create `Wav2Vec2FeatureExtractor`"
      ]
    },
    {
      "cell_type": "markdown",
      "metadata": {
        "id": "Y6mDEyW719rx"
      },
      "source": [
        "Speech is a continuous signal and to be treated by computers, it first has to be discretized, which is usually called **sampling**. The sampling rate hereby plays an important role in that it defines how many data points of the speech signal are measured per second. Therefore, sampling with a higher sampling rate results in a better approximation of the *real* speech signal but also necessitates more values per second.\n",
        "\n",
        "A pretrained checkpoint expects its input data to have been sampled more or less from the same distribution as the data it was trained on. The same speech signals sampled at two different rates have a very different distribution, *e.g.*, doubling the sampling rate results in data points being twice as long. Thus, \n",
        "before fine-tuning a pretrained checkpoint of an ASR model, it is crucial to verify that the sampling rate of the data that was used to pretrain the model matches the sampling rate of the dataset used to fine-tune the model.\n",
        "\n",
        "XLS-R was pretrained on audio data of [Babel](http://www.reading.ac.uk/AcaDepts/ll/speechlab/babel/r), \n",
        "[Multilingual LibriSpeech (MLS)](https://huggingface.co/datasets/multilingual_librispeech), [Common Voice](https://huggingface.co/datasets/common_voice), [VoxPopuli](https://arxiv.org/abs/2101.00390), and [VoxLingua107](https://arxiv.org/abs/2011.12998) at a sampling rate of 16kHz. Common Voice, in its original form, has a sampling rate of 48kHz, thus we will have to downsample the fine-tuning data to 16kHz in the following.\n",
        "\n"
      ]
    },
    {
      "cell_type": "markdown",
      "metadata": {
        "id": "KuUbPW7oV-B5"
      },
      "source": [
        "A `Wav2Vec2FeatureExtractor` object requires the following parameters to be instantiated:\n",
        "\n",
        "- `feature_size`: Speech models take a sequence of feature vectors as an input. While the length of this sequence obviously varies, the feature size should not. In the case of Wav2Vec2, the feature size is 1 because the model was trained on the raw speech signal ${}^2$.\n",
        "- `sampling_rate`: The sampling rate at which the model is trained on.\n",
        "- `padding_value`: For batched inference, shorter inputs need to be padded with a specific value\n",
        "- `do_normalize`: Whether the input should be *zero-mean-unit-variance* normalized or not. Usually, speech models perform better when normalizing the input\n",
        "- `return_attention_mask`: Whether the model should make use of an `attention_mask` for batched inference. In general, XLS-R models checkpoints should **always** use the `attention_mask`."
      ]
    },
    {
      "cell_type": "code",
      "metadata": {
        "id": "kAR0-2KLkopp"
      },
      "source": [
        "from transformers import Wav2Vec2FeatureExtractor\n",
        "\n",
        "feature_extractor = Wav2Vec2FeatureExtractor(feature_size=1, sampling_rate=16000, padding_value=0.0, do_normalize=True, return_attention_mask=True)"
      ],
      "execution_count": null,
      "outputs": []
    },
    {
      "cell_type": "markdown",
      "metadata": {
        "id": "qUETetgqYC3W"
      },
      "source": [
        "Great, XLS-R's feature extraction pipeline is thereby fully defined!\n",
        "\n",
        "For improved user-friendliness, the feature extractor and tokenizer are *wrapped* into a single `Wav2Vec2Processor` class so that one only needs a `model` and `processor` object."
      ]
    },
    {
      "cell_type": "code",
      "metadata": {
        "id": "KYZtoW-tlZgl"
      },
      "source": [
        "from transformers import Wav2Vec2Processor\n",
        "\n",
        "processor = Wav2Vec2Processor(feature_extractor=feature_extractor, tokenizer=tokenizer)"
      ],
      "execution_count": null,
      "outputs": []
    },
    {
      "cell_type": "markdown",
      "metadata": {
        "id": "DrKnYuvDIoOO"
      },
      "source": [
        "Next, we can prepare the dataset."
      ]
    },
    {
      "cell_type": "markdown",
      "metadata": {
        "id": "YFmShnl7RE35"
      },
      "source": [
        "### Preprocess Data\n",
        "\n",
        "So far, we have not looked at the actual values of the speech signal but just the transcription. In addition to `sentence`, our datasets has another column name `audio`.  Let's take a look.\n"
      ]
    },
    {
      "cell_type": "markdown",
      "metadata": {
        "id": "T6ndIjHGFp0W"
      },
      "source": [
        "XLS-R expects the input in the format of a 1-dimensional array of 16 kHz. This means that the audio file has to be loaded and resampled.\n",
        "\n",
        " Thankfully, `datasets` does this automatically by calling the other column `audio`. Let try it out. "
      ]
    },
    {
      "cell_type": "code",
      "metadata": {
        "colab": {
          "base_uri": "https://localhost:8080/",
          "height": 35
        },
        "id": "qj_z5Zc3GAs9",
        "outputId": "1920c61c-182f-4a19-88de-0fed3d469c46"
      },
      "source": [
        "zambezi_voice_train[0][\"audio\"]"
      ],
      "execution_count": null,
      "outputs": [
        {
          "output_type": "execute_result",
          "data": {
            "text/plain": [
              "'/content/zambezi-voice/nyanja/nya/audio/221102-102320_nya_510_elicit_0.wav'"
            ],
            "application/vnd.google.colaboratory.intrinsic+json": {
              "type": "string"
            }
          },
          "metadata": {},
          "execution_count": 32
        }
      ]
    },
    {
      "cell_type": "markdown",
      "metadata": {
        "id": "WUUTgI1bGHW-"
      },
      "source": [
        "Great, we can see that the audio file has automatically been loaded. This is thanks to the new [`\"Audio\"` feature](https://huggingface.co/docs/datasets/package_reference/main_classes.html?highlight=audio#datasets.Audio) introduced in `datasets == 4.13.3`, which loads and resamples audio files on-the-fly upon calling.\n",
        "\n",
        "In the example above we can see that the audio data is loaded with a sampling rate of 48kHz whereas 16kHz are expected by the model. We can set the audio feature to the correct sampling rate by making use of [`cast_column`](https://huggingface.co/docs/datasets/package_reference/main_classes.html?highlight=cast_column#datasets.DatasetDict.cast_column):"
      ]
    },
    {
      "cell_type": "code",
      "metadata": {
        "id": "rrv65aj7G95i"
      },
      "source": [
        "zambezi_voice_train = zambezi_voice_train.cast_column(\"audio\", Audio(sampling_rate=16_000))\n",
        "zambezi_voice_test = zambezi_voice_test.cast_column(\"audio\", Audio(sampling_rate=16_000))"
      ],
      "execution_count": null,
      "outputs": []
    },
    {
      "cell_type": "markdown",
      "metadata": {
        "id": "PcnO4x-NGBEi"
      },
      "source": [
        "Let's take a look at `\"audio\"` again."
      ]
    },
    {
      "cell_type": "code",
      "metadata": {
        "colab": {
          "base_uri": "https://localhost:8080/"
        },
        "id": "aKtkc1o_HWHC",
        "outputId": "f13220c9-6e47-4159-efb1-7224283a260c"
      },
      "source": [
        "zambezi_voice_train[0][\"audio\"]"
      ],
      "execution_count": null,
      "outputs": [
        {
          "output_type": "execute_result",
          "data": {
            "text/plain": [
              "{'path': '/content/zambezi-voice/nyanja/nya/audio/221102-102320_nya_510_elicit_0.wav',\n",
              " 'array': array([ 0.        ,  0.        ,  0.        , ..., -0.00338745,\n",
              "         0.00234985,  0.00933838], dtype=float32),\n",
              " 'sampling_rate': 16000}"
            ]
          },
          "metadata": {},
          "execution_count": 35
        }
      ]
    },
    {
      "cell_type": "markdown",
      "metadata": {
        "id": "SOckzFd4Mbzq"
      },
      "source": [
        "This seemed to have worked! Let's listen to a couple of audio files to better understand the dataset and verify that the audio was correctly loaded. \n",
        "\n",
        "**Note**: *You can click the following cell a couple of times to listen to different speech samples.*"
      ]
    },
    {
      "cell_type": "code",
      "metadata": {
        "colab": {
          "base_uri": "https://localhost:8080/",
          "height": 92
        },
        "id": "dueM6U7Ev0OA",
        "outputId": "f538a11d-c7a3-42a2-c445-83a7735b23d4"
      },
      "source": [
        "import IPython.display as ipd\n",
        "import numpy as np\n",
        "import random\n",
        "\n",
        "rand_int = random.randint(0, len(zambezi_voice_train)-1)\n",
        "\n",
        "print(zambezi_voice_train[rand_int][\"sentence\"])\n",
        "ipd.Audio(data=zambezi_voice_train[rand_int][\"audio\"][\"array\"], autoplay=True, rate=16000)"
      ],
      "execution_count": null,
      "outputs": [
        {
          "output_type": "stream",
          "name": "stdout",
          "text": [
            "bambo wina wachikulire wovala nsalu zoluka akuphunzira kuluka muholo \n"
          ]
        },
        {
          "output_type": "execute_result",
          "data": {
            "text/plain": [
              "<IPython.lib.display.Audio object>"
            ],
            "text/html": [
              "\n",
              "                <audio  controls=\"controls\" autoplay=\"autoplay\">\n",
              "                    <source src=\"data:audio/wav;base64,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\" type=\"audio/wav\" />\n",
              "                    Your browser does not support the audio element.\n",
              "                </audio>\n",
              "              "
            ]
          },
          "metadata": {},
          "execution_count": 36
        }
      ]
    },
    {
      "cell_type": "markdown",
      "metadata": {
        "id": "gY8m3vARHYTa"
      },
      "source": [
        "It seems like the data is now correctly loaded and resampled. "
      ]
    },
    {
      "cell_type": "markdown",
      "metadata": {
        "id": "1MaL9J2dNVtG"
      },
      "source": [
        "It can be heard, that the speakers change along with their speaking rate, accent, and background environment, etc. Overall, the recordings sound acceptably clear though, which is to be expected from a crowd-sourced read speech corpus.\n",
        "\n",
        "Let's do a final check that the data is correctly prepared, by printing the shape of the speech input, its transcription, and the corresponding sampling rate.\n",
        "\n",
        "**Note**: *You can click the following cell a couple of times to verify multiple samples.*"
      ]
    },
    {
      "cell_type": "code",
      "metadata": {
        "colab": {
          "base_uri": "https://localhost:8080/"
        },
        "id": "1Po2g7YPuRTx",
        "outputId": "39ce9ed2-5404-4213-db40-b791b44b876d"
      },
      "source": [
        "rand_int = random.randint(0, len(zambezi_voice_train)-1)\n",
        "\n",
        "print(\"Target text:\", zambezi_voice_train[rand_int][\"sentence\"])\n",
        "print(\"Input array shape:\", zambezi_voice_train[rand_int][\"audio\"][\"array\"].shape)\n",
        "print(\"Sampling rate:\", zambezi_voice_train[rand_int][\"audio\"][\"sampling_rate\"])"
      ],
      "execution_count": null,
      "outputs": [
        {
          "output_type": "stream",
          "name": "stdout",
          "text": [
            "Target text: mayi wovala chipewa chake amapereka zizindikiro ziwiri zamtendere pamene mwamuna pafupi naye akuwomba m manja ndipo mkazi kumbuyo kwake akukweza manja ake \n",
            "Input array shape: (198561,)\n",
            "Sampling rate: 16000\n"
          ]
        }
      ]
    },
    {
      "cell_type": "markdown",
      "metadata": {
        "id": "M9teZcSwOBJ4"
      },
      "source": [
        "Good! Everything looks fine - the data is a 1-dimensional array, the sampling rate always corresponds to 16kHz, and the target text is normalized."
      ]
    },
    {
      "cell_type": "markdown",
      "metadata": {
        "id": "k3Pbn5WvOYZF"
      },
      "source": [
        "Finally, we can leverage `Wav2Vec2Processor` to process the data to the format expected by `Wav2Vec2ForCTC` for training. To do so let's make use of Dataset's [`map(...)`](https://huggingface.co/docs/datasets/package_reference/main_classes.html?highlight=map#datasets.DatasetDict.map) function.\n",
        "\n",
        "First, we load and resample the audio data, simply by calling `batch[\"audio\"]`.\n",
        "Second, we extract the `input_values` from the loaded audio file. In our case, the `Wav2Vec2Processor` only normalizes the data. For other speech models, however, this step can include more complex feature extraction, such as [Log-Mel feature extraction](https://en.wikipedia.org/wiki/Mel-frequency_cepstrum). \n",
        "Third, we encode the transcriptions to label ids.\n",
        "\n",
        "**Note**: This mapping function is a good example of how the `Wav2Vec2Processor` class should be used. In \"normal\" context, calling `processor(...)` is redirected to `Wav2Vec2FeatureExtractor`'s call method. When wrapping the processor into the `as_target_processor` context, however, the same method is redirected to `Wav2Vec2CTCTokenizer`'s call method.\n",
        "For more information please check the [docs](https://huggingface.co/transformers/master/model_doc/wav2vec2.html#transformers.Wav2Vec2Processor.__call__)."
      ]
    },
    {
      "cell_type": "code",
      "metadata": {
        "id": "eJY7I0XAwe9p"
      },
      "source": [
        "def prepare_dataset(batch):\n",
        "    audio = batch[\"audio\"]\n",
        "\n",
        "    # batched output is \"un-batched\"\n",
        "    batch[\"input_values\"] = processor(audio[\"array\"], sampling_rate=audio[\"sampling_rate\"]).input_values[0]\n",
        "    batch[\"input_length\"] = len(batch[\"input_values\"])\n",
        "    \n",
        "    with processor.as_target_processor():\n",
        "        batch[\"labels\"] = processor(batch[\"sentence\"]).input_ids\n",
        "    return batch"
      ],
      "execution_count": null,
      "outputs": []
    },
    {
      "cell_type": "markdown",
      "metadata": {
        "id": "q6Pg_WR3OGAP"
      },
      "source": [
        "Let's apply the data preparation function to all examples."
      ]
    },
    {
      "cell_type": "code",
      "metadata": {
        "colab": {
          "base_uri": "https://localhost:8080/",
          "height": 135,
          "referenced_widgets": [
            "afb28a89b92a427ba7d4c58f6ee01daf",
            "40dddb58c29e46eaa03359f239e61599",
            "f0a62b56f3304a0180d4806d443a1697",
            "71abe9cbdf9b420d9fa43dd78074485a",
            "b430d844036143f1994869baab40c7d9",
            "43b8eb624e40484baefe1225d4813aef",
            "d2a463dee99f4fda962a2a1083ace60e",
            "3dd0f588f8014bd2a22d614c733e1397",
            "8697d43647ed480e9560e054a2acae11",
            "38812d6b02164daa971ee26136982883",
            "c29c8869ce8f474c8fe08554fe89e553",
            "82d4f3d8182c416994953ad46881f91a",
            "fc61214d76ba4710b7a615a485b5b325",
            "4327c3417fe94b3bbe9ecb07e7075815",
            "db98d1c5c11b4f2391627662827694c7",
            "fd4e1422b07641c2a3394879becca85f",
            "ee534a78341b47329a9fd121ddce3f99",
            "be466fe9e255409db343ffd823110211",
            "88b539dbc369496a8eed284283544572",
            "fb2f2ecdf24d405abb01e50ff1defd29",
            "b453fa97f636414c89fede4392864787",
            "2b435b16b44c481f969d0589ae952aeb"
          ]
        },
        "id": "-np9xYK-wl8q",
        "outputId": "a851ea7f-3efd-48dc-ceb2-e817bfa2ff02"
      },
      "source": [
        "zambezi_voice_train = zambezi_voice_train.map(prepare_dataset, remove_columns=zambezi_voice_train.column_names)\n",
        "zambezi_voice_test = zambezi_voice_test.map(prepare_dataset, remove_columns=zambezi_voice_test.column_names)"
      ],
      "execution_count": null,
      "outputs": [
        {
          "output_type": "display_data",
          "data": {
            "text/plain": [
              "  0%|          | 0/8117 [00:00<?, ?ex/s]"
            ],
            "application/vnd.jupyter.widget-view+json": {
              "version_major": 2,
              "version_minor": 0,
              "model_id": "afb28a89b92a427ba7d4c58f6ee01daf"
            }
          },
          "metadata": {}
        },
        {
          "output_type": "stream",
          "name": "stderr",
          "text": [
            "/usr/local/lib/python3.8/dist-packages/transformers/models/wav2vec2/processing_wav2vec2.py:155: UserWarning: `as_target_processor` is deprecated and will be removed in v5 of Transformers. You can process your labels by using the argument `text` of the regular `__call__` method (either in the same call as your audio inputs, or in a separate call.\n",
            "  warnings.warn(\n"
          ]
        },
        {
          "output_type": "display_data",
          "data": {
            "text/plain": [
              "  0%|          | 0/622 [00:00<?, ?ex/s]"
            ],
            "application/vnd.jupyter.widget-view+json": {
              "version_major": 2,
              "version_minor": 0,
              "model_id": "82d4f3d8182c416994953ad46881f91a"
            }
          },
          "metadata": {}
        }
      ]
    },
    {
      "cell_type": "markdown",
      "metadata": {
        "id": "nKcEWHvKI1by"
      },
      "source": [
        "**Note**: Currently `datasets` make use of [`torchaudio`](https://pytorch.org/audio/stable/index.html) and [`librosa`](https://librosa.org/doc/latest/index.html) for audio loading and resampling. If you wish to implement your own costumized data loading/sampling, feel free to just make use of the `\"path\"` column instead and disregard the `\"audio\"` column."
      ]
    },
    {
      "cell_type": "markdown",
      "metadata": {
        "id": "24CxHd5ewI4T"
      },
      "source": [
        "Long input sequences require a lot of memory. XLS-R is based on `self-attention` the memory requirement scales quadratically with the input length for long input sequences (*cf.* with [this](https://www.reddit.com/r/MachineLearning/comments/genjvb/d_why_is_the_maximum_input_sequence_length_of/) reddit post). In case this demo crashes with an \"Out-of-memory\" error for you, you might want to uncomment the following lines to filter all sequences that are longer than 5 seconds for training."
      ]
    },
    {
      "cell_type": "code",
      "metadata": {
        "id": "tdHfbUJ_09iA"
      },
      "source": [
        "#max_input_length_in_sec = 5.0\n",
        "#common_voice_train = common_voice_train.filter(lambda x: x < max_input_length_in_sec * processor.feature_extractor.sampling_rate, input_columns=[\"input_length\"])"
      ],
      "execution_count": null,
      "outputs": []
    },
    {
      "cell_type": "markdown",
      "metadata": {
        "id": "1ZWDCCKqwcfS"
      },
      "source": [
        "Awesome, now we are ready to start training!"
      ]
    },
    {
      "cell_type": "markdown",
      "metadata": {
        "id": "gYlQkKVoRUos"
      },
      "source": [
        "## Training\n",
        "\n",
        "The data is processed so that we are ready to start setting up the training pipeline. We will make use of 🤗's [Trainer](https://huggingface.co/transformers/master/main_classes/trainer.html?highlight=trainer) for which we essentially need to do the following:\n",
        "\n",
        "- Define a data collator. In contrast to most NLP models, XLS-R has a much larger input length than output length. *E.g.*, a sample of input length 50000 has an output length of no more than 100. Given the large input sizes, it is much more efficient to pad the training batches dynamically meaning that all training samples should only be padded to the longest sample in their batch and not the overall longest sample. Therefore, fine-tuning XLS-R requires a special padding data collator, which we will define below\n",
        "\n",
        "- Evaluation metric. During training, the model should be evaluated on the word error rate. We should define a `compute_metrics` function accordingly\n",
        "\n",
        "- Load a pretrained checkpoint. We need to load a pretrained checkpoint and configure it correctly for training.\n",
        "\n",
        "- Define the training configuration.\n",
        "\n",
        "After having fine-tuned the model, we will correctly evaluate it on the test data and verify that it has indeed learned to correctly transcribe speech."
      ]
    },
    {
      "cell_type": "markdown",
      "metadata": {
        "id": "Slk403unUS91"
      },
      "source": [
        "### Set-up Trainer\n",
        "\n",
        "Let's start by defining the data collator. The code for the data collator was copied from [this example](https://github.com/huggingface/transformers/blob/7e61d56a45c19284cfda0cee8995fb552f6b1f4e/examples/pytorch/speech-recognition/run_speech_recognition_ctc.py#L219).\n",
        "\n",
        "Without going into too many details, in contrast to the common data collators, this data collator treats the `input_values` and `labels` differently and thus applies to separate padding functions on them (again making use of XLS-R processor's context manager). This is necessary because in speech input and output are of different modalities meaning that they should not be treated by the same padding function.\n",
        "Analogous to the common data collators, the padding tokens in the labels with `-100` so that those tokens are **not** taken into account when computing the loss."
      ]
    },
    {
      "cell_type": "code",
      "metadata": {
        "id": "tborvC9hx88e"
      },
      "source": [
        "import torch\n",
        "\n",
        "from dataclasses import dataclass, field\n",
        "from typing import Any, Dict, List, Optional, Union\n",
        "\n",
        "@dataclass\n",
        "class DataCollatorCTCWithPadding:\n",
        "    \"\"\"\n",
        "    Data collator that will dynamically pad the inputs received.\n",
        "    Args:\n",
        "        processor (:class:`~transformers.Wav2Vec2Processor`)\n",
        "            The processor used for proccessing the data.\n",
        "        padding (:obj:`bool`, :obj:`str` or :class:`~transformers.tokenization_utils_base.PaddingStrategy`, `optional`, defaults to :obj:`True`):\n",
        "            Select a strategy to pad the returned sequences (according to the model's padding side and padding index)\n",
        "            among:\n",
        "            * :obj:`True` or :obj:`'longest'`: Pad to the longest sequence in the batch (or no padding if only a single\n",
        "              sequence if provided).\n",
        "            * :obj:`'max_length'`: Pad to a maximum length specified with the argument :obj:`max_length` or to the\n",
        "              maximum acceptable input length for the model if that argument is not provided.\n",
        "            * :obj:`False` or :obj:`'do_not_pad'` (default): No padding (i.e., can output a batch with sequences of\n",
        "              different lengths).\n",
        "    \"\"\"\n",
        "\n",
        "    processor: Wav2Vec2Processor\n",
        "    padding: Union[bool, str] = True\n",
        "\n",
        "    def __call__(self, features: List[Dict[str, Union[List[int], torch.Tensor]]]) -> Dict[str, torch.Tensor]:\n",
        "        # split inputs and labels since they have to be of different lenghts and need\n",
        "        # different padding methods\n",
        "        input_features = [{\"input_values\": feature[\"input_values\"]} for feature in features]\n",
        "        label_features = [{\"input_ids\": feature[\"labels\"]} for feature in features]\n",
        "\n",
        "        batch = self.processor.pad(\n",
        "            input_features,\n",
        "            padding=self.padding,\n",
        "            return_tensors=\"pt\",\n",
        "        )\n",
        "        with self.processor.as_target_processor():\n",
        "            labels_batch = self.processor.pad(\n",
        "                label_features,\n",
        "                padding=self.padding,\n",
        "                return_tensors=\"pt\",\n",
        "            )\n",
        "\n",
        "        # replace padding with -100 to ignore loss correctly\n",
        "        labels = labels_batch[\"input_ids\"].masked_fill(labels_batch.attention_mask.ne(1), -100)\n",
        "\n",
        "        batch[\"labels\"] = labels\n",
        "\n",
        "        return batch"
      ],
      "execution_count": null,
      "outputs": []
    },
    {
      "cell_type": "code",
      "metadata": {
        "id": "lbQf5GuZyQ4_"
      },
      "source": [
        "data_collator = DataCollatorCTCWithPadding(processor=processor, padding=True)"
      ],
      "execution_count": null,
      "outputs": []
    },
    {
      "cell_type": "markdown",
      "metadata": {
        "id": "xO-Zdj-5cxXp"
      },
      "source": [
        "Next, the evaluation metric is defined. As mentioned earlier, the \n",
        "predominant metric in ASR is the word error rate (WER), hence we will use it in this notebook as well."
      ]
    },
    {
      "cell_type": "code",
      "metadata": {
        "colab": {
          "base_uri": "https://localhost:8080/",
          "height": 103,
          "referenced_widgets": [
            "0b4a3dbc2e754645b93939985449f5ca",
            "b9dbb0f19dda4424a85f284e7c23d43f",
            "421845ae9bc042ab8ad164c9acb5429c",
            "fc416554b2fe497db0c5530d61341047",
            "c3ac1bd0050349a4bad8a5dca2642e1f",
            "7dd05810dd2147d8bf3830ea299cab0b",
            "8c892b36187045b284c3c87ee0dc419f",
            "facc5f3a0aef41708e239cceb9b94520",
            "bcabda77e1f64bab9bce69f10a865b0e",
            "ec23f8b687834bb493e939f142116bd7",
            "660b9bb5d0d5454881bc71f65d2799e7"
          ]
        },
        "id": "9Xsux2gmyXso",
        "outputId": "6527bf75-85ae-4e9b-df32-a56f9a4c2717"
      },
      "source": [
        "wer_metric = load_metric(\"wer\")"
      ],
      "execution_count": null,
      "outputs": [
        {
          "output_type": "stream",
          "name": "stderr",
          "text": [
            "<ipython-input-42-605de035dfd7>:1: FutureWarning: load_metric is deprecated and will be removed in the next major version of datasets. Use 'evaluate.load' instead, from the new library 🤗 Evaluate: https://huggingface.co/docs/evaluate\n",
            "  wer_metric = load_metric(\"wer\")\n"
          ]
        },
        {
          "output_type": "display_data",
          "data": {
            "text/plain": [
              "Downloading builder script:   0%|          | 0.00/1.90k [00:00<?, ?B/s]"
            ],
            "application/vnd.jupyter.widget-view+json": {
              "version_major": 2,
              "version_minor": 0,
              "model_id": "0b4a3dbc2e754645b93939985449f5ca"
            }
          },
          "metadata": {}
        }
      ]
    },
    {
      "cell_type": "markdown",
      "metadata": {
        "id": "E1qZU5p-deqB"
      },
      "source": [
        "The model will return a sequence of logit vectors:\n",
        "$\\mathbf{y}_1, \\ldots, \\mathbf{y}_m$ with $\\mathbf{y}_1 = f_{\\theta}(x_1, \\ldots, x_n)[0]$ and $n >> m$.\n",
        "\n",
        "A logit vector $\\mathbf{y}_1$ contains the log-odds for each word in the vocabulary we defined earlier, thus $\\text{len}(\\mathbf{y}_i) =$ `config.vocab_size`. We are interested in the most likely prediction of the model and thus take the `argmax(...)` of the logits. Also, we transform the encoded labels back to the original string by replacing `-100` with the `pad_token_id` and decoding the ids while making sure that consecutive tokens are **not** grouped to the same token in CTC style ${}^1$."
      ]
    },
    {
      "cell_type": "code",
      "metadata": {
        "id": "1XZ-kjweyTy_"
      },
      "source": [
        "def compute_metrics(pred):\n",
        "    pred_logits = pred.predictions\n",
        "    pred_ids = np.argmax(pred_logits, axis=-1)\n",
        "\n",
        "    pred.label_ids[pred.label_ids == -100] = processor.tokenizer.pad_token_id\n",
        "\n",
        "    pred_str = processor.batch_decode(pred_ids)\n",
        "    # we do not want to group tokens when computing the metrics\n",
        "    label_str = processor.batch_decode(pred.label_ids, group_tokens=False)\n",
        "\n",
        "    wer = wer_metric.compute(predictions=pred_str, references=label_str)\n",
        "\n",
        "    return {\"wer\": wer}"
      ],
      "execution_count": null,
      "outputs": []
    },
    {
      "cell_type": "markdown",
      "metadata": {
        "id": "Xmgrx4bRwLIH"
      },
      "source": [
        "Now, we can load the pretrained checkpoint of [Wav2Vec2-XLS-R-300M](https://huggingface.co/facebook/wav2vec2-xls-r-300m). The tokenizer's `pad_token_id` must be to define the model's `pad_token_id` or in the case of `Wav2Vec2ForCTC` also CTC's *blank token* ${}^2$. To save GPU memory, we enable PyTorch's [gradient checkpointing](https://pytorch.org/docs/stable/checkpoint.html) and also set the loss reduction to \"*mean*\".\n",
        "\n",
        "Because the dataset is quite small (~6h of training data) and because Common Voice is quite noisy, fine-tuning Facebook's [wav2vec2-xls-r-300m checkpoint](https://huggingface.co/facebook/wav2vec2-xls-r-300m) seems to require some hyper-parameter tuning. Therefore, I had to play around a bit with different values for dropout, [SpecAugment](https://arxiv.org/abs/1904.08779)'s masking dropout rate, layer dropout, and the learning rate until training seemed to be stable enough. \n",
        "\n",
        "**Note**: When using this notebook to train XLS-R on another language of Common Voice those hyper-parameter settings might not work very well. Feel free to adapt those depending on your use case. "
      ]
    },
    {
      "cell_type": "code",
      "metadata": {
        "colab": {
          "base_uri": "https://localhost:8080/",
          "height": 186,
          "referenced_widgets": [
            "e2cce63d429240dfba6a20d40ea17e27",
            "9ee4c0a10d4d410494fc86cb6f7dd12d",
            "b084928aa1424a908065ae773ac34fe6",
            "512b60c68f3543f5a73b376f5fbc62a5",
            "8881a876c608414c86b35831bc8c9dbf",
            "8d3815ce04054d58979338248faf4ce2",
            "dc426388124041d49b15ebc1be5a6883",
            "81edb382605f4f828df0f187a9a5f4ad",
            "34930a8050004ae2ba3fd5657a26bf0c",
            "30d8e31c47294059958581770ae65a01",
            "de2f7f48cceb4c3e8c65855e2676493c",
            "3583995939e24b08b27be57b2efa5994",
            "b366532129cc43e390e99225dd08df15",
            "f055cdc96a784bf6a15f8b02033c2907",
            "83302983066643ef99c7c498bf454d56",
            "9b61fdd6adbf42deb805e00049ceb19e",
            "d23e649a33b54d968e9b281c9207aee7",
            "91f0843a8bba4a5982937f78342d2c00",
            "258bce1afdfe4bfeaeffbed2f0e7a673",
            "a61693cc62c842f78ca530f55049caa8",
            "f48439e92f9a431a8013f1c98b942d31",
            "3cc006acb727476aa72ab14f2ca61204"
          ]
        },
        "id": "e7cqAWIayn6w",
        "outputId": "f1dc20cd-a3a9-4e3f-954f-88954ac86bb5"
      },
      "source": [
        "from transformers import Wav2Vec2ForCTC\n",
        "\n",
        "model = Wav2Vec2ForCTC.from_pretrained(\n",
        "    \"facebook/wav2vec2-xls-r-300m\", \n",
        "    attention_dropout=0.0,\n",
        "    hidden_dropout=0.0,\n",
        "    feat_proj_dropout=0.0,\n",
        "    mask_time_prob=0.05,\n",
        "    layerdrop=0.0,\n",
        "    ctc_loss_reduction=\"mean\", \n",
        "    pad_token_id=processor.tokenizer.pad_token_id,\n",
        "    vocab_size=len(processor.tokenizer),\n",
        ")"
      ],
      "execution_count": null,
      "outputs": [
        {
          "output_type": "display_data",
          "data": {
            "text/plain": [
              "Downloading (…)lve/main/config.json:   0%|          | 0.00/1.57k [00:00<?, ?B/s]"
            ],
            "application/vnd.jupyter.widget-view+json": {
              "version_major": 2,
              "version_minor": 0,
              "model_id": "e2cce63d429240dfba6a20d40ea17e27"
            }
          },
          "metadata": {}
        },
        {
          "output_type": "display_data",
          "data": {
            "text/plain": [
              "Downloading (…)\"pytorch_model.bin\";:   0%|          | 0.00/1.27G [00:00<?, ?B/s]"
            ],
            "application/vnd.jupyter.widget-view+json": {
              "version_major": 2,
              "version_minor": 0,
              "model_id": "3583995939e24b08b27be57b2efa5994"
            }
          },
          "metadata": {}
        },
        {
          "output_type": "stream",
          "name": "stderr",
          "text": [
            "Some weights of the model checkpoint at facebook/wav2vec2-xls-r-300m were not used when initializing Wav2Vec2ForCTC: ['project_q.weight', 'quantizer.weight_proj.bias', 'project_hid.weight', 'project_q.bias', 'project_hid.bias', 'quantizer.weight_proj.weight', 'quantizer.codevectors']\n",
            "- This IS expected if you are initializing Wav2Vec2ForCTC from the checkpoint of a model trained on another task or with another architecture (e.g. initializing a BertForSequenceClassification model from a BertForPreTraining model).\n",
            "- This IS NOT expected if you are initializing Wav2Vec2ForCTC from the checkpoint of a model that you expect to be exactly identical (initializing a BertForSequenceClassification model from a BertForSequenceClassification model).\n",
            "Some weights of Wav2Vec2ForCTC were not initialized from the model checkpoint at facebook/wav2vec2-xls-r-300m and are newly initialized: ['lm_head.bias', 'lm_head.weight']\n",
            "You should probably TRAIN this model on a down-stream task to be able to use it for predictions and inference.\n"
          ]
        }
      ]
    },
    {
      "cell_type": "markdown",
      "metadata": {
        "id": "1DwR3XLSzGDD"
      },
      "source": [
        "The first component of XLS-R consists of a stack of CNN layers that are used to extract acoustically meaningful - but contextually independent - features from the raw speech signal. This part of the model has already been sufficiently trained during pretraining and as stated in the [paper](https://arxiv.org/pdf/2006.13979.pdf) does not need to be fine-tuned anymore. \n",
        "Thus, we can set the `requires_grad` to `False` for all parameters of the *feature extraction* part."
      ]
    },
    {
      "cell_type": "code",
      "metadata": {
        "id": "oGI8zObtZ3V0"
      },
      "source": [
        "model.freeze_feature_encoder()"
      ],
      "execution_count": null,
      "outputs": []
    },
    {
      "cell_type": "markdown",
      "metadata": {
        "id": "lD4aGhQM0K-D"
      },
      "source": [
        "In a final step, we define all parameters related to training. \n",
        "To give more explanation on some of the parameters:\n",
        "- `group_by_length` makes training more efficient by grouping training samples of similar input length into one batch. This can significantly speed up training time by heavily reducing the overall number of useless padding tokens that are passed through the model\n",
        "- `learning_rate` and `weight_decay` were heuristically tuned until fine-tuning has become stable. Note that those parameters strongly depend on the Common Voice dataset and might be suboptimal for other speech datasets.\n",
        "\n",
        "For more explanations on other parameters, one can take a look at the [docs](https://huggingface.co/transformers/master/main_classes/trainer.html?highlight=trainer#trainingarguments).\n",
        "\n",
        "During training, a checkpoint will be uploaded asynchronously to the hub every 400 training steps. It allows you to also play around with the demo widget even while your model is still training.\n",
        "\n",
        "**Note**: If one does not want to upload the model checkpoints to the hub, simply set `push_to_hub=False`."
      ]
    },
    {
      "cell_type": "code",
      "metadata": {
        "id": "KbeKSV7uzGPP"
      },
      "source": [
        "from transformers import TrainingArguments\n",
        "\n",
        "training_args = TrainingArguments(\n",
        "  output_dir=repo_name,\n",
        "  group_by_length=True,\n",
        "  per_device_train_batch_size=8,\n",
        "  gradient_accumulation_steps=2,\n",
        "  save_strategy =\"steps\",\n",
        "  evaluation_strategy=\"steps\",\n",
        "  num_train_epochs=5,\n",
        "  gradient_checkpointing=True,\n",
        "  fp16=True,\n",
        "  eval_steps=500,\n",
        "  save_steps=500,\n",
        "  max_steps=-1,\n",
        "  logging_steps=500,\n",
        "  learning_rate=3e-4,\n",
        "  warmup_steps=500,\n",
        "  save_total_limit=4,\n",
        "  load_best_model_at_end = True,\n",
        "  metric_for_best_model = 'eval_loss',\n",
        "  greater_is_better=False,\n",
        "  push_to_hub=True,\n",
        ")"
      ],
      "execution_count": null,
      "outputs": []
    },
    {
      "cell_type": "markdown",
      "metadata": {
        "id": "OsW-WZcL1ZtN"
      },
      "source": [
        "Now, all instances can be passed to Trainer and we are ready to start training!"
      ]
    },
    {
      "cell_type": "code",
      "source": [
        "from transformers import EarlyStoppingCallback\n",
        "\n",
        "training_callbacks = EarlyStoppingCallback(4)"
      ],
      "metadata": {
        "id": "GpqtbObaSHz1"
      },
      "execution_count": null,
      "outputs": []
    },
    {
      "cell_type": "code",
      "metadata": {
        "colab": {
          "base_uri": "https://localhost:8080/"
        },
        "id": "rY7vBmFCPFgC",
        "outputId": "cd95f967-53e3-42b7-d380-ee38cae6e372"
      },
      "source": [
        "from transformers import Trainer\n",
        "\n",
        "trainer = Trainer(\n",
        "    model=model,\n",
        "    data_collator=data_collator,\n",
        "    args=training_args,\n",
        "    compute_metrics=compute_metrics,\n",
        "    train_dataset=zambezi_voice_train,\n",
        "    eval_dataset=zambezi_voice_test,\n",
        "    tokenizer=processor.feature_extractor,\n",
        "    callbacks=[training_callbacks]\n",
        ")"
      ],
      "execution_count": null,
      "outputs": [
        {
          "output_type": "stream",
          "name": "stderr",
          "text": [
            "Cloning https://huggingface.co/zambezivoice/xls-r-300m-nya-test into local empty directory.\n",
            "WARNING:huggingface_hub.repository:Cloning https://huggingface.co/zambezivoice/xls-r-300m-nya-test into local empty directory.\n",
            "Using cuda_amp half precision backend\n"
          ]
        }
      ]
    },
    {
      "cell_type": "markdown",
      "metadata": {
        "id": "UoXBx1JAA0DX"
      },
      "source": [
        "\n",
        "\n",
        "---\n",
        "\n",
        "${}^1$ To allow models to become independent of the speaker rate, in CTC, consecutive tokens that are identical are simply grouped as a single token. However, the encoded labels should not be grouped when decoding since they don't correspond to the predicted tokens of the model, which is why the `group_tokens=False` parameter has to be passed. If we wouldn't pass this parameter a word like `\"hello\"` would incorrectly be encoded, and decoded as `\"helo\"`.\n",
        "\n",
        "${}^2$ The blank token allows the model to predict a word, such as `\"hello\"` by forcing it to insert the blank token between the two l's. A CTC-conform prediction of `\"hello\"` of our model would be `[PAD] [PAD] \"h\" \"e\" \"e\" \"l\" \"l\" [PAD] \"l\" \"o\" \"o\" [PAD]`."
      ]
    },
    {
      "cell_type": "markdown",
      "metadata": {
        "id": "rpvZHM1xReIW"
      },
      "source": [
        "### Training"
      ]
    },
    {
      "cell_type": "markdown",
      "metadata": {
        "id": "j-3oKSzZ1hGq"
      },
      "source": [
        "Training will take multiple hours depending on the GPU allocated to this notebook. While the trained model yields somewhat satisfying results on *Common Voice*'s test data of Turkish, it is by no means an optimally fine-tuned model. The purpose of this notebook is just to demonstrate how to fine-tune XLS-R on an ASR dataset.\n",
        "\n",
        "In case you want to use this google colab to fine-tune your model, you should make sure that your training doesn't stop due to inactivity. A simple hack to prevent this is to paste the following code into the console of this tab (*right mouse click -> inspect -> Console tab and insert code*)."
      ]
    },
    {
      "cell_type": "markdown",
      "metadata": {
        "id": "VYYAvgkW4P0m"
      },
      "source": [
        "```javascript\n",
        "function ConnectButton(){\n",
        "    console.log(\"Connect pushed\"); \n",
        "    document.querySelector(\"#top-toolbar > colab-connect-button\").shadowRoot.querySelector(\"#connect\").click() \n",
        "}\n",
        "setInterval(ConnectButton,60000);\n",
        "```"
      ]
    },
    {
      "cell_type": "markdown",
      "metadata": {
        "id": "7bGgLV2r0yvZ"
      },
      "source": [
        "Depending on what GPU was allocated to your google colab it might be possible that you are seeing an `\"out-of-memory\"` error here. In this case, it's probably best to reduce `per_device_train_batch_size` to 8 or even less and increase [`gradient_accumulation`](https://huggingface.co/transformers/master/main_classes/trainer.html#trainingarguments)."
      ]
    },
    {
      "cell_type": "code",
      "metadata": {
        "id": "9fRr9TG5pGBl"
      },
      "source": [
        "trainer.train()"
      ],
      "execution_count": null,
      "outputs": []
    },
    {
      "cell_type": "markdown",
      "metadata": {
        "id": "a9q4mgMZplr_"
      },
      "source": [
        "The training loss and validation WER go down nicely."
      ]
    },
    {
      "cell_type": "markdown",
      "metadata": {
        "id": "4Ya7WEy0pd13"
      },
      "source": [
        "You can now upload the result of the training to the 🤗 Hub, just execute this instruction:"
      ]
    },
    {
      "cell_type": "code",
      "metadata": {
        "id": "ArG1Thf6NBWm"
      },
      "source": [
        "trainer.push_to_hub()"
      ],
      "execution_count": null,
      "outputs": []
    },
    {
      "cell_type": "markdown",
      "metadata": {
        "id": "RHIVc44_fY2N"
      },
      "source": [
        "You can now share this model with all your friends, family, favorite pets: they can all load it with the identifier \"your-username/the-name-you-picked\" so for instance:"
      ]
    },
    {
      "cell_type": "markdown",
      "metadata": {
        "id": "5lWWIKyBpx1h"
      },
      "source": [
        "```python\n",
        "from transformers import AutoModelForCTC, Wav2Vec2Processor\n",
        "\n",
        "model = AutoModelForCTC.from_pretrained(\"zambezivoice/<ADD FINETUNED MODEL ON HF>\")\n",
        "processor = Wav2Vec2Processor.from_pretrained(\"zambezivoice/<ADD FINETUNED MODEL ON HF>\")\n",
        "```"
      ]
    },
    {
      "cell_type": "markdown",
      "metadata": {
        "id": "pmi1cX0fRBit"
      },
      "source": [
        "For more examples of how XLS-R can be fine-tuned, please take a look at the [official speech recognition examples](https://github.com/huggingface/transformers/tree/master/examples/pytorch/speech-recognition#examples)."
      ]
    },
    {
      "cell_type": "markdown",
      "metadata": {
        "id": "L8b8Qkoy3KyS"
      },
      "source": [
        "### Evaluation\n",
        "\n",
        "As a final check, let's load the model and verify that it indeed has learned to transcribe Turkish speech.\n",
        "\n",
        "Let's first load the pretrained checkpoint."
      ]
    },
    {
      "cell_type": "code",
      "metadata": {
        "colab": {
          "background_save": true
        },
        "id": "R351I9IQp_9D"
      },
      "source": [
        "model = Wav2Vec2ForCTC.from_pretrained(repo_name).to(\"cuda\")\n",
        "processor = Wav2Vec2Processor.from_pretrained(repo_name)"
      ],
      "execution_count": null,
      "outputs": []
    },
    {
      "cell_type": "markdown",
      "metadata": {
        "id": "jD7TZ1YS3S_K"
      },
      "source": [
        "\n",
        "Now, we will just take the first example of the test set, run it through the model and take the `argmax(...)` of the logits to retrieve the predicted token ids."
      ]
    },
    {
      "cell_type": "code",
      "metadata": {
        "colab": {
          "background_save": true
        },
        "id": "pax07TnL3WZn",
        "outputId": "867787ff-0cb7-41e9-f926-96f7b53e7134"
      },
      "source": [
        "input_dict = processor(zambezi_voice_test[0][\"input_values\"], return_tensors=\"pt\", padding=True)\n",
        "\n",
        "logits = model(input_dict.input_values.to(\"cuda\")).logits\n",
        "\n",
        "pred_ids = torch.argmax(logits, dim=-1)[0]"
      ],
      "execution_count": null,
      "outputs": [
        {
          "name": "stderr",
          "output_type": "stream",
          "text": [
            "It is strongly recommended to pass the ``sampling_rate`` argument to this function.Failing to do so can result in silent errors that might be hard to debug.\n"
          ]
        }
      ]
    },
    {
      "cell_type": "markdown",
      "metadata": {
        "id": "7nkzSQu53Zs2"
      },
      "source": [
        "We adapted `common_voice_test` quite a bit so that the dataset instance does not contain the original sentence label anymore. Thus, we re-use the original dataset to get the label of the first example."
      ]
    },
    {
      "cell_type": "code",
      "metadata": {
        "colab": {
          "background_save": true,
          "referenced_widgets": [
            "54097a6c744849128d7cc3da8aad6609",
            "b8827ecbec9e44f09216f62c1ee12840",
            "8728bb32478240b7abe576375b01e640",
            "19b8a530352a423794395979e6415bea",
            "5fc8ec04870e4bb7b63b20844c355ab6"
          ]
        },
        "id": "fe2AE-2xqKHx",
        "outputId": "1d8321b3-4f41-4d71-e74e-f33f32a7b261"
      },
      "source": [
        "test_voice_test_transcription = load_dataset(\"csv\", data_files={\"test\": \"test.tsv\"}, delimiter=\"\\t\")[\"test\"] "
      ],
      "execution_count": null,
      "outputs": [
        {
          "name": "stderr",
          "output_type": "stream",
          "text": [
            "Using custom data configuration tr-ad9f7b76efa9f3a0\n"
          ]
        },
        {
          "name": "stdout",
          "output_type": "stream",
          "text": [
            "Downloading and preparing dataset common_voice/tr (download: 592.09 MiB, generated: 2.89 MiB, post-processed: Unknown size, total: 594.98 MiB) to /root/.cache/huggingface/datasets/common_voice/tr-ad9f7b76efa9f3a0/6.1.0/f7a9d973839b7706e9e281c19b7e512f31badf3c0fdbd21c671f3c4bf9acf3b9...\n"
          ]
        },
        {
          "data": {
            "application/vnd.jupyter.widget-view+json": {
              "model_id": "54097a6c744849128d7cc3da8aad6609",
              "version_major": 2,
              "version_minor": 0
            },
            "text/plain": [
              "0 examples [00:00, ? examples/s]"
            ]
          },
          "metadata": {},
          "output_type": "display_data"
        },
        {
          "data": {
            "application/vnd.jupyter.widget-view+json": {
              "model_id": "b8827ecbec9e44f09216f62c1ee12840",
              "version_major": 2,
              "version_minor": 0
            },
            "text/plain": [
              "0 examples [00:00, ? examples/s]"
            ]
          },
          "metadata": {},
          "output_type": "display_data"
        },
        {
          "data": {
            "application/vnd.jupyter.widget-view+json": {
              "model_id": "8728bb32478240b7abe576375b01e640",
              "version_major": 2,
              "version_minor": 0
            },
            "text/plain": [
              "0 examples [00:00, ? examples/s]"
            ]
          },
          "metadata": {},
          "output_type": "display_data"
        },
        {
          "data": {
            "application/vnd.jupyter.widget-view+json": {
              "model_id": "19b8a530352a423794395979e6415bea",
              "version_major": 2,
              "version_minor": 0
            },
            "text/plain": [
              "0 examples [00:00, ? examples/s]"
            ]
          },
          "metadata": {},
          "output_type": "display_data"
        },
        {
          "data": {
            "application/vnd.jupyter.widget-view+json": {
              "model_id": "5fc8ec04870e4bb7b63b20844c355ab6",
              "version_major": 2,
              "version_minor": 0
            },
            "text/plain": [
              "0 examples [00:00, ? examples/s]"
            ]
          },
          "metadata": {},
          "output_type": "display_data"
        },
        {
          "name": "stdout",
          "output_type": "stream",
          "text": [
            "Dataset common_voice downloaded and prepared to /root/.cache/huggingface/datasets/common_voice/tr-ad9f7b76efa9f3a0/6.1.0/f7a9d973839b7706e9e281c19b7e512f31badf3c0fdbd21c671f3c4bf9acf3b9. Subsequent calls will reuse this data.\n"
          ]
        }
      ]
    },
    {
      "cell_type": "markdown",
      "metadata": {
        "id": "epu8kCQZ3h70"
      },
      "source": [
        "\n",
        "Finally, we can decode the example."
      ]
    },
    {
      "cell_type": "code",
      "metadata": {
        "colab": {
          "background_save": true
        },
        "id": "K4xWqmk_qMn0"
      },
      "source": [
        "print(\"Prediction:\")\n",
        "print(processor.decode(pred_ids))\n",
        "\n",
        "print(\"\\nReference:\")\n",
        "print(zambezi_voice_test_transcription[0][\"sentence\"].lower())"
      ],
      "execution_count": null,
      "outputs": []
    },
    {
      "cell_type": "markdown",
      "metadata": {
        "id": "HwhyoMml3oOT"
      },
      "source": [
        "Alright! The transcription can definitely be recognized from our prediction, but it is not perfect yet. Training the model a bit longer, spending more time on the data preprocessing, and especially using a language model for decoding would certainly improve the model's overall performance.\n",
        "\n",
        "For a demonstration model on a low-resource language, the results should be quite acceptable however 🤗."
      ]
    },
    {
      "cell_type": "code",
      "source": [],
      "metadata": {
        "id": "wLJcq3VQ3HMf"
      },
      "execution_count": null,
      "outputs": []
    }
  ]
}